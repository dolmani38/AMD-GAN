{
  "nbformat": 4,
  "nbformat_minor": 0,
  "metadata": {
    "kernelspec": {
      "language": "python",
      "display_name": "Python 3",
      "name": "python3"
    },
    "language_info": {
      "name": "python",
      "version": "3.7.9",
      "mimetype": "text/x-python",
      "codemirror_mode": {
        "name": "ipython",
        "version": 3
      },
      "pygments_lexer": "ipython3",
      "nbconvert_exporter": "python",
      "file_extension": ".py"
    },
    "colab": {
      "name": "Adaptive Multi-Discriminator GAN (AMD-GAN).ipynb",
      "provenance": [],
      "machine_shape": "hm",
      "include_colab_link": true
    },
    "accelerator": "GPU",
    "widgets": {
      "application/vnd.jupyter.widget-state+json": {
        "468ec419f60047b1b89b58cdb0d32b45": {
          "model_module": "@jupyter-widgets/controls",
          "model_name": "HBoxModel",
          "state": {
            "_view_name": "HBoxView",
            "_dom_classes": [],
            "_model_name": "HBoxModel",
            "_view_module": "@jupyter-widgets/controls",
            "_model_module_version": "1.5.0",
            "_view_count": null,
            "_view_module_version": "1.5.0",
            "box_style": "",
            "layout": "IPY_MODEL_556b58e0f5ee40ca8ba0c4e7af1eb3a9",
            "_model_module": "@jupyter-widgets/controls",
            "children": [
              "IPY_MODEL_3f73ef982bb34dec9ddaf9fe42ec3f46",
              "IPY_MODEL_79617c45fc194ee381adda56c0800c5a"
            ]
          }
        },
        "556b58e0f5ee40ca8ba0c4e7af1eb3a9": {
          "model_module": "@jupyter-widgets/base",
          "model_name": "LayoutModel",
          "state": {
            "_view_name": "LayoutView",
            "grid_template_rows": null,
            "right": null,
            "justify_content": null,
            "_view_module": "@jupyter-widgets/base",
            "overflow": null,
            "_model_module_version": "1.2.0",
            "_view_count": null,
            "flex_flow": null,
            "width": null,
            "min_width": null,
            "border": null,
            "align_items": null,
            "bottom": null,
            "_model_module": "@jupyter-widgets/base",
            "top": null,
            "grid_column": null,
            "overflow_y": null,
            "overflow_x": null,
            "grid_auto_flow": null,
            "grid_area": null,
            "grid_template_columns": null,
            "flex": null,
            "_model_name": "LayoutModel",
            "justify_items": null,
            "grid_row": null,
            "max_height": null,
            "align_content": null,
            "visibility": null,
            "align_self": null,
            "height": null,
            "min_height": null,
            "padding": null,
            "grid_auto_rows": null,
            "grid_gap": null,
            "max_width": null,
            "order": null,
            "_view_module_version": "1.2.0",
            "grid_template_areas": null,
            "object_position": null,
            "object_fit": null,
            "grid_auto_columns": null,
            "margin": null,
            "display": null,
            "left": null
          }
        },
        "3f73ef982bb34dec9ddaf9fe42ec3f46": {
          "model_module": "@jupyter-widgets/controls",
          "model_name": "FloatProgressModel",
          "state": {
            "_view_name": "ProgressView",
            "style": "IPY_MODEL_c102f898d48f4609be3a763791b0d2ed",
            "_dom_classes": [],
            "description": "",
            "_model_name": "FloatProgressModel",
            "bar_style": "success",
            "max": 170498071,
            "_view_module": "@jupyter-widgets/controls",
            "_model_module_version": "1.5.0",
            "value": 170498071,
            "_view_count": null,
            "_view_module_version": "1.5.0",
            "orientation": "horizontal",
            "min": 0,
            "description_tooltip": null,
            "_model_module": "@jupyter-widgets/controls",
            "layout": "IPY_MODEL_deee79717c6a46dbb0c3b5e401a2ec76"
          }
        },
        "79617c45fc194ee381adda56c0800c5a": {
          "model_module": "@jupyter-widgets/controls",
          "model_name": "HTMLModel",
          "state": {
            "_view_name": "HTMLView",
            "style": "IPY_MODEL_dc582ee3589f4396acbf3584dbca8bbe",
            "_dom_classes": [],
            "description": "",
            "_model_name": "HTMLModel",
            "placeholder": "​",
            "_view_module": "@jupyter-widgets/controls",
            "_model_module_version": "1.5.0",
            "value": " 170499072/? [00:13&lt;00:00, 12339358.87it/s]",
            "_view_count": null,
            "_view_module_version": "1.5.0",
            "description_tooltip": null,
            "_model_module": "@jupyter-widgets/controls",
            "layout": "IPY_MODEL_7affdf91722e481a95642603bbe568b6"
          }
        },
        "c102f898d48f4609be3a763791b0d2ed": {
          "model_module": "@jupyter-widgets/controls",
          "model_name": "ProgressStyleModel",
          "state": {
            "_view_name": "StyleView",
            "_model_name": "ProgressStyleModel",
            "description_width": "initial",
            "_view_module": "@jupyter-widgets/base",
            "_model_module_version": "1.5.0",
            "_view_count": null,
            "_view_module_version": "1.2.0",
            "bar_color": null,
            "_model_module": "@jupyter-widgets/controls"
          }
        },
        "deee79717c6a46dbb0c3b5e401a2ec76": {
          "model_module": "@jupyter-widgets/base",
          "model_name": "LayoutModel",
          "state": {
            "_view_name": "LayoutView",
            "grid_template_rows": null,
            "right": null,
            "justify_content": null,
            "_view_module": "@jupyter-widgets/base",
            "overflow": null,
            "_model_module_version": "1.2.0",
            "_view_count": null,
            "flex_flow": null,
            "width": null,
            "min_width": null,
            "border": null,
            "align_items": null,
            "bottom": null,
            "_model_module": "@jupyter-widgets/base",
            "top": null,
            "grid_column": null,
            "overflow_y": null,
            "overflow_x": null,
            "grid_auto_flow": null,
            "grid_area": null,
            "grid_template_columns": null,
            "flex": null,
            "_model_name": "LayoutModel",
            "justify_items": null,
            "grid_row": null,
            "max_height": null,
            "align_content": null,
            "visibility": null,
            "align_self": null,
            "height": null,
            "min_height": null,
            "padding": null,
            "grid_auto_rows": null,
            "grid_gap": null,
            "max_width": null,
            "order": null,
            "_view_module_version": "1.2.0",
            "grid_template_areas": null,
            "object_position": null,
            "object_fit": null,
            "grid_auto_columns": null,
            "margin": null,
            "display": null,
            "left": null
          }
        },
        "dc582ee3589f4396acbf3584dbca8bbe": {
          "model_module": "@jupyter-widgets/controls",
          "model_name": "DescriptionStyleModel",
          "state": {
            "_view_name": "StyleView",
            "_model_name": "DescriptionStyleModel",
            "description_width": "",
            "_view_module": "@jupyter-widgets/base",
            "_model_module_version": "1.5.0",
            "_view_count": null,
            "_view_module_version": "1.2.0",
            "_model_module": "@jupyter-widgets/controls"
          }
        },
        "7affdf91722e481a95642603bbe568b6": {
          "model_module": "@jupyter-widgets/base",
          "model_name": "LayoutModel",
          "state": {
            "_view_name": "LayoutView",
            "grid_template_rows": null,
            "right": null,
            "justify_content": null,
            "_view_module": "@jupyter-widgets/base",
            "overflow": null,
            "_model_module_version": "1.2.0",
            "_view_count": null,
            "flex_flow": null,
            "width": null,
            "min_width": null,
            "border": null,
            "align_items": null,
            "bottom": null,
            "_model_module": "@jupyter-widgets/base",
            "top": null,
            "grid_column": null,
            "overflow_y": null,
            "overflow_x": null,
            "grid_auto_flow": null,
            "grid_area": null,
            "grid_template_columns": null,
            "flex": null,
            "_model_name": "LayoutModel",
            "justify_items": null,
            "grid_row": null,
            "max_height": null,
            "align_content": null,
            "visibility": null,
            "align_self": null,
            "height": null,
            "min_height": null,
            "padding": null,
            "grid_auto_rows": null,
            "grid_gap": null,
            "max_width": null,
            "order": null,
            "_view_module_version": "1.2.0",
            "grid_template_areas": null,
            "object_position": null,
            "object_fit": null,
            "grid_auto_columns": null,
            "margin": null,
            "display": null,
            "left": null
          }
        },
        "d50711dc3efe4ea7891c8513d5449537": {
          "model_module": "@jupyter-widgets/controls",
          "model_name": "HBoxModel",
          "state": {
            "_view_name": "HBoxView",
            "_dom_classes": [],
            "_model_name": "HBoxModel",
            "_view_module": "@jupyter-widgets/controls",
            "_model_module_version": "1.5.0",
            "_view_count": null,
            "_view_module_version": "1.5.0",
            "box_style": "",
            "layout": "IPY_MODEL_e05f4c5db22a4361bb2496c3d1300280",
            "_model_module": "@jupyter-widgets/controls",
            "children": [
              "IPY_MODEL_8e8d70986c914bfba94b60c473934522",
              "IPY_MODEL_9a8cb108426a4028963d4b844dc95382"
            ]
          }
        },
        "e05f4c5db22a4361bb2496c3d1300280": {
          "model_module": "@jupyter-widgets/base",
          "model_name": "LayoutModel",
          "state": {
            "_view_name": "LayoutView",
            "grid_template_rows": null,
            "right": null,
            "justify_content": null,
            "_view_module": "@jupyter-widgets/base",
            "overflow": null,
            "_model_module_version": "1.2.0",
            "_view_count": null,
            "flex_flow": null,
            "width": null,
            "min_width": null,
            "border": null,
            "align_items": null,
            "bottom": null,
            "_model_module": "@jupyter-widgets/base",
            "top": null,
            "grid_column": null,
            "overflow_y": null,
            "overflow_x": null,
            "grid_auto_flow": null,
            "grid_area": null,
            "grid_template_columns": null,
            "flex": null,
            "_model_name": "LayoutModel",
            "justify_items": null,
            "grid_row": null,
            "max_height": null,
            "align_content": null,
            "visibility": null,
            "align_self": null,
            "height": null,
            "min_height": null,
            "padding": null,
            "grid_auto_rows": null,
            "grid_gap": null,
            "max_width": null,
            "order": null,
            "_view_module_version": "1.2.0",
            "grid_template_areas": null,
            "object_position": null,
            "object_fit": null,
            "grid_auto_columns": null,
            "margin": null,
            "display": null,
            "left": null
          }
        },
        "8e8d70986c914bfba94b60c473934522": {
          "model_module": "@jupyter-widgets/controls",
          "model_name": "FloatProgressModel",
          "state": {
            "_view_name": "ProgressView",
            "style": "IPY_MODEL_831945d6a76a40efa042034c6c3627c5",
            "_dom_classes": [],
            "description": "100%",
            "_model_name": "FloatProgressModel",
            "bar_style": "success",
            "max": 108857766,
            "_view_module": "@jupyter-widgets/controls",
            "_model_module_version": "1.5.0",
            "value": 108857766,
            "_view_count": null,
            "_view_module_version": "1.5.0",
            "orientation": "horizontal",
            "min": 0,
            "description_tooltip": null,
            "_model_module": "@jupyter-widgets/controls",
            "layout": "IPY_MODEL_4cb4fea74fbe4856be92688dcb96e0a5"
          }
        },
        "9a8cb108426a4028963d4b844dc95382": {
          "model_module": "@jupyter-widgets/controls",
          "model_name": "HTMLModel",
          "state": {
            "_view_name": "HTMLView",
            "style": "IPY_MODEL_831792157ffa438bac828dd55c896b46",
            "_dom_classes": [],
            "description": "",
            "_model_name": "HTMLModel",
            "placeholder": "​",
            "_view_module": "@jupyter-widgets/controls",
            "_model_module_version": "1.5.0",
            "value": " 104M/104M [00:06&lt;00:00, 16.7MB/s]",
            "_view_count": null,
            "_view_module_version": "1.5.0",
            "description_tooltip": null,
            "_model_module": "@jupyter-widgets/controls",
            "layout": "IPY_MODEL_4baefd37902d4537969c3035ceb839dc"
          }
        },
        "831945d6a76a40efa042034c6c3627c5": {
          "model_module": "@jupyter-widgets/controls",
          "model_name": "ProgressStyleModel",
          "state": {
            "_view_name": "StyleView",
            "_model_name": "ProgressStyleModel",
            "description_width": "initial",
            "_view_module": "@jupyter-widgets/base",
            "_model_module_version": "1.5.0",
            "_view_count": null,
            "_view_module_version": "1.2.0",
            "bar_color": null,
            "_model_module": "@jupyter-widgets/controls"
          }
        },
        "4cb4fea74fbe4856be92688dcb96e0a5": {
          "model_module": "@jupyter-widgets/base",
          "model_name": "LayoutModel",
          "state": {
            "_view_name": "LayoutView",
            "grid_template_rows": null,
            "right": null,
            "justify_content": null,
            "_view_module": "@jupyter-widgets/base",
            "overflow": null,
            "_model_module_version": "1.2.0",
            "_view_count": null,
            "flex_flow": null,
            "width": null,
            "min_width": null,
            "border": null,
            "align_items": null,
            "bottom": null,
            "_model_module": "@jupyter-widgets/base",
            "top": null,
            "grid_column": null,
            "overflow_y": null,
            "overflow_x": null,
            "grid_auto_flow": null,
            "grid_area": null,
            "grid_template_columns": null,
            "flex": null,
            "_model_name": "LayoutModel",
            "justify_items": null,
            "grid_row": null,
            "max_height": null,
            "align_content": null,
            "visibility": null,
            "align_self": null,
            "height": null,
            "min_height": null,
            "padding": null,
            "grid_auto_rows": null,
            "grid_gap": null,
            "max_width": null,
            "order": null,
            "_view_module_version": "1.2.0",
            "grid_template_areas": null,
            "object_position": null,
            "object_fit": null,
            "grid_auto_columns": null,
            "margin": null,
            "display": null,
            "left": null
          }
        },
        "831792157ffa438bac828dd55c896b46": {
          "model_module": "@jupyter-widgets/controls",
          "model_name": "DescriptionStyleModel",
          "state": {
            "_view_name": "StyleView",
            "_model_name": "DescriptionStyleModel",
            "description_width": "",
            "_view_module": "@jupyter-widgets/base",
            "_model_module_version": "1.5.0",
            "_view_count": null,
            "_view_module_version": "1.2.0",
            "_model_module": "@jupyter-widgets/controls"
          }
        },
        "4baefd37902d4537969c3035ceb839dc": {
          "model_module": "@jupyter-widgets/base",
          "model_name": "LayoutModel",
          "state": {
            "_view_name": "LayoutView",
            "grid_template_rows": null,
            "right": null,
            "justify_content": null,
            "_view_module": "@jupyter-widgets/base",
            "overflow": null,
            "_model_module_version": "1.2.0",
            "_view_count": null,
            "flex_flow": null,
            "width": null,
            "min_width": null,
            "border": null,
            "align_items": null,
            "bottom": null,
            "_model_module": "@jupyter-widgets/base",
            "top": null,
            "grid_column": null,
            "overflow_y": null,
            "overflow_x": null,
            "grid_auto_flow": null,
            "grid_area": null,
            "grid_template_columns": null,
            "flex": null,
            "_model_name": "LayoutModel",
            "justify_items": null,
            "grid_row": null,
            "max_height": null,
            "align_content": null,
            "visibility": null,
            "align_self": null,
            "height": null,
            "min_height": null,
            "padding": null,
            "grid_auto_rows": null,
            "grid_gap": null,
            "max_width": null,
            "order": null,
            "_view_module_version": "1.2.0",
            "grid_template_areas": null,
            "object_position": null,
            "object_fit": null,
            "grid_auto_columns": null,
            "margin": null,
            "display": null,
            "left": null
          }
        }
      }
    }
  },
  "cells": [
    {
      "cell_type": "markdown",
      "metadata": {
        "id": "view-in-github",
        "colab_type": "text"
      },
      "source": [
        "<a href=\"https://colab.research.google.com/github/dolmani38/AMD-GAN/blob/main/Adaptive%20Multi-Discriminator%20GAN%20(AMD-GAN)_0529.ipynb\" target=\"_parent\"><img src=\"https://colab.research.google.com/assets/colab-badge.svg\" alt=\"Open In Colab\"/></a>"
      ]
    },
    {
      "cell_type": "markdown",
      "metadata": {
        "id": "GkQCxNatSIOk"
      },
      "source": [
        "# Multi-Discriminator GAN\n"
      ]
    },
    {
      "cell_type": "markdown",
      "metadata": {
        "id": "EZjIW9VwyjDf"
      },
      "source": [
        "ABSTRACT\n",
        "\n",
        "----\n"
      ]
    },
    {
      "cell_type": "markdown",
      "metadata": {
        "id": "c20I_OEErmP9"
      },
      "source": [
        "# 3. Related works\n",
        "\n",
        "두개 이상의 discriminator를 사용하는 GAN 연구에 대하여 알아본다.\n",
        "\n",
        "어떤 목적으로 복수의 discriminator를 사용하고 그 효과는 무엇인지 알아본다."
      ]
    },
    {
      "cell_type": "markdown",
      "metadata": {
        "id": "_uFOIbzcFagq"
      },
      "source": [
        "## 1) N개의 discriminator를 활용한 연구 \n",
        "\n",
        "Generative adversarial networks (Goodfellow et al. (2014))\n",
        "\n",
        "Generator를 multi로 한 연구들...\n",
        "\n",
        "(1) Q. Hoang, T. Dinh Nguyen, T. Le, and D. Phung, “Multi-Generator Generative Adversarial Nets,” ArXiv e-prints, Aug. 2017.\n",
        "\n",
        "(2) Multi-Agent Diverse Generative Adversarial Networks\n",
        "\n",
        "Federated learning의 한 지류가 될수도 있을 것...\n",
        "\n",
        "(1) H. B. McMahan, E. Moore, D. Ramage, and B. A. y Arcas, “Federated learning of deep networks using model averaging,” CoRR, vol. abs/1602.05629, 2016."
      ]
    },
    {
      "cell_type": "markdown",
      "metadata": {
        "id": "fa-0-i84rqoX"
      },
      "source": [
        "## 2) Automatic Image Colorization based on Multi-Discriminators Generative Adversarial Networks [품질향상]\n",
        "\n",
        "GAN은 흑백의 이미지를 입력하여 Color화 된 이미지를 생성해 낼 수 있다.\n",
        "본 논문은 두개의 discriminator를 이용하여 더 produces\n",
        "more realistic quality results.\n",
        "\n",
        "Different from conventional GAN network architecture,\n",
        "Park et al. [13] (S.-J. Park, H. Son, S. Cho, K.-S. Hong, and S. Lee, “Srfeat: Single image super-resolution with feature discrimination,” in Proceedings of the European Conference on Computer Vision, 2018, pp. 439–455.) introduce architecture based on combination of one generator associated with two discriminators. For colorization task, we propose an extended model, illustrated in Fig.1, which uses two discriminators: <font color='red'><b>an image discriminator Di and a feature discriminator Df</b> </font>. The first one discriminates real images (RGB) from colorized images by inspecting their pixel values, while the second discriminates real images from colorized ones by inspecting their feature maps, noted respectively\n",
        "VGG(y) and VGG(G(x)) .\n",
        "\n",
        "본 논문의 Proposed Loss functions 중 GAN에 대한 Loss은 다음과 같다.\n",
        "\n",
        "$$ L_{M-dis}(G,D_i,D_f) = \\lambda_iL_{GAN}(G,D_i) + \\lambda_fL_{GAN}(G,D_f)  $$\n",
        "where lambda_i and lambda_f denote a defined weighting factors\n",
        "\n",
        "실험에 있어서도 lambda_i and lambda_f 의 값을 특정 값을 설정하여 실험 하였다.\n",
        "그 값은 최적의 값이 였을까??"
      ]
    },
    {
      "cell_type": "markdown",
      "metadata": {
        "id": "rxfz7tKoDcZQ"
      },
      "source": [
        "## 3) UMLE: Unsupervised Multi-discriminator Network for Low Light Enhancement [품질 향상]\n",
        "\n",
        "Low-light image enhancement, such as recovering color and texture details from low-light images, is a complex and vital task. For automated driving, low-light scenarios will have serious implications for vision-based applications. To address this problem, we propose a real-time unsupervised generative adversarial network (GAN) containing  <font color='red'><b>multiple discriminators, i.e. a multi-scale discriminator, a texture discriminator, and a color discriminator.</b></font>\n",
        "\n",
        "본 논문에서 loss function 은 Adversarial loss + Cycle loss + Color loss + Preserving Loss + Reconstruction loss 로 구성된다.\n",
        "\n",
        "$$ L_{all} = \\omega_1L_{adv}+\\omega_2L_{cyc}+\\omega_3L_{color}+\\omega_4L_{pre}+\\omega_5L_{idt}$$ \n",
        "\n",
        "하지만 각각의 omega는 huristic하게 특정 지었다. 최적화된 값인가??"
      ]
    },
    {
      "cell_type": "markdown",
      "metadata": {
        "id": "Jbt0ApbS8V_Q"
      },
      "source": [
        "## 4) GENERATIVE MULTI-ADVERSARIAL NETWORKS [품질 향상+mode collapse]\n",
        "\n",
        "N개의 복수 discriminator를 사용하여 안정적으로 더 빠르게 GAN 학습을 할 수 있다. 또한 mode collapse에도 robust 한 특성을 보인다.\n",
        "\n",
        "본 논문에서는 loss function을 three classical Pythagorean means 을 응용하여 정의하였다.\n",
        "\n",
        "$$ AM_{soft}(V, \\lambda) = \\sum_{i}^N \\omega_iV_i $$\n",
        "$$ GM_{soft}(V, \\lambda) = -exp(\\sum_{i}^N \\omega_ilog(-V_i)) $$\n",
        "$$ HM_{soft}(V, \\lambda) = (\\sum_{i}^N \\omega_iV_i^{-1})^{-1} $$\n",
        "\n",
        "하지만, 논문에서는 omega에 대하여 다루지 않았다.\n",
        "저 omega는 어떻게 최적화 할 수 있겠는가?\n",
        "\n"
      ]
    },
    {
      "cell_type": "markdown",
      "metadata": {
        "id": "t5qpgtDUySyC"
      },
      "source": [
        "## 5) Dual Discriminator Generative Adversarial Nets [mode collapse]\n",
        "\n",
        "GAN에서 발생하는 치명적인 mode collapse (https://developers.google.com/machine-learning/gan/problems) 현상을 개선하기 위해 두개의 discriminator를 사용한다. - dual discriminator generative adversarial network (D2GAN)\n",
        "\n",
        "it combines <font color='red'><b>the Kullback-Leibler (KL) and reverse KL divergences</b></font> into a unified objective function, thus it exploits the complementary statistical properties from these divergences to effectively diversify the estimated density in capturing multi-modes.\n",
        "\n",
        "본 논문에서 제안하는 D2GAN의 목적함수는 다음과 같다.\n",
        "\n",
        "$$ \\min_{G} \\max_{D_1,D_2} J (G,D_1,D_2) = \\alpha \\times E_{x \\sim P_{data}} [logD_1 (x)] + E_{z \\sim P_z} [-D_1 (G(z))] + E_{x \\sim P_{data}}[-D_2 (x)] + \\beta \\times E_{z \\sim P_z} [logD_2 (G(z))] $$\n",
        "\n",
        "여기서 alpha, beta는 hyperparameter로서, 본 논문의 실험에서는 다양한 값을 대입하여 각각의 성능을 확인하였다.\n",
        "\n",
        "이렇게 값을 찾아야만 하는가?"
      ]
    },
    {
      "cell_type": "markdown",
      "metadata": {
        "id": "qBQHO9hOBho-"
      },
      "source": [
        "## 6) MD-GAN: Multi-Discriminator Generative Adversarial Networks for Distributed Datasets [성능 향상]\n",
        "\n",
        "we address the problem of distributing GANs so that they are able to train over datasets that are spread on multiple workers. MD-GAN is exposed as the first solution for this problem: we propose a novel learning procedure for GANs\n",
        "so that they fit this distributed setup. We then compare the performance of MD-GAN to an adapted version of Federated Learning to GANs, using the MNIST and CIFAR10 datasets."
      ]
    },
    {
      "cell_type": "markdown",
      "metadata": {
        "id": "FPUM8QvQCWzi"
      },
      "source": [
        "## 7) ParallelWasserstein Generative Adversarial Nets with Multiple Discriminators [성능 향상]\n",
        "\n",
        "In this paper, we solve the computation cost problem by speeding up the Wasserstein GANs from a welldesigned communication efficient parallel architecture. 그리고 이것을 Multiple Discriminators 로 구성하였다."
      ]
    },
    {
      "cell_type": "markdown",
      "metadata": {
        "id": "LjztFvs812EB"
      },
      "source": [
        "# 4. Proposed methods\n",
        "\n",
        "ref : https://realpython.com/python-ai-neural-network/\n",
        "\n",
        "\n",
        "\n",
        "colab 수식입력 : \n",
        "\n",
        "https://wikidocs.net/1679\n",
        "\n",
        "https://en.wikipedia.org/wiki/Help:Displaying_a_formula#Formatting_using_TeX\n",
        "\n",
        "Original GAN의 목적함수\n",
        "$$ \\min_{G}\\max_{D} V(D,G) = E_{x\\sim p_{data}(x)}[logD(x)] + E_{z\\sim p_{z}(z)}[log(1-D(G(z)))] $$\n",
        "\n",
        "Multi-Discriminator GAN은 discriminator가 각 목적에 의하여 여러개 (N개) 있다.\n",
        "MDGAN의 목적함수\n",
        "\n",
        "$$ \\min_{G}\\max_{D_{i\\sim N}} V(D_{i\\sim N},G) = \\sum_{i=1}^N \\{E_{x\\sim p_{data}(x)}[logD_i(x)] + E_{z\\sim p_{z}(z)}[log(1-D_i(G(z)))]\\} $$\n",
        "\n",
        "여기서\n",
        "\n",
        "$$ L(D_i,G) =  E_{x\\sim p_{data}(x)}[logD_i(x)] + E_{z\\sim p_{z}(z)}[log(1-D_i(G(z)))] $$\n",
        "\n",
        "이라하고 단순화 하면\n",
        "\n",
        "$$ \\min_{G}\\max_{D_{i\\sim N}} V(D_{i\\sim N},G) = \\sum_{i=1}^N L(D_i,G) $$\n",
        "\n",
        "와 같이 된다.\n",
        "\n",
        "문제점은 GAN의 특성상, 특정 Discriminator가 학습에 있어 지배적으로 loss 함수에 영향을 미치게 되어 각각의 Discriminator가 골고루 학습에 참여하지 못하고 의도하지 않은 결과를 만들게 된다. 이러한 문제점을 극복하기 위해 다음의 두가지 제안을 한다.\n",
        "\n",
        "1) 목적함수에 각 Loss 에 대한 표준편차 (standard-deviation) 를 반영하여 각 Discriminator에 대한 Loss가 상호 유사한 수준을 유지하면 학습이 진행되도록 한다.\n",
        "\n",
        "$$ \\min_{G}\\max_{D_{i\\sim N}} V(D_{i\\sim N},G) = \\sum_{i=1}^N L(D_i,G) + \\sigma(L(D_i,G))$$\n",
        "\n",
        "2) 각 discriminator에 의한 loss를 제어하기 위해, adaptive discriminant factor (ADF) 를 적용하고, 학습의 진행 과정에서 이를 최적화 한다. \n",
        "\n",
        "$$ \\min_{G}\\max_{D_{i\\sim N}} V(\\lambda_{i\\sim N},D_{i\\sim N},G) = \\sum_{i=1}^N \\lambda_iL(D_i,G)$$\n",
        "\n",
        "3) 1)의 제안에 2)의 제안을 추가한다.\n",
        "\n",
        "$$ \\min_{G}\\max_{D_{i\\sim N}} V(\\lambda_{i\\sim N},D_{i\\sim N},G) = \\sum_{i=1}^N \\lambda_iL(D_i,G) + \\sigma(L(D_i,G))$$\n",
        "\n",
        "\n",
        "여기서\n",
        "\n",
        "$$ \\lambda_i = adaptive\\ discriminant \\ factor \\ for \\ discriminator \\ i  $$\n",
        "\n",
        "중요한 것은, 학습과정에서 L_i을 작게 (학습의 방향)하기 위해서는 lambda_i는 역으로 커져야 한다. 그래야, 전체 Loss function에서 비중이 증대되어 더 적극적인 학습이 이루어 지게 된다. 따라서, lambda_i의 최적화 방향은 기존의 gradient decent와 반대 방향이 되어야 한다.\n",
        "\n",
        "$$ \\lambda_i^{t+1} = \\lambda_i^t + \\gamma \\nabla V(\\lambda_{i\\sim N}^t,D_{i\\sim N},G)$$"
      ]
    },
    {
      "cell_type": "markdown",
      "metadata": {
        "id": "K87VNBbeRLFF"
      },
      "source": [
        "#5. Experiment\n",
        "\n"
      ]
    },
    {
      "cell_type": "markdown",
      "metadata": {
        "id": "vGovNR_uVJFB"
      },
      "source": [
        "실험은 CIFAR-10의 GAN 생성에서, N개의 Discriminator를 사용하며, 위의 3가지 제안을 각각 적용하여 Inception score 를 측정한다\n",
        "\n",
        "https://machinelearningmastery.com/how-to-implement-the-inception-score-from-scratch-for-evaluating-generated-images/\n",
        "\n",
        "https://github.com/hvy/chainer-inception-score\n",
        "\n",
        "https://colab.research.google.com/github/ssundar6087/vision-and-words/blob/master/_notebooks/2020-05-01-DCGAN-CIFAR10.ipynb\n",
        "\n",
        "https://pytorch.org/tutorials/beginner/dcgan_faces_tutorial.html\n",
        "\n"
      ]
    },
    {
      "cell_type": "markdown",
      "metadata": {
        "id": "uJelZOUbelwt"
      },
      "source": [
        "## Requirements"
      ]
    },
    {
      "cell_type": "code",
      "metadata": {
        "colab": {
          "base_uri": "https://localhost:8080/"
        },
        "id": "JQhaYsGRCxhZ",
        "outputId": "4f59a12a-b31c-4a6b-f8bc-70807a133c2d"
      },
      "source": [
        "\n",
        "if True:\n",
        "    from google.colab import drive\n",
        "    drive.mount('/content/drive')"
      ],
      "execution_count": 1,
      "outputs": [
        {
          "output_type": "stream",
          "text": [
            "Mounted at /content/drive\n"
          ],
          "name": "stdout"
        }
      ]
    },
    {
      "cell_type": "code",
      "metadata": {
        "colab": {
          "base_uri": "https://localhost:8080/"
        },
        "id": "PuCPVP4wetwa",
        "outputId": "fd534ea6-5ebd-4531-993a-76fec8c48164"
      },
      "source": [
        "from __future__ import print_function\n",
        "import argparse\n",
        "import random # to set the python random seed\n",
        "%matplotlib inline\n",
        "import os\n",
        "import numpy as np\n",
        "import matplotlib.pyplot as plt\n",
        "import matplotlib.animation as animation\n",
        "from IPython.display import HTML\n",
        "import torch\n",
        "import torch.nn as nn\n",
        "import torch.nn.functional as F\n",
        "import torch.nn.parallel\n",
        "import torch.backends.cudnn as cudnn\n",
        "import torch.utils.data\n",
        "import torchvision.utils as vutils\n",
        "import torch.optim as optim\n",
        "from torchvision import datasets, transforms\n",
        "# Ignore excessive warnings\n",
        "import logging\n",
        "logging.propagate = False \n",
        "logging.getLogger().setLevel(logging.ERROR)\n",
        "\n",
        "# Set random seed for reproducibility\n",
        "manualSeed = 42\n",
        "random.seed(manualSeed)\n",
        "torch.manual_seed(manualSeed)\n",
        "\n",
        "# WandB – Import the wandb library\n",
        "#import wandb\n",
        "#wandb.login()\n",
        "#wandb.init(project=\"dcgan\") # Change the project name based on your W & B account"
      ],
      "execution_count": 2,
      "outputs": [
        {
          "output_type": "execute_result",
          "data": {
            "text/plain": [
              "<torch._C.Generator at 0x7f2c317273d0>"
            ]
          },
          "metadata": {
            "tags": []
          },
          "execution_count": 2
        }
      ]
    },
    {
      "cell_type": "markdown",
      "metadata": {
        "id": "88tiJ_fGezW5"
      },
      "source": [
        "## Parameters of Interest\n",
        "Note that the Pytorch tutorial [referenced below](https://pytorch.org/tutorials/beginner/dcgan_faces_tutorial.html) is designed for the **Celebrity faces** dataset and produces `64 x 64` images. I've tweaked the network architecture to produce `32 x 32` images as corresponding to the **CIFAR-10** dataset. The parameters below reflect the same. "
      ]
    },
    {
      "cell_type": "code",
      "metadata": {
        "id": "PH2Syb9yewfR"
      },
      "source": [
        "# Number of workers for dataloader\n",
        "workers = 2\n",
        "\n",
        "# Batch size during training\n",
        "batch_size = 128\n",
        "\n",
        "# Spatial size of training images. All images will be resized to this\n",
        "#   size using a transformer.\n",
        "image_size = 32\n",
        "\n",
        "# Number of channels in the training images. For color images this is 3\n",
        "nc = 3\n",
        "\n",
        "# Size of z latent vector (i.e. size of generator input)\n",
        "nz = 100\n",
        "\n",
        "# Size of feature maps in generator\n",
        "ngf = 64\n",
        "\n",
        "# Size of feature maps in discriminator\n",
        "ndf = 64\n",
        "\n",
        "# Number of training epochs\n",
        "num_epochs = 10\n",
        "\n",
        "# Learning rate for optimizers\n",
        "lr = 0.0002\n",
        "\n",
        "# Beta1 hyperparam for Adam optimizers\n",
        "beta1 = 0.5\n",
        "\n",
        "# Number of GPUs available. Use 0 for CPU mode.\n",
        "ngpu = 1"
      ],
      "execution_count": 3,
      "outputs": []
    },
    {
      "cell_type": "markdown",
      "metadata": {
        "id": "Q9xLvwOGe3Me"
      },
      "source": [
        "## Model Definition\n",
        "Let's define a generator and discriminator first. Weight initialization is a key factor in being able to produce a decent GAN and as per the paper, the weights are drawn from a _normal_ distribution with `0` mean and a standard-deviation of `0.02`. Also note that unlike in the original pytorch tutorial, I've removed one layer from the generator (at the end) and from the discriminator (at the beginning) to accomodate the CIFAR-10 dataset."
      ]
    },
    {
      "cell_type": "code",
      "metadata": {
        "id": "48qcc0Mke4-C"
      },
      "source": [
        "def weights_init(m):\n",
        "    classname = m.__class__.__name__\n",
        "    if classname.find('Conv') != -1:\n",
        "        nn.init.normal_(m.weight.data, 0.0, 0.02)\n",
        "    elif classname.find('BatchNorm') != -1:\n",
        "        nn.init.normal_(m.weight.data, 1.0, 0.02)\n",
        "        nn.init.constant_(m.bias.data, 0)"
      ],
      "execution_count": 4,
      "outputs": []
    },
    {
      "cell_type": "code",
      "metadata": {
        "id": "eIdITkPLe78S"
      },
      "source": [
        "# Generator\n",
        "class Generator(nn.Module):\n",
        "    def __init__(self, ngpu):\n",
        "        super(Generator, self).__init__()\n",
        "        self.ngpu = ngpu\n",
        "        self.main = nn.Sequential(\n",
        "            nn.ConvTranspose2d( nz, ngf * 8, 4, 1, 0, bias=False),\n",
        "            nn.BatchNorm2d(ngf * 8),\n",
        "            nn.ReLU(True),\n",
        "            nn.ConvTranspose2d(ngf * 8, ngf * 4, 4, 2, 1, bias=False),\n",
        "            nn.BatchNorm2d(ngf * 4),\n",
        "            nn.ReLU(True),\n",
        "            nn.ConvTranspose2d( ngf * 4, ngf * 2, 4, 2, 1, bias=False),\n",
        "            nn.BatchNorm2d(ngf * 2),\n",
        "            nn.ReLU(True),\n",
        "            nn.ConvTranspose2d( ngf * 2, nc, 4, 2, 1, bias=False),\n",
        "            nn.Tanh()\n",
        "        )\n",
        "\n",
        "    def forward(self, input):\n",
        "        return self.main(input)"
      ],
      "execution_count": 5,
      "outputs": []
    },
    {
      "cell_type": "code",
      "metadata": {
        "id": "aS-V8MgMe8wu"
      },
      "source": [
        "# Discriminator\n",
        "class Discriminator(nn.Module):\n",
        "    def __init__(self, ngpu):\n",
        "        super(Discriminator, self).__init__()\n",
        "        self.ngpu = ngpu\n",
        "        self.main = nn.Sequential(\n",
        "            nn.Conv2d(nc, ndf, 4, 2, 1, bias=False),\n",
        "            nn.LeakyReLU(0.2, inplace=True),\n",
        "            nn.Conv2d(ndf, ndf * 2, 4, 2, 1, bias=False),\n",
        "            nn.BatchNorm2d(ndf * 2),\n",
        "            nn.LeakyReLU(0.2, inplace=True),\n",
        "            nn.Conv2d(ndf * 2, ndf * 4, 4, 2, 1, bias=False),\n",
        "            nn.BatchNorm2d(ndf * 4),\n",
        "            nn.LeakyReLU(0.2, inplace=True),\n",
        "            nn.Conv2d(ndf * 4, 1, 4, 1, 0, bias=False),\n",
        "            nn.Sigmoid()\n",
        "        )\n",
        "\n",
        "    def forward(self, input):\n",
        "        return self.main(input)"
      ],
      "execution_count": 6,
      "outputs": []
    },
    {
      "cell_type": "markdown",
      "metadata": {
        "id": "TgG3zeQhe-5e"
      },
      "source": [
        "## Defining the Training Function\n",
        "The training function first trains the discriminator and then the generator as shown below. Note that by setting the real label value to `0.9` and the fake label value to `0.1`, I've applied label smoothing which has been shown to improve the results produced by the GAN."
      ]
    },
    {
      "cell_type": "code",
      "metadata": {
        "id": "NYj9LfvufAuK"
      },
      "source": [
        "def train(gen, disc, device, dataloader, optimizerG, optimizerD, criterion, epoch, iters):\n",
        "    gen.train()\n",
        "    disc.train()\n",
        "    img_list = []\n",
        "    fixed_noise = torch.randn(64, nz, 1, 1, device=device)\n",
        "\n",
        "    # Establish convention for real and fake labels during training (with label smoothing)\n",
        "    real_label = 0.9\n",
        "    fake_label = 0.1\n",
        "\n",
        "    d_losses = []\n",
        "    g_losses = []\n",
        "\n",
        "    for i, data in enumerate(dataloader, 0):\n",
        "\n",
        "        #*****\n",
        "        # Update Discriminator\n",
        "        #*****\n",
        "        ## Train with all-real batch\n",
        "        disc.zero_grad()\n",
        "        # Format batch\n",
        "        real_cpu = data[0].to(device)\n",
        "        b_size = real_cpu.size(0)\n",
        "        label = torch.full((b_size,), real_label, device=device)\n",
        "        # Forward pass real batch through D\n",
        "        output = disc(real_cpu).view(-1)\n",
        "        # Calculate loss on all-real batch\n",
        "        errD_real = criterion(output, label)\n",
        "        # Calculate gradients for D in backward pass\n",
        "        errD_real.backward()\n",
        "        #D_x = output.mean().item()\n",
        "\n",
        "        ## Train with all-fake batch\n",
        "        # Generate batch of latent vectors\n",
        "        noise = torch.randn(b_size, nz, 1, 1, device=device)\n",
        "        # Generate fake image batch with G\n",
        "        fake = gen(noise)\n",
        "        label.fill_(fake_label)\n",
        "        # Classify all fake batch with D\n",
        "        output = disc(fake.detach()).view(-1)\n",
        "        # Calculate D's loss on the all-fake batch\n",
        "        errD_fake = criterion(output, label)\n",
        "        # Calculate the gradients for this batch\n",
        "        errD_fake.backward()\n",
        "        #D_G_z1 = output.mean().item()\n",
        "        # Add the gradients from the all-real and all-fake batches\n",
        "        errD = errD_real + errD_fake\n",
        "        # Update D\n",
        "        optimizerD.step()\n",
        "\n",
        "        #*****\n",
        "        # Update Generator\n",
        "        #*****\n",
        "        gen.zero_grad()\n",
        "        label.fill_(real_label)  # fake labels are real for generator cost\n",
        "        # Since we just updated D, perform another forward pass of all-fake batch through D\n",
        "        output = disc(fake).view(-1)\n",
        "        # Calculate G's loss based on this output\n",
        "        errG = criterion(output, label)\n",
        "        # Calculate gradients for G\n",
        "        errG.backward()\n",
        "        #D_G_z2 = output.mean().item()\n",
        "        # Update G\n",
        "        optimizerG.step()\n",
        "\n",
        "        # Output training stats\n",
        "        if i % 50 == 0:\n",
        "            print('[%d/%d][%d/%d]\\tLoss_D: %.4f\\tLoss_G: %.4f'\n",
        "                % (epoch, num_epochs, i, len(dataloader),errD.item(), errG.item()))\n",
        "            d_losses += [errD.item()]\n",
        "            g_losses += [errG.item()]\n",
        "            \n",
        "        iters += 1\n",
        "\n",
        "    return d_losses, g_losses"
      ],
      "execution_count": 7,
      "outputs": []
    },
    {
      "cell_type": "markdown",
      "metadata": {
        "id": "rZAHrsFMfI2R"
      },
      "source": [
        "## Monitoring the Run\n",
        "Once we have all the pieces in place, all we need to do is train the model and watch it learn."
      ]
    },
    {
      "cell_type": "code",
      "metadata": {
        "colab": {
          "base_uri": "https://localhost:8080/",
          "height": 625,
          "referenced_widgets": [
            "468ec419f60047b1b89b58cdb0d32b45",
            "556b58e0f5ee40ca8ba0c4e7af1eb3a9",
            "3f73ef982bb34dec9ddaf9fe42ec3f46",
            "79617c45fc194ee381adda56c0800c5a",
            "c102f898d48f4609be3a763791b0d2ed",
            "deee79717c6a46dbb0c3b5e401a2ec76",
            "dc582ee3589f4396acbf3584dbca8bbe",
            "7affdf91722e481a95642603bbe568b6"
          ]
        },
        "id": "fkUXUZebfCYo",
        "outputId": "a87b0d7e-b1b0-4697-d901-544e5826f094"
      },
      "source": [
        "#hide-collapse\n",
        "\n",
        "#wandb.watch_called = False \n",
        "# WandB – Config is a variable that holds and saves hyperparameters and inputs\n",
        "#config = wandb.config          # Initialize config\n",
        "#config.batch_size = batch_size \n",
        "#config.epochs = num_epochs         \n",
        "#config.lr = lr              \n",
        "#config.beta1 = beta1\n",
        "#config.nz = nz          \n",
        "#config.no_cuda = False         \n",
        "#config.seed = manualSeed # random seed (default: 42)\n",
        "#config.log_interval = 10 # how many batches to wait before logging training status\n",
        "\n",
        "use_cuda = not False and torch.cuda.is_available()\n",
        "device = torch.device(\"cuda\" if use_cuda else \"cpu\")\n",
        "kwargs = {'num_workers': 1, 'pin_memory': True} if use_cuda else {}\n",
        "\n",
        "# Set random seeds and deterministic pytorch for reproducibility\n",
        "random.seed(manualSeed)       # python random seed\n",
        "torch.manual_seed(manualSeed) # pytorch random seed\n",
        "np.random.seed(manualSeed) # numpy random seed\n",
        "torch.backends.cudnn.deterministic = True\n",
        "\n",
        "# Load the dataset\n",
        "transform = transforms.Compose(\n",
        "    [transforms.Scale(32),\n",
        "     transforms.ToTensor(),\n",
        "     transforms.Normalize((0.5, 0.5, 0.5), (0.5, 0.5, 0.5))])\n",
        "\n",
        "trainset = datasets.CIFAR10(root='./data', train=True,\n",
        "                                        download=True, transform=transform)\n",
        "trainloader = torch.utils.data.DataLoader(trainset, batch_size=batch_size,\n",
        "                                            shuffle=True, num_workers=workers)\n",
        "\n",
        "# Create the generator\n",
        "netG = Generator(ngpu).to(device)\n",
        "\n",
        "do_train = True\n",
        "\n",
        "if do_train:\n",
        "\n",
        "    # Handle multi-gpu if desired\n",
        "    if (device.type == 'cuda') and (ngpu > 1):\n",
        "        netG = nn.DataParallel(netG, list(range(ngpu)))\n",
        "\n",
        "    # Apply the weights_init function to randomly initialize all weights\n",
        "    #  to mean=0, stdev=0.2.\n",
        "    netG.apply(weights_init)\n",
        "\n",
        "    # Create the Discriminator\n",
        "    netD = Discriminator(ngpu).to(device)\n",
        "\n",
        "    # Handle multi-gpu if desired\n",
        "    if (device.type == 'cuda') and (ngpu > 1):\n",
        "        netD = nn.DataParallel(netD, list(range(ngpu)))\n",
        "\n",
        "    # Apply the weights_init function to randomly initialize all weights\n",
        "    #  to mean=0, stdev=0.2.\n",
        "    netD.apply(weights_init)\n",
        "\n",
        "    # Initialize BCELoss function\n",
        "    criterion = nn.BCELoss()\n",
        "\n",
        "    # Setup Adam optimizers for both G and D\n",
        "    optimizerD = optim.Adam(netD.parameters(), lr=lr, betas=(beta1, 0.999))\n",
        "    optimizerG = optim.Adam(netG.parameters(), lr=lr, betas=(beta1, 0.999))\n",
        "\n",
        "    # WandB – wandb.watch() automatically fetches all layer dimensions, gradients, model parameters and logs them automatically to your dashboard.\n",
        "    # Using log=\"all\" log histograms of parameter values in addition to gradients\n",
        "    #wandb.watch(netG, log=\"all\")\n",
        "    #wandb.watch(netD, log=\"all\")\n",
        "    iters = 0\n",
        "    hist = {}\n",
        "    hist['D loss'] = []\n",
        "    hist['G loss'] = []\n",
        "\n",
        "    for epoch in range(1, num_epochs + 1):\n",
        "        d_losses,g_losses = train(netG, netD, device, trainloader, optimizerG, optimizerD, criterion, epoch, iters)\n",
        "        hist['D loss'] += d_losses\n",
        "        hist['G loss'] += g_losses\n",
        "        \n",
        "    # WandB – Save the model checkpoint. This automatically saves a file to the cloud and associates it with the current run.\n",
        "    torch.save(netG.state_dict(), \"/content/drive/MyDrive/AMD-GAN/CIFAR10_GAN_model/model.h5\")\n",
        "    #wandb.save('/content/drive/MyDrive/AMD-GAN/CIFAR10_GAN_model/model.h5')\n",
        "\n",
        "    gen = netG\n",
        "    gen.eval()\n",
        "\n",
        "    plt.figure(figsize=(12, 6))\n",
        "    plt.plot(hist['D loss'],label='discriminator loss')\n",
        "    plt.plot(hist['G loss'],label='generator loss')\n",
        "    plt.legend()\n",
        "    plt.show() \n",
        "\n",
        "else:\n",
        "    # Create the generator\n",
        "    gen = Generator(ngpu).to(device)\n",
        "    gen.load_state_dict(torch.load('/content/drive/MyDrive/AMD-GAN/CIFAR10_GAN_model/model.h5'))\n",
        "    gen.eval()\n"
      ],
      "execution_count": 13,
      "outputs": [
        {
          "output_type": "stream",
          "text": [
            "/usr/local/lib/python3.7/dist-packages/torchvision/transforms/transforms.py:285: UserWarning: The use of the transforms.Scale transform is deprecated, please use transforms.Resize instead.\n",
            "  warnings.warn(\"The use of the transforms.Scale transform is deprecated, \" +\n"
          ],
          "name": "stderr"
        },
        {
          "output_type": "stream",
          "text": [
            "Downloading https://www.cs.toronto.edu/~kriz/cifar-10-python.tar.gz to ./data/cifar-10-python.tar.gz\n"
          ],
          "name": "stdout"
        },
        {
          "output_type": "display_data",
          "data": {
            "application/vnd.jupyter.widget-view+json": {
              "model_id": "468ec419f60047b1b89b58cdb0d32b45",
              "version_minor": 0,
              "version_major": 2
            },
            "text/plain": [
              "HBox(children=(FloatProgress(value=0.0, max=170498071.0), HTML(value='')))"
            ]
          },
          "metadata": {
            "tags": []
          }
        },
        {
          "output_type": "stream",
          "text": [
            "\n",
            "Extracting ./data/cifar-10-python.tar.gz to ./data\n",
            "[1/10][0/391]\tLoss_D: 1.4859\tLoss_G: 2.0864\n",
            "[1/10][50/391]\tLoss_D: 0.9114\tLoss_G: 4.9007\n",
            "[1/10][100/391]\tLoss_D: 0.7773\tLoss_G: 2.8911\n",
            "[1/10][150/391]\tLoss_D: 0.7321\tLoss_G: 2.6793\n",
            "[1/10][200/391]\tLoss_D: 0.9172\tLoss_G: 2.0201\n",
            "[1/10][250/391]\tLoss_D: 0.8904\tLoss_G: 2.5761\n",
            "[1/10][300/391]\tLoss_D: 0.7412\tLoss_G: 2.5512\n"
          ],
          "name": "stdout"
        },
        {
          "output_type": "error",
          "ename": "KeyboardInterrupt",
          "evalue": "ignored",
          "traceback": [
            "\u001b[0;31m---------------------------------------------------------------------------\u001b[0m",
            "\u001b[0;31mKeyboardInterrupt\u001b[0m                         Traceback (most recent call last)",
            "\u001b[0;32m<ipython-input-13-9324a66cc347>\u001b[0m in \u001b[0;36m<module>\u001b[0;34m()\u001b[0m\n\u001b[1;32m     77\u001b[0m \u001b[0;34m\u001b[0m\u001b[0m\n\u001b[1;32m     78\u001b[0m     \u001b[0;32mfor\u001b[0m \u001b[0mepoch\u001b[0m \u001b[0;32min\u001b[0m \u001b[0mrange\u001b[0m\u001b[0;34m(\u001b[0m\u001b[0;36m1\u001b[0m\u001b[0;34m,\u001b[0m \u001b[0mnum_epochs\u001b[0m \u001b[0;34m+\u001b[0m \u001b[0;36m1\u001b[0m\u001b[0;34m)\u001b[0m\u001b[0;34m:\u001b[0m\u001b[0;34m\u001b[0m\u001b[0;34m\u001b[0m\u001b[0m\n\u001b[0;32m---> 79\u001b[0;31m         \u001b[0md_losses\u001b[0m\u001b[0;34m,\u001b[0m\u001b[0mg_losses\u001b[0m \u001b[0;34m=\u001b[0m \u001b[0mtrain\u001b[0m\u001b[0;34m(\u001b[0m\u001b[0mnetG\u001b[0m\u001b[0;34m,\u001b[0m \u001b[0mnetD\u001b[0m\u001b[0;34m,\u001b[0m \u001b[0mdevice\u001b[0m\u001b[0;34m,\u001b[0m \u001b[0mtrainloader\u001b[0m\u001b[0;34m,\u001b[0m \u001b[0moptimizerG\u001b[0m\u001b[0;34m,\u001b[0m \u001b[0moptimizerD\u001b[0m\u001b[0;34m,\u001b[0m \u001b[0mcriterion\u001b[0m\u001b[0;34m,\u001b[0m \u001b[0mepoch\u001b[0m\u001b[0;34m,\u001b[0m \u001b[0miters\u001b[0m\u001b[0;34m)\u001b[0m\u001b[0;34m\u001b[0m\u001b[0;34m\u001b[0m\u001b[0m\n\u001b[0m\u001b[1;32m     80\u001b[0m         \u001b[0mhist\u001b[0m\u001b[0;34m[\u001b[0m\u001b[0;34m'D loss'\u001b[0m\u001b[0;34m]\u001b[0m \u001b[0;34m+=\u001b[0m \u001b[0md_losses\u001b[0m\u001b[0;34m\u001b[0m\u001b[0;34m\u001b[0m\u001b[0m\n\u001b[1;32m     81\u001b[0m         \u001b[0mhist\u001b[0m\u001b[0;34m[\u001b[0m\u001b[0;34m'G loss'\u001b[0m\u001b[0;34m]\u001b[0m \u001b[0;34m+=\u001b[0m \u001b[0mg_losses\u001b[0m\u001b[0;34m\u001b[0m\u001b[0;34m\u001b[0m\u001b[0m\n",
            "\u001b[0;32m<ipython-input-7-a0b48c1d52a3>\u001b[0m in \u001b[0;36mtrain\u001b[0;34m(gen, disc, device, dataloader, optimizerG, optimizerD, criterion, epoch, iters)\u001b[0m\n\u001b[1;32m     20\u001b[0m         \u001b[0mdisc\u001b[0m\u001b[0;34m.\u001b[0m\u001b[0mzero_grad\u001b[0m\u001b[0;34m(\u001b[0m\u001b[0;34m)\u001b[0m\u001b[0;34m\u001b[0m\u001b[0;34m\u001b[0m\u001b[0m\n\u001b[1;32m     21\u001b[0m         \u001b[0;31m# Format batch\u001b[0m\u001b[0;34m\u001b[0m\u001b[0;34m\u001b[0m\u001b[0;34m\u001b[0m\u001b[0m\n\u001b[0;32m---> 22\u001b[0;31m         \u001b[0mreal_cpu\u001b[0m \u001b[0;34m=\u001b[0m \u001b[0mdata\u001b[0m\u001b[0;34m[\u001b[0m\u001b[0;36m0\u001b[0m\u001b[0;34m]\u001b[0m\u001b[0;34m.\u001b[0m\u001b[0mto\u001b[0m\u001b[0;34m(\u001b[0m\u001b[0mdevice\u001b[0m\u001b[0;34m)\u001b[0m\u001b[0;34m\u001b[0m\u001b[0;34m\u001b[0m\u001b[0m\n\u001b[0m\u001b[1;32m     23\u001b[0m         \u001b[0mb_size\u001b[0m \u001b[0;34m=\u001b[0m \u001b[0mreal_cpu\u001b[0m\u001b[0;34m.\u001b[0m\u001b[0msize\u001b[0m\u001b[0;34m(\u001b[0m\u001b[0;36m0\u001b[0m\u001b[0;34m)\u001b[0m\u001b[0;34m\u001b[0m\u001b[0;34m\u001b[0m\u001b[0m\n\u001b[1;32m     24\u001b[0m         \u001b[0mlabel\u001b[0m \u001b[0;34m=\u001b[0m \u001b[0mtorch\u001b[0m\u001b[0;34m.\u001b[0m\u001b[0mfull\u001b[0m\u001b[0;34m(\u001b[0m\u001b[0;34m(\u001b[0m\u001b[0mb_size\u001b[0m\u001b[0;34m,\u001b[0m\u001b[0;34m)\u001b[0m\u001b[0;34m,\u001b[0m \u001b[0mreal_label\u001b[0m\u001b[0;34m,\u001b[0m \u001b[0mdevice\u001b[0m\u001b[0;34m=\u001b[0m\u001b[0mdevice\u001b[0m\u001b[0;34m)\u001b[0m\u001b[0;34m\u001b[0m\u001b[0;34m\u001b[0m\u001b[0m\n",
            "\u001b[0;31mKeyboardInterrupt\u001b[0m: "
          ]
        }
      ]
    },
    {
      "cell_type": "markdown",
      "metadata": {
        "id": "ZGiD4A051QWH"
      },
      "source": [
        "## Original CIFAR10의 Inception Score"
      ]
    },
    {
      "cell_type": "code",
      "metadata": {
        "colab": {
          "base_uri": "https://localhost:8080/"
        },
        "id": "5qoIjDUf38Sz",
        "outputId": "0f111e74-e645-4123-ff06-fdac9f033234"
      },
      "source": [
        "!git clone https://github.com/sbarratt/inception-score-pytorch.git"
      ],
      "execution_count": 8,
      "outputs": [
        {
          "output_type": "stream",
          "text": [
            "Cloning into 'inception-score-pytorch'...\n",
            "remote: Enumerating objects: 43, done.\u001b[K\n",
            "remote: Counting objects: 100% (3/3), done.\u001b[K\n",
            "remote: Compressing objects: 100% (3/3), done.\u001b[K\n",
            "remote: Total 43 (delta 0), reused 1 (delta 0), pack-reused 40\u001b[K\n",
            "Unpacking objects: 100% (43/43), done.\n"
          ],
          "name": "stdout"
        }
      ]
    },
    {
      "cell_type": "code",
      "metadata": {
        "id": "VNyy0rzEgH76"
      },
      "source": [
        "import sys\n",
        "sys.path.append('/content/inception-score-pytorch')\n",
        "from inception_score import inception_score\n"
      ],
      "execution_count": 9,
      "outputs": []
    },
    {
      "cell_type": "code",
      "metadata": {
        "colab": {
          "base_uri": "https://localhost:8080/",
          "height": 192,
          "referenced_widgets": [
            "d50711dc3efe4ea7891c8513d5449537",
            "e05f4c5db22a4361bb2496c3d1300280",
            "8e8d70986c914bfba94b60c473934522",
            "9a8cb108426a4028963d4b844dc95382",
            "831945d6a76a40efa042034c6c3627c5",
            "4cb4fea74fbe4856be92688dcb96e0a5",
            "831792157ffa438bac828dd55c896b46",
            "4baefd37902d4537969c3035ceb839dc"
          ]
        },
        "id": "XXNVB1Lm3iYT",
        "outputId": "eda418e0-b063-46e5-8b34-480199b63858"
      },
      "source": [
        "\n",
        "class IgnoreLabelDataset(torch.utils.data.Dataset):\n",
        "    def __init__(self, orig):\n",
        "        self.orig = orig\n",
        "\n",
        "    def __getitem__(self, index):\n",
        "        return self.orig[index][0]\n",
        "\n",
        "    def __len__(self):\n",
        "        return len(self.orig)\n",
        "\n",
        "print(inception_score(IgnoreLabelDataset(trainset), cuda=True, batch_size=32, resize=True, splits=10))"
      ],
      "execution_count": 20,
      "outputs": [
        {
          "output_type": "stream",
          "text": [
            "Downloading: \"https://download.pytorch.org/models/inception_v3_google-1a9a5a14.pth\" to /root/.cache/torch/hub/checkpoints/inception_v3_google-1a9a5a14.pth\n"
          ],
          "name": "stderr"
        },
        {
          "output_type": "display_data",
          "data": {
            "application/vnd.jupyter.widget-view+json": {
              "model_id": "d50711dc3efe4ea7891c8513d5449537",
              "version_minor": 0,
              "version_major": 2
            },
            "text/plain": [
              "HBox(children=(FloatProgress(value=0.0, max=108857766.0), HTML(value='')))"
            ]
          },
          "metadata": {
            "tags": []
          }
        },
        {
          "output_type": "stream",
          "text": [
            "\n"
          ],
          "name": "stdout"
        },
        {
          "output_type": "stream",
          "text": [
            "/usr/local/lib/python3.7/dist-packages/torch/nn/functional.py:3458: UserWarning: Default upsampling behavior when mode=bilinear is changed to align_corners=False since 0.4.0. Please specify align_corners=True if the old behavior is desired. See the documentation of nn.Upsample for details.\n",
            "  \"See the documentation of nn.Upsample for details.\".format(mode)\n",
            "/content/inception-score-pytorch/inception_score.py:44: UserWarning: Implicit dimension choice for softmax has been deprecated. Change the call to include dim=X as an argument.\n",
            "  return F.softmax(x).data.cpu().numpy()\n"
          ],
          "name": "stderr"
        },
        {
          "output_type": "stream",
          "text": [
            "(9.672782494350129, 0.14991609152216714)\n"
          ],
          "name": "stdout"
        }
      ]
    },
    {
      "cell_type": "code",
      "metadata": {
        "id": "6vdOEBm5LWNs"
      },
      "source": [
        "\"\"\"\n",
        "Original CIFAR10의 Inception Score\n",
        "\n",
        "/usr/local/lib/python3.7/dist-packages/torch/nn/functional.py:3458: UserWarning: Default upsampling behavior when mode=bilinear is changed to align_corners=False since 0.4.0. Please specify align_corners=True if the old behavior is desired. See the documentation of nn.Upsample for details.\n",
        "  \"See the documentation of nn.Upsample for details.\".format(mode)\n",
        "/content/inception-score-pytorch/inception_score.py:44: UserWarning: Implicit dimension choice for softmax has been deprecated. Change the call to include dim=X as an argument.\n",
        "  return F.softmax(x).data.cpu().numpy()\n",
        "(9.672782457317373, 0.14991608790468258)\n",
        "\"\"\""
      ],
      "execution_count": null,
      "outputs": []
    },
    {
      "cell_type": "code",
      "metadata": {
        "colab": {
          "base_uri": "https://localhost:8080/"
        },
        "id": "ed4NvlH_CFeA",
        "outputId": "500c7edb-b66a-40be-ca7c-3d5563105b77"
      },
      "source": [
        "id = IgnoreLabelDataset(trainset)\n",
        "id[100].shape"
      ],
      "execution_count": 16,
      "outputs": [
        {
          "output_type": "execute_result",
          "data": {
            "text/plain": [
              "torch.Size([3, 32, 32])"
            ]
          },
          "metadata": {
            "tags": []
          },
          "execution_count": 16
        }
      ]
    },
    {
      "cell_type": "markdown",
      "metadata": {
        "id": "ig0vtfTYRfPv"
      },
      "source": [
        "## 생성한 image의 inception score 측정"
      ]
    },
    {
      "cell_type": "code",
      "metadata": {
        "colab": {
          "base_uri": "https://localhost:8080/"
        },
        "id": "oPC0MAIjQElY",
        "outputId": "d706324d-143b-4396-8d00-95476ad6e10b"
      },
      "source": [
        "\n",
        "eval_images = []\n",
        "for i in range(100):\n",
        "    gen_noise = torch.randn(64, nz, 1, 1, device=device)\n",
        "    with torch.no_grad():\n",
        "        fake = gen(gen_noise).detach().cpu()\n",
        "    eval_images += fake\n",
        "\n",
        "print(len(eval_images))\n",
        "print(eval_images[0].shape)\n",
        "print(inception_score(eval_images, cuda=True, batch_size=32, resize=True, splits=10))"
      ],
      "execution_count": 21,
      "outputs": [
        {
          "output_type": "stream",
          "text": [
            "6400\n",
            "torch.Size([3, 32, 32])\n"
          ],
          "name": "stdout"
        },
        {
          "output_type": "stream",
          "text": [
            "/usr/local/lib/python3.7/dist-packages/torch/nn/functional.py:3458: UserWarning: Default upsampling behavior when mode=bilinear is changed to align_corners=False since 0.4.0. Please specify align_corners=True if the old behavior is desired. See the documentation of nn.Upsample for details.\n",
            "  \"See the documentation of nn.Upsample for details.\".format(mode)\n",
            "/content/inception-score-pytorch/inception_score.py:44: UserWarning: Implicit dimension choice for softmax has been deprecated. Change the call to include dim=X as an argument.\n",
            "  return F.softmax(x).data.cpu().numpy()\n"
          ],
          "name": "stderr"
        },
        {
          "output_type": "stream",
          "text": [
            "(3.580522197034943, 0.08661039052465848)\n"
          ],
          "name": "stdout"
        }
      ]
    },
    {
      "cell_type": "markdown",
      "metadata": {
        "id": "x_jWcmWgSNsW"
      },
      "source": [
        "## 5개의 discriminator 사용"
      ]
    },
    {
      "cell_type": "code",
      "metadata": {
        "id": "L5evMQN3T3BJ"
      },
      "source": [
        "def train2(gen, discs, device, dataloader, optimizerG, criterion, epoch, iters):\n",
        "    gen.train()\n",
        "    img_list = []\n",
        "    fixed_noise = torch.randn(64, nz, 1, 1, device=device)\n",
        "\n",
        "    # Establish convention for real and fake labels during training (with label smoothing)\n",
        "    real_label = 0.9\n",
        "    fake_label = 0.1\n",
        "\n",
        "    d_losses = {}   \n",
        "    g_losses = []\n",
        "\n",
        "\n",
        "    for i, data in enumerate(dataloader, 0):\n",
        "\n",
        "        ## Train with all-real batch\n",
        "        for j,(disc,optimizerD) in enumerate(discs):\n",
        "            #*****\n",
        "            # Update Discriminator\n",
        "            #*****\n",
        "            ## Train with all-real batch\n",
        "            disc.zero_grad()\n",
        "            # Format batch\n",
        "            real_cpu = data[0].to(device)\n",
        "            b_size = real_cpu.size(0)\n",
        "            label = torch.full((b_size,), real_label, device=device)\n",
        "            # Forward pass real batch through D\n",
        "            output = disc(real_cpu).view(-1)\n",
        "            # Calculate loss on all-real batch\n",
        "            errD_real = criterion(output, label)\n",
        "            # Calculate gradients for D in backward pass\n",
        "            errD_real.backward()\n",
        "            #D_x = output.mean().item()\n",
        "\n",
        "            ## Train with all-fake batch\n",
        "            # Generate batch of latent vectors\n",
        "            noise = torch.randn(b_size, nz, 1, 1, device=device)\n",
        "            # Generate fake image batch with G\n",
        "            fake = gen(noise)\n",
        "            label.fill_(fake_label)\n",
        "            # Classify all fake batch with D\n",
        "            output = disc(fake.detach()).view(-1)\n",
        "            # Calculate D's loss on the all-fake batch\n",
        "            errD_fake = criterion(output, label)\n",
        "            # Calculate the gradients for this batch\n",
        "            errD_fake.backward()\n",
        "            #D_G_z1 = output.mean().item()\n",
        "            # Add the gradients from the all-real and all-fake batches\n",
        "            errD = errD_real + errD_fake\n",
        "            # Update D\n",
        "            optimizerD.step()\n",
        "            if j in d_losses:\n",
        "                pass\n",
        "            else:\n",
        "                d_losses[j] = []\n",
        "            d_losses[j].append(errD.item())\n",
        "\n",
        "\n",
        "\n",
        "        #*****\n",
        "        # Update Generator\n",
        "        #*****\n",
        "\n",
        "        # Generate batch of latent vectors\n",
        "        #noise = torch.randn(b_size, nz, 1, 1, device=device)\n",
        "        # Generate fake image batch with G\n",
        "        #fake = gen(noise)\n",
        "        label.fill_(real_label)  # fake labels are real for generator cost\n",
        "        errGs = []\n",
        "        for disc,optimizerD in discs:\n",
        "            # Since we just updated D, perform another forward pass of all-fake batch through D\n",
        "            output = disc(fake).view(-1)\n",
        "            # Calculate G's loss based on this output\n",
        "            errG = criterion(output, label)\n",
        "            errGs.append(errG)\n",
        "\n",
        "        # Calculate gradients for G\n",
        "        ts = torch.stack(errGs)\n",
        "        #print(ts)\n",
        "        errGs = torch.sum(ts) #+ torch.std(ts)\n",
        "        gen.zero_grad()\n",
        "        errGs.backward()\n",
        "        #D_G_z2 = errGs.item()\n",
        "        # Update G\n",
        "        optimizerG.step()\n",
        "\n",
        "        g_losses.append(errGs.item())\n",
        "        # Output training stats\n",
        "        if i % 50 == 0:\n",
        "            print('[%d/%d][%d/%d]\\tD(G(z)): %.4f'\n",
        "                % (epoch, num_epochs, i, len(dataloader),errG.item()))\n",
        "            #wandb.log({\"Gen Loss\": errGs.item()})\n",
        "\n",
        "        iters += 1\n",
        "    return d_losses,g_losses"
      ],
      "execution_count": 16,
      "outputs": []
    },
    {
      "cell_type": "code",
      "metadata": {
        "colab": {
          "base_uri": "https://localhost:8080/",
          "height": 1000
        },
        "id": "JJk8O77hSSgL",
        "outputId": "e5814046-e866-434a-911b-c6e8f0905336"
      },
      "source": [
        "# Number of training epochs\n",
        "num_epochs = 10  \n",
        "# Create the generator\n",
        "netG = Generator(ngpu).to(device)\n",
        "\n",
        "do_train = True\n",
        "\n",
        "if do_train:\n",
        "\n",
        "    # Handle multi-gpu if desired\n",
        "    if (device.type == 'cuda') and (ngpu > 1):\n",
        "        netG = nn.DataParallel(netG, list(range(ngpu)))\n",
        "\n",
        "    # Apply the weights_init function to randomly initialize all weights\n",
        "    #  to mean=0, stdev=0.2.\n",
        "    netG.apply(weights_init)\n",
        "\n",
        "    netDs = []\n",
        "    # Create the Discriminator\n",
        "    for i in range(5):\n",
        "        netD = Discriminator(ngpu).to(device)\n",
        "        # Handle multi-gpu if desired\n",
        "        if (device.type == 'cuda') and (ngpu > 1):\n",
        "            netD = nn.DataParallel(netD, list(range(ngpu)))\n",
        "        # Apply the weights_init function to randomly initialize all weights\n",
        "        #  to mean=0, stdev=0.2.\n",
        "        netD.apply(weights_init)\n",
        "\n",
        "        # Setup Adam optimizers for both G and D\n",
        "        optimizerD = optim.Adam(netD.parameters(), lr=lr, betas=(beta1, 0.999))\n",
        "\n",
        "        netDs.append((netD,optimizerD))\n",
        "\n",
        "    optimizerG = optim.Adam(netG.parameters(), lr=lr, betas=(beta1, 0.999))\n",
        "    # Initialize BCELoss function\n",
        "    criterion = nn.BCELoss()\n",
        "    iters = 0\n",
        "    hist = {}\n",
        "    hist['D1 loss'] = []\n",
        "    hist['D2 loss'] = []\n",
        "    hist['D3 loss'] = []\n",
        "    hist['D4 loss'] = []\n",
        "    hist['D5 loss'] = []\n",
        "    hist['G loss'] = []\n",
        "\n",
        "    for epoch in range(1, num_epochs + 1):\n",
        "        d_losses,g_losses = train2(netG, netDs, device, trainloader, optimizerG, criterion, epoch, iters)\n",
        "        hist['D1 loss'] += d_losses[0]\n",
        "        hist['D2 loss'] += d_losses[1]\n",
        "        hist['D3 loss'] += d_losses[2]\n",
        "        hist['D4 loss'] += d_losses[3]\n",
        "        hist['D5 loss'] += d_losses[4]\n",
        "        hist['G loss'] += g_losses\n",
        "\n",
        "    # WandB – Save the model checkpoint. This automatically saves a file to the cloud and associates it with the current run.\n",
        "    torch.save(netG.state_dict(), \"/content/drive/MyDrive/AMD-GAN/CIFAR10_GAN_model/5N_model.h5\")\n",
        "    #wandb.save('/content/drive/MyDrive/AMD-GAN/CIFAR10_GAN_model/model.h5')\n",
        "\n",
        "    gen = netG\n",
        "    gen.eval()\n",
        "\n",
        "    plt.figure(figsize=(12, 6))\n",
        "    plt.plot(hist['D1 loss'],label='discriminator1 loss')\n",
        "    plt.plot(hist['D2 loss'],label='discriminator2 loss')\n",
        "    plt.plot(hist['D3 loss'],label='discriminator3 loss')\n",
        "    plt.plot(hist['D4 loss'],label='discriminator4 loss')\n",
        "    plt.plot(hist['D5 loss'],label='discriminator5 loss')\n",
        "    #plt.plot(hist['G loss'],label='generator loss')\n",
        "    plt.legend()\n",
        "    plt.show() \n",
        "\n",
        "else:\n",
        "    # Create the generator\n",
        "    gen = Generator(ngpu).to(device)\n",
        "    gen.load_state_dict(torch.load('/content/drive/MyDrive/AMD-GAN/CIFAR10_GAN_model/5N_model.h5'))\n",
        "    gen.eval()\n"
      ],
      "execution_count": 19,
      "outputs": [
        {
          "output_type": "stream",
          "text": [
            "[1/10][0/391]\tD(G(z)): 2.0470\n",
            "[1/10][50/391]\tD(G(z)): 3.1927\n",
            "[1/10][100/391]\tD(G(z)): 2.5806\n",
            "[1/10][150/391]\tD(G(z)): 2.1984\n",
            "[1/10][200/391]\tD(G(z)): 3.1088\n",
            "[1/10][250/391]\tD(G(z)): 2.6630\n",
            "[1/10][300/391]\tD(G(z)): 2.0935\n",
            "[1/10][350/391]\tD(G(z)): 2.3742\n",
            "[2/10][0/391]\tD(G(z)): 2.0819\n",
            "[2/10][50/391]\tD(G(z)): 2.1088\n",
            "[2/10][100/391]\tD(G(z)): 3.6639\n",
            "[2/10][150/391]\tD(G(z)): 3.3308\n",
            "[2/10][200/391]\tD(G(z)): 2.1428\n",
            "[2/10][250/391]\tD(G(z)): 3.0334\n",
            "[2/10][300/391]\tD(G(z)): 2.1770\n",
            "[2/10][350/391]\tD(G(z)): 2.1361\n",
            "[3/10][0/391]\tD(G(z)): 2.0277\n",
            "[3/10][50/391]\tD(G(z)): 1.9276\n",
            "[3/10][100/391]\tD(G(z)): 1.7976\n",
            "[3/10][150/391]\tD(G(z)): 2.3147\n",
            "[3/10][200/391]\tD(G(z)): 1.8259\n",
            "[3/10][250/391]\tD(G(z)): 4.3143\n",
            "[3/10][300/391]\tD(G(z)): 1.6762\n",
            "[3/10][350/391]\tD(G(z)): 2.0451\n",
            "[4/10][0/391]\tD(G(z)): 1.8671\n",
            "[4/10][50/391]\tD(G(z)): 1.4758\n",
            "[4/10][100/391]\tD(G(z)): 1.8524\n",
            "[4/10][150/391]\tD(G(z)): 2.1679\n",
            "[4/10][200/391]\tD(G(z)): 2.1188\n",
            "[4/10][250/391]\tD(G(z)): 2.0321\n",
            "[4/10][300/391]\tD(G(z)): 2.2766\n",
            "[4/10][350/391]\tD(G(z)): 2.0449\n",
            "[5/10][0/391]\tD(G(z)): 1.3206\n",
            "[5/10][50/391]\tD(G(z)): 1.2105\n",
            "[5/10][100/391]\tD(G(z)): 1.0768\n",
            "[5/10][150/391]\tD(G(z)): 1.3014\n",
            "[5/10][200/391]\tD(G(z)): 3.0099\n",
            "[5/10][250/391]\tD(G(z)): 1.9140\n",
            "[5/10][300/391]\tD(G(z)): 1.9998\n",
            "[5/10][350/391]\tD(G(z)): 1.4393\n",
            "[6/10][0/391]\tD(G(z)): 1.7573\n",
            "[6/10][50/391]\tD(G(z)): 1.3335\n",
            "[6/10][100/391]\tD(G(z)): 1.5794\n",
            "[6/10][150/391]\tD(G(z)): 0.9129\n",
            "[6/10][200/391]\tD(G(z)): 1.3263\n",
            "[6/10][250/391]\tD(G(z)): 1.4437\n",
            "[6/10][300/391]\tD(G(z)): 1.2955\n",
            "[6/10][350/391]\tD(G(z)): 0.9997\n",
            "[7/10][0/391]\tD(G(z)): 1.4987\n",
            "[7/10][50/391]\tD(G(z)): 1.0506\n",
            "[7/10][100/391]\tD(G(z)): 1.5468\n",
            "[7/10][150/391]\tD(G(z)): 1.1325\n",
            "[7/10][200/391]\tD(G(z)): 1.7671\n",
            "[7/10][250/391]\tD(G(z)): 1.2280\n",
            "[7/10][300/391]\tD(G(z)): 1.8282\n",
            "[7/10][350/391]\tD(G(z)): 1.4894\n",
            "[8/10][0/391]\tD(G(z)): 2.0282\n",
            "[8/10][50/391]\tD(G(z)): 1.9372\n",
            "[8/10][100/391]\tD(G(z)): 1.0637\n",
            "[8/10][150/391]\tD(G(z)): 1.5411\n",
            "[8/10][200/391]\tD(G(z)): 0.9746\n",
            "[8/10][250/391]\tD(G(z)): 1.7911\n",
            "[8/10][300/391]\tD(G(z)): 0.7210\n",
            "[8/10][350/391]\tD(G(z)): 1.6004\n",
            "[9/10][0/391]\tD(G(z)): 2.1967\n",
            "[9/10][50/391]\tD(G(z)): 2.0480\n",
            "[9/10][100/391]\tD(G(z)): 0.8065\n",
            "[9/10][150/391]\tD(G(z)): 1.4413\n",
            "[9/10][200/391]\tD(G(z)): 2.2025\n",
            "[9/10][250/391]\tD(G(z)): 2.2063\n",
            "[9/10][300/391]\tD(G(z)): 1.0249\n",
            "[9/10][350/391]\tD(G(z)): 1.8212\n",
            "[10/10][0/391]\tD(G(z)): 2.2116\n",
            "[10/10][50/391]\tD(G(z)): 1.7492\n",
            "[10/10][100/391]\tD(G(z)): 1.4438\n",
            "[10/10][150/391]\tD(G(z)): 1.3994\n",
            "[10/10][200/391]\tD(G(z)): 1.8641\n",
            "[10/10][250/391]\tD(G(z)): 1.3743\n",
            "[10/10][300/391]\tD(G(z)): 1.1679\n",
            "[10/10][350/391]\tD(G(z)): 1.5978\n"
          ],
          "name": "stdout"
        },
        {
          "output_type": "display_data",
          "data": {
            "image/png": "[encoded data removed]",
            "text/plain": [
              "<Figure size 864x432 with 1 Axes>"
            ]
          },
          "metadata": {
            "tags": [],
            "needs_background": "light"
          }
        }
      ]
    },
    {
      "cell_type": "code",
      "metadata": {
        "colab": {
          "base_uri": "https://localhost:8080/"
        },
        "id": "LB2g4RrIhARg",
        "outputId": "b14bce20-f33a-43e0-bd40-85bd020da38c"
      },
      "source": [
        "eval_images = []\n",
        "for i in range(100):\n",
        "    gen_noise = torch.randn(64, nz, 1, 1, device=device)\n",
        "    with torch.no_grad():\n",
        "        fake = gen(gen_noise).detach().cpu()\n",
        "    eval_images += fake\n",
        "\n",
        "print(len(eval_images))\n",
        "print(eval_images[0].shape)\n",
        "print(inception_score(eval_images, cuda=True, batch_size=32, resize=True, splits=10))"
      ],
      "execution_count": 22,
      "outputs": [
        {
          "output_type": "stream",
          "text": [
            "6400\n",
            "torch.Size([3, 32, 32])\n"
          ],
          "name": "stdout"
        },
        {
          "output_type": "stream",
          "text": [
            "/usr/local/lib/python3.7/dist-packages/torch/nn/functional.py:3458: UserWarning: Default upsampling behavior when mode=bilinear is changed to align_corners=False since 0.4.0. Please specify align_corners=True if the old behavior is desired. See the documentation of nn.Upsample for details.\n",
            "  \"See the documentation of nn.Upsample for details.\".format(mode)\n",
            "/content/inception-score-pytorch/inception_score.py:44: UserWarning: Implicit dimension choice for softmax has been deprecated. Change the call to include dim=X as an argument.\n",
            "  return F.softmax(x).data.cpu().numpy()\n"
          ],
          "name": "stderr"
        },
        {
          "output_type": "stream",
          "text": [
            "(3.55457561333384, 0.1005287396936288)\n"
          ],
          "name": "stdout"
        }
      ]
    },
    {
      "cell_type": "code",
      "metadata": {
        "id": "iZXFxb2b7nV8"
      },
      "source": [
        "def train3(gen, discs, device, dataloader, optimizerG, criterion, epoch, iters):\n",
        "    gen.train()\n",
        "    img_list = []\n",
        "    fixed_noise = torch.randn(64, nz, 1, 1, device=device)\n",
        "\n",
        "    # Establish convention for real and fake labels during training (with label smoothing)\n",
        "    real_label = 0.9\n",
        "    fake_label = 0.1\n",
        "\n",
        "    d_losses = {}   \n",
        "    g_losses = []\n",
        "\n",
        "    for i, data in enumerate(dataloader, 0):\n",
        "\n",
        "        ## Train with all-real batch\n",
        "        for disc,optimizerD in discs:\n",
        "            #*****\n",
        "            # Update Discriminator\n",
        "            #*****\n",
        "            ## Train with all-real batch\n",
        "            disc.zero_grad()\n",
        "            # Format batch\n",
        "            real_cpu = data[0].to(device)\n",
        "            b_size = real_cpu.size(0)\n",
        "            label = torch.full((b_size,), real_label, device=device)\n",
        "            # Forward pass real batch through D\n",
        "            output = disc(real_cpu).view(-1)\n",
        "            # Calculate loss on all-real batch\n",
        "            errD_real = criterion(output, label)\n",
        "            # Calculate gradients for D in backward pass\n",
        "            errD_real.backward()\n",
        "            D_x = output.mean().item()\n",
        "\n",
        "            ## Train with all-fake batch\n",
        "            # Generate batch of latent vectors\n",
        "            noise = torch.randn(b_size, nz, 1, 1, device=device)\n",
        "            # Generate fake image batch with G\n",
        "            fake = gen(noise)\n",
        "            label.fill_(fake_label)\n",
        "            # Classify all fake batch with D\n",
        "            output = disc(fake.detach()).view(-1)\n",
        "            # Calculate D's loss on the all-fake batch\n",
        "            errD_fake = criterion(output, label)\n",
        "            # Calculate the gradients for this batch\n",
        "            errD_fake.backward()\n",
        "            D_G_z1 = output.mean().item()\n",
        "            # Add the gradients from the all-real and all-fake batches\n",
        "            errD = errD_real + errD_fake\n",
        "            # Update D\n",
        "            optimizerD.step()\n",
        "            if j in d_losses:\n",
        "                pass\n",
        "            else:\n",
        "                d_losses[j] = []\n",
        "            d_losses[j].append(errD.item())\n",
        "        #*****\n",
        "        # Update Generator\n",
        "        #*****\n",
        "\n",
        "        # Generate batch of latent vectors\n",
        "        #noise = torch.randn(b_size, nz, 1, 1, device=device)\n",
        "        # Generate fake image batch with G\n",
        "        #fake = gen(noise)\n",
        "        label.fill_(real_label)  # fake labels are real for generator cost\n",
        "        errGs = []\n",
        "        for disc,optimizerD in discs:\n",
        "            # Since we just updated D, perform another forward pass of all-fake batch through D\n",
        "            output = disc(fake).view(-1)\n",
        "            # Calculate G's loss based on this output\n",
        "            errG = criterion(output, label)\n",
        "            errGs.append(errG)\n",
        "\n",
        "        # Calculate gradients for G\n",
        "        ts = torch.stack(errGs)\n",
        "        #print(ts)\n",
        "        errGs = torch.sum(ts) + torch.std(ts)\n",
        "        gen.zero_grad()\n",
        "        errGs.backward()\n",
        "        D_G_z2 = errGs.item()\n",
        "        # Update G\n",
        "        optimizerG.step()\n",
        "        g_losses.append(errGs.item())\n",
        "\n",
        "        # Output training stats\n",
        "        if i % 50 == 0:\n",
        "            print('[%d/%d][%d/%d]\\tD(G(z)): %.4f'\n",
        "                % (epoch, num_epochs, i, len(dataloader),D_G_z2))\n",
        "            #wandb.log({\"Gen Loss\": errGs.item()})\n",
        "\n",
        "        iters += 1\n",
        "    return d_losses,g_losses"
      ],
      "execution_count": 23,
      "outputs": []
    },
    {
      "cell_type": "code",
      "metadata": {
        "colab": {
          "base_uri": "https://localhost:8080/"
        },
        "id": "9spBoUXk7rBB",
        "outputId": "d2e7abb3-97b9-4937-ce90-86067c1aba1e"
      },
      "source": [
        "# Number of training epochs\n",
        "num_epochs = 10  \n",
        "# Create the generator\n",
        "netG = Generator(ngpu).to(device)\n",
        "\n",
        "do_train = True\n",
        "\n",
        "if do_train:\n",
        "\n",
        "    # Handle multi-gpu if desired\n",
        "    if (device.type == 'cuda') and (ngpu > 1):\n",
        "        netG = nn.DataParallel(netG, list(range(ngpu)))\n",
        "\n",
        "    # Apply the weights_init function to randomly initialize all weights\n",
        "    #  to mean=0, stdev=0.2.\n",
        "    netG.apply(weights_init)\n",
        "\n",
        "    netDs = []\n",
        "    # Create the Discriminator\n",
        "    for i in range(5):\n",
        "        netD = Discriminator(ngpu).to(device)\n",
        "        # Handle multi-gpu if desired\n",
        "        if (device.type == 'cuda') and (ngpu > 1):\n",
        "            netD = nn.DataParallel(netD, list(range(ngpu)))\n",
        "        # Apply the weights_init function to randomly initialize all weights\n",
        "        #  to mean=0, stdev=0.2.\n",
        "        netD.apply(weights_init)\n",
        "\n",
        "        # Setup Adam optimizers for both G and D\n",
        "        optimizerD = optim.Adam(netD.parameters(), lr=lr, betas=(beta1, 0.999))\n",
        "\n",
        "        netDs.append((netD,optimizerD))\n",
        "\n",
        "    optimizerG = optim.Adam(netG.parameters(), lr=lr, betas=(beta1, 0.999))\n",
        "    # Initialize BCELoss function\n",
        "    criterion = nn.BCELoss()\n",
        "    iters = 0\n",
        "    hist = {}\n",
        "    hist['D1 loss'] = []\n",
        "    hist['D2 loss'] = []\n",
        "    hist['D3 loss'] = []\n",
        "    hist['D4 loss'] = []\n",
        "    hist['D5 loss'] = []\n",
        "    hist['G loss'] = []    \n",
        "    for epoch in range(1, num_epochs + 1):\n",
        "        d_losses,g_losses = train3(netG, netDs, device, trainloader, optimizerG, criterion, epoch, iters)\n",
        "        hist['D1 loss'] += d_losses[0]\n",
        "        hist['D2 loss'] += d_losses[1]\n",
        "        hist['D3 loss'] += d_losses[2]\n",
        "        hist['D4 loss'] += d_losses[3]\n",
        "        hist['D5 loss'] += d_losses[4]\n",
        "        hist['G loss'] += g_losses\n",
        "    # WandB – Save the model checkpoint. This automatically saves a file to the cloud and associates it with the current run.\n",
        "    torch.save(netG.state_dict(), \"/content/drive/MyDrive/AMD-GAN/CIFAR10_GAN_model/5N_STD_model.h5\")\n",
        "    #wandb.save('/content/drive/MyDrive/AMD-GAN/CIFAR10_GAN_model/model.h5')\n",
        "\n",
        "    gen = netG\n",
        "    gen.eval()\n",
        "\n",
        "    plt.figure(figsize=(12, 6))\n",
        "    plt.plot(hist['D1 loss'],label='discriminator1 loss')\n",
        "    plt.plot(hist['D2 loss'],label='discriminator2 loss')\n",
        "    plt.plot(hist['D3 loss'],label='discriminator3 loss')\n",
        "    plt.plot(hist['D4 loss'],label='discriminator4 loss')\n",
        "    plt.plot(hist['D5 loss'],label='discriminator5 loss')\n",
        "    #plt.plot(hist['G loss'],label='generator loss')\n",
        "    plt.legend()\n",
        "    plt.show() \n",
        "        \n",
        "else:\n",
        "    # Create the generator\n",
        "    gen = Generator(ngpu).to(device)\n",
        "    gen.load_state_dict(torch.load('/content/drive/MyDrive/AMD-GAN/CIFAR10_GAN_model/5N_STD_model.h5'))\n",
        "    gen.eval()\n"
      ],
      "execution_count": 24,
      "outputs": [
        {
          "output_type": "stream",
          "text": [
            "[1/10][0/391]\tD(G(z)): 9.5028\n",
            "[1/10][50/391]\tD(G(z)): 13.1916\n",
            "[1/10][100/391]\tD(G(z)): 11.1303\n",
            "[1/10][150/391]\tD(G(z)): 16.2538\n",
            "[1/10][200/391]\tD(G(z)): 14.3296\n",
            "[1/10][250/391]\tD(G(z)): 13.3261\n",
            "[1/10][300/391]\tD(G(z)): 10.7000\n",
            "[1/10][350/391]\tD(G(z)): 13.3440\n",
            "[2/10][0/391]\tD(G(z)): 11.4216\n",
            "[2/10][50/391]\tD(G(z)): 11.3887\n",
            "[2/10][100/391]\tD(G(z)): 12.6250\n",
            "[2/10][150/391]\tD(G(z)): 13.0578\n",
            "[2/10][200/391]\tD(G(z)): 14.5541\n",
            "[2/10][250/391]\tD(G(z)): 12.5747\n",
            "[2/10][300/391]\tD(G(z)): 11.8021\n",
            "[2/10][350/391]\tD(G(z)): 11.5212\n",
            "[3/10][0/391]\tD(G(z)): 12.1098\n",
            "[3/10][50/391]\tD(G(z)): 12.2288\n",
            "[3/10][100/391]\tD(G(z)): 10.8765\n",
            "[3/10][150/391]\tD(G(z)): 10.6402\n",
            "[3/10][200/391]\tD(G(z)): 9.8145\n",
            "[3/10][250/391]\tD(G(z)): 9.5236\n",
            "[3/10][300/391]\tD(G(z)): 6.8601\n",
            "[3/10][350/391]\tD(G(z)): 10.4269\n",
            "[4/10][0/391]\tD(G(z)): 9.3641\n",
            "[4/10][50/391]\tD(G(z)): 8.6080\n",
            "[4/10][100/391]\tD(G(z)): 9.3284\n",
            "[4/10][150/391]\tD(G(z)): 7.5257\n",
            "[4/10][200/391]\tD(G(z)): 11.0887\n",
            "[4/10][250/391]\tD(G(z)): 9.8448\n",
            "[4/10][300/391]\tD(G(z)): 8.3504\n",
            "[4/10][350/391]\tD(G(z)): 9.7679\n",
            "[5/10][0/391]\tD(G(z)): 9.0684\n",
            "[5/10][50/391]\tD(G(z)): 7.7695\n",
            "[5/10][100/391]\tD(G(z)): 7.7487\n",
            "[5/10][150/391]\tD(G(z)): 8.1205\n",
            "[5/10][200/391]\tD(G(z)): 7.3813\n",
            "[5/10][250/391]\tD(G(z)): 9.0426\n",
            "[5/10][300/391]\tD(G(z)): 8.2802\n",
            "[5/10][350/391]\tD(G(z)): 10.7978\n",
            "[6/10][0/391]\tD(G(z)): 7.6551\n",
            "[6/10][50/391]\tD(G(z)): 6.5002\n",
            "[6/10][100/391]\tD(G(z)): 11.6842\n",
            "[6/10][150/391]\tD(G(z)): 7.1229\n",
            "[6/10][200/391]\tD(G(z)): 7.3093\n",
            "[6/10][250/391]\tD(G(z)): 6.6837\n",
            "[6/10][300/391]\tD(G(z)): 9.2226\n",
            "[6/10][350/391]\tD(G(z)): 8.9335\n",
            "[7/10][0/391]\tD(G(z)): 12.1706\n",
            "[7/10][50/391]\tD(G(z)): 9.7565\n",
            "[7/10][100/391]\tD(G(z)): 6.3681\n",
            "[7/10][150/391]\tD(G(z)): 10.2233\n",
            "[7/10][200/391]\tD(G(z)): 7.4103\n",
            "[7/10][250/391]\tD(G(z)): 10.9948\n",
            "[7/10][300/391]\tD(G(z)): 6.5542\n",
            "[7/10][350/391]\tD(G(z)): 7.5226\n",
            "[8/10][0/391]\tD(G(z)): 8.2802\n",
            "[8/10][50/391]\tD(G(z)): 8.1196\n",
            "[8/10][100/391]\tD(G(z)): 9.6354\n",
            "[8/10][150/391]\tD(G(z)): 6.8167\n",
            "[8/10][200/391]\tD(G(z)): 7.5540\n",
            "[8/10][250/391]\tD(G(z)): 7.2011\n",
            "[8/10][300/391]\tD(G(z)): 6.4643\n",
            "[8/10][350/391]\tD(G(z)): 6.7651\n",
            "[9/10][0/391]\tD(G(z)): 10.3600\n",
            "[9/10][50/391]\tD(G(z)): 8.5075\n",
            "[9/10][100/391]\tD(G(z)): 8.5691\n",
            "[9/10][150/391]\tD(G(z)): 10.2779\n",
            "[9/10][200/391]\tD(G(z)): 7.7219\n",
            "[9/10][250/391]\tD(G(z)): 7.4831\n",
            "[9/10][300/391]\tD(G(z)): 8.3148\n",
            "[9/10][350/391]\tD(G(z)): 7.3671\n",
            "[10/10][0/391]\tD(G(z)): 6.6044\n",
            "[10/10][50/391]\tD(G(z)): 7.5459\n",
            "[10/10][100/391]\tD(G(z)): 8.6412\n",
            "[10/10][150/391]\tD(G(z)): 7.7628\n",
            "[10/10][200/391]\tD(G(z)): 7.8418\n",
            "[10/10][250/391]\tD(G(z)): 7.3692\n",
            "[10/10][300/391]\tD(G(z)): 6.9368\n",
            "[10/10][350/391]\tD(G(z)): 10.8604\n"
          ],
          "name": "stdout"
        }
      ]
    },
    {
      "cell_type": "code",
      "metadata": {
        "colab": {
          "base_uri": "https://localhost:8080/"
        },
        "id": "AsMl2azH9EAy",
        "outputId": "a2fe6be2-f24a-4ce2-ad29-1f9d48eb6e10"
      },
      "source": [
        "eval_images = []\n",
        "for i in range(100):\n",
        "    gen_noise = torch.randn(64, nz, 1, 1, device=device)\n",
        "    with torch.no_grad():\n",
        "        fake = gen(gen_noise).detach().cpu()\n",
        "    eval_images += fake\n",
        "\n",
        "print(len(eval_images))\n",
        "print(eval_images[0].shape)\n",
        "print(inception_score(eval_images, cuda=True, batch_size=32, resize=True, splits=10))"
      ],
      "execution_count": 25,
      "outputs": [
        {
          "output_type": "stream",
          "text": [
            "6400\n",
            "torch.Size([3, 32, 32])\n"
          ],
          "name": "stdout"
        },
        {
          "output_type": "stream",
          "text": [
            "/usr/local/lib/python3.7/dist-packages/torch/nn/functional.py:3458: UserWarning: Default upsampling behavior when mode=bilinear is changed to align_corners=False since 0.4.0. Please specify align_corners=True if the old behavior is desired. See the documentation of nn.Upsample for details.\n",
            "  \"See the documentation of nn.Upsample for details.\".format(mode)\n",
            "/content/inception-score-pytorch/inception_score.py:44: UserWarning: Implicit dimension choice for softmax has been deprecated. Change the call to include dim=X as an argument.\n",
            "  return F.softmax(x).data.cpu().numpy()\n"
          ],
          "name": "stderr"
        },
        {
          "output_type": "stream",
          "text": [
            "(3.8343556084749566, 0.0944951636790845)\n"
          ],
          "name": "stdout"
        }
      ]
    },
    {
      "cell_type": "code",
      "metadata": {
        "id": "7FCPp8QA-sBo"
      },
      "source": [
        "import torch.nn.functional as F\n",
        "\n",
        "def train4(gen, discs, device, dataloader, optimizerG, criterion, epoch, iters,dfs):\n",
        "    gen.train()\n",
        "    img_list = []\n",
        "    fixed_noise = torch.randn(64, nz, 1, 1, device=device)\n",
        "    # Establish convention for real and fake labels during training (with label smoothing)\n",
        "    real_label = 0.9\n",
        "    fake_label = 0.1\n",
        "    sm = nn.Softmax()\n",
        "    for i, data in enumerate(dataloader, 0):\n",
        "\n",
        "        ## Train with all-real batch\n",
        "        for disc,optimizerD in discs:\n",
        "            #*****\n",
        "            # Update Discriminator\n",
        "            #*****\n",
        "            ## Train with all-real batch\n",
        "            disc.zero_grad()\n",
        "            # Format batch\n",
        "            real_cpu = data[0].to(device)\n",
        "            b_size = real_cpu.size(0)\n",
        "            label = torch.full((b_size,), real_label, device=device)\n",
        "            # Forward pass real batch through D\n",
        "            output = disc(real_cpu).view(-1)\n",
        "            # Calculate loss on all-real batch\n",
        "            errD_real = criterion(output, label)\n",
        "            # Calculate gradients for D in backward pass\n",
        "            errD_real.backward()\n",
        "            D_x = output.mean().item()\n",
        "\n",
        "            ## Train with all-fake batch\n",
        "            # Generate batch of latent vectors\n",
        "            noise = torch.randn(b_size, nz, 1, 1, device=device)\n",
        "            # Generate fake image batch with G\n",
        "            fake = gen(noise)\n",
        "            label.fill_(fake_label)\n",
        "            # Classify all fake batch with D\n",
        "            output = disc(fake.detach()).view(-1)\n",
        "            # Calculate D's loss on the all-fake batch\n",
        "            errD_fake = criterion(output, label)\n",
        "            # Calculate the gradients for this batch\n",
        "            errD_fake.backward()\n",
        "            D_G_z1 = output.mean().item()\n",
        "            # Add the gradients from the all-real and all-fake batches\n",
        "            errD = errD_real + errD_fake\n",
        "            # Update D\n",
        "            optimizerD.step()\n",
        "\n",
        "        #*****\n",
        "        # Update Generator\n",
        "        #*****\n",
        "\n",
        "        # Generate batch of latent vectors\n",
        "        #noise = torch.randn(b_size, nz, 1, 1, device=device)\n",
        "        # Generate fake image batch with G\n",
        "        #fake = gen(noise)\n",
        "        label.fill_(real_label)  # fake labels are real for generator cost\n",
        "        errGs = []\n",
        "        for disc,optimizerD in discs:\n",
        "            # Since we just updated D, perform another forward pass of all-fake batch through D\n",
        "            output = disc(fake).view(-1)\n",
        "            # Calculate G's loss based on this output\n",
        "            errG = criterion(output, label)\n",
        "            errGs.append(errG)\n",
        "\n",
        "        # Calculate gradients for G\n",
        "        ts = torch.stack(errGs)\n",
        "        #print(ts)\n",
        "        \n",
        "        errGs = torch.dot(dfs,ts) #+ torch.std(ts)\n",
        "        gen.zero_grad()\n",
        "        errGs.backward()\n",
        "        #D_G_z2 = errGs.item()\n",
        "        # Update G\n",
        "        optimizerG.step()\n",
        "        learning_rate = 0.01\n",
        "        with torch.no_grad():\n",
        "            #dfs = F.softmax(dfs + learning_rate * dfs.grad)\n",
        "            dfs += learning_rate * dfs.grad\n",
        "            dfs.grad = None                    \n",
        "            dfs[dfs < 0] = 0.1\n",
        "            dfs[dfs > 2] = 2.0\n",
        "\n",
        "        # Output training stats\n",
        "        if i % 50 == 0:\n",
        "            print('[{}/{}][{}/{}]\\tD(G(z)): {:.4f} {}'.format(epoch, num_epochs, i, len(dataloader), torch.sum(ts).item() ,dfs))\n",
        "            #wandb.log({\"Gen Loss\": errGs.item()})\n",
        "\n",
        "        iters += 1"
      ],
      "execution_count": 67,
      "outputs": []
    },
    {
      "cell_type": "code",
      "metadata": {
        "id": "HrXqsLlkPoll",
        "outputId": "4617d1ee-73f4-4797-e15e-74ec7e273485",
        "colab": {
          "base_uri": "https://localhost:8080/"
        }
      },
      "source": [
        "m = nn.Softmax()\n",
        "m(torch.tensor([1.0,2.0,3.0]))"
      ],
      "execution_count": 56,
      "outputs": [
        {
          "output_type": "stream",
          "text": [
            "/usr/local/lib/python3.7/dist-packages/ipykernel_launcher.py:2: UserWarning: Implicit dimension choice for softmax has been deprecated. Change the call to include dim=X as an argument.\n",
            "  \n"
          ],
          "name": "stderr"
        },
        {
          "output_type": "execute_result",
          "data": {
            "text/plain": [
              "tensor([0.0900, 0.2447, 0.6652])"
            ]
          },
          "metadata": {
            "tags": []
          },
          "execution_count": 56
        }
      ]
    },
    {
      "cell_type": "code",
      "metadata": {
        "colab": {
          "base_uri": "https://localhost:8080/"
        },
        "id": "dYkVtIQM--KD",
        "outputId": "490d1e45-7fa5-44ae-bfd5-a040b102e7f1"
      },
      "source": [
        "# Number of training epochs\n",
        "num_epochs = 10  \n",
        "# Create the generator\n",
        "netG = Generator(ngpu).to(device)\n",
        "\n",
        "do_train = True\n",
        "\n",
        "if do_train:\n",
        "\n",
        "    # Handle multi-gpu if desired\n",
        "    if (device.type == 'cuda') and (ngpu > 1):\n",
        "        netG = nn.DataParallel(netG, list(range(ngpu)))\n",
        "\n",
        "    # Apply the weights_init function to randomly initialize all weights\n",
        "    #  to mean=0, stdev=0.2.\n",
        "    netG.apply(weights_init)\n",
        "\n",
        "    netDs = []\n",
        "    disc_cnt = 5\n",
        "    # Create the Discriminator\n",
        "    for i in range(disc_cnt):\n",
        "        netD = Discriminator(ngpu).to(device)\n",
        "        # Handle multi-gpu if desired\n",
        "        if (device.type == 'cuda') and (ngpu > 1):\n",
        "            netD = nn.DataParallel(netD, list(range(ngpu)))\n",
        "        # Apply the weights_init function to randomly initialize all weights\n",
        "        #  to mean=0, stdev=0.2.\n",
        "        netD.apply(weights_init)\n",
        "\n",
        "        # Setup Adam optimizers for both G and D\n",
        "        optimizerD = optim.Adam(netD.parameters(), lr=lr, betas=(beta1, 0.999))\n",
        "\n",
        "        netDs.append((netD,optimizerD))\n",
        "\n",
        "    optimizerG = optim.Adam(netG.parameters(), lr=lr, betas=(beta1, 0.999))\n",
        "    # Initialize BCELoss function\n",
        "    criterion = nn.BCELoss()\n",
        "    iters = 0\n",
        "    dfs = torch.ones((disc_cnt,), device=device, dtype=torch.float, requires_grad=True)\n",
        "    for epoch in range(1, num_epochs + 1):\n",
        "        train4(netG, netDs, device, trainloader, optimizerG, criterion, epoch, iters,dfs)\n",
        "        \n",
        "    # WandB – Save the model checkpoint. This automatically saves a file to the cloud and associates it with the current run.\n",
        "    torch.save(netG.state_dict(), \"/content/drive/MyDrive/AMD-GAN/CIFAR10_GAN_model/5N_STD_model.h5\")\n",
        "    #wandb.save('/content/drive/MyDrive/AMD-GAN/CIFAR10_GAN_model/model.h5')\n",
        "\n",
        "    gen = netG\n",
        "    gen.eval()\n",
        "else:\n",
        "    # Create the generator\n",
        "    gen = Generator(ngpu).to(device)\n",
        "    gen.load_state_dict(torch.load('/content/drive/MyDrive/AMD-GAN/CIFAR10_GAN_model/5N_STD_model.h5'))\n",
        "    gen.eval()\n"
      ],
      "execution_count": 68,
      "outputs": [
        {
          "output_type": "stream",
          "text": [
            "[1/10][0/391]\tD(G(z)): 9.6346 tensor([1.0192, 1.0181, 1.0197, 1.0176, 1.0218], device='cuda:0',\n",
            "       requires_grad=True)\n",
            "[1/10][50/391]\tD(G(z)): 17.5153 tensor([2., 2., 2., 2., 2.], device='cuda:0', requires_grad=True)\n",
            "[1/10][100/391]\tD(G(z)): 12.8795 tensor([2., 2., 2., 2., 2.], device='cuda:0', requires_grad=True)\n",
            "[1/10][150/391]\tD(G(z)): 10.0647 tensor([2., 2., 2., 2., 2.], device='cuda:0', requires_grad=True)\n",
            "[1/10][200/391]\tD(G(z)): 12.4072 tensor([2., 2., 2., 2., 2.], device='cuda:0', requires_grad=True)\n",
            "[1/10][250/391]\tD(G(z)): 15.9894 tensor([2., 2., 2., 2., 2.], device='cuda:0', requires_grad=True)\n",
            "[1/10][300/391]\tD(G(z)): 8.5295 tensor([2., 2., 2., 2., 2.], device='cuda:0', requires_grad=True)\n",
            "[1/10][350/391]\tD(G(z)): 10.4079 tensor([2., 2., 2., 2., 2.], device='cuda:0', requires_grad=True)\n",
            "[2/10][0/391]\tD(G(z)): 16.3350 tensor([2., 2., 2., 2., 2.], device='cuda:0', requires_grad=True)\n",
            "[2/10][50/391]\tD(G(z)): 12.7791 tensor([2., 2., 2., 2., 2.], device='cuda:0', requires_grad=True)\n",
            "[2/10][100/391]\tD(G(z)): 13.1247 tensor([2., 2., 2., 2., 2.], device='cuda:0', requires_grad=True)\n",
            "[2/10][150/391]\tD(G(z)): 14.4951 tensor([2., 2., 2., 2., 2.], device='cuda:0', requires_grad=True)\n",
            "[2/10][200/391]\tD(G(z)): 10.7784 tensor([2., 2., 2., 2., 2.], device='cuda:0', requires_grad=True)\n",
            "[2/10][250/391]\tD(G(z)): 12.1425 tensor([2., 2., 2., 2., 2.], device='cuda:0', requires_grad=True)\n",
            "[2/10][300/391]\tD(G(z)): 11.6808 tensor([2., 2., 2., 2., 2.], device='cuda:0', requires_grad=True)\n",
            "[2/10][350/391]\tD(G(z)): 10.2784 tensor([2., 2., 2., 2., 2.], device='cuda:0', requires_grad=True)\n",
            "[3/10][0/391]\tD(G(z)): 8.5753 tensor([2., 2., 2., 2., 2.], device='cuda:0', requires_grad=True)\n",
            "[3/10][50/391]\tD(G(z)): 14.3834 tensor([2., 2., 2., 2., 2.], device='cuda:0', requires_grad=True)\n",
            "[3/10][100/391]\tD(G(z)): 9.3590 tensor([2., 2., 2., 2., 2.], device='cuda:0', requires_grad=True)\n",
            "[3/10][150/391]\tD(G(z)): 10.1929 tensor([2., 2., 2., 2., 2.], device='cuda:0', requires_grad=True)\n",
            "[3/10][200/391]\tD(G(z)): 8.8333 tensor([2., 2., 2., 2., 2.], device='cuda:0', requires_grad=True)\n",
            "[3/10][250/391]\tD(G(z)): 10.7280 tensor([2., 2., 2., 2., 2.], device='cuda:0', requires_grad=True)\n",
            "[3/10][300/391]\tD(G(z)): 9.6064 tensor([2., 2., 2., 2., 2.], device='cuda:0', requires_grad=True)\n",
            "[3/10][350/391]\tD(G(z)): 9.3122 tensor([2., 2., 2., 2., 2.], device='cuda:0', requires_grad=True)\n",
            "[4/10][0/391]\tD(G(z)): 12.8693 tensor([2., 2., 2., 2., 2.], device='cuda:0', requires_grad=True)\n",
            "[4/10][50/391]\tD(G(z)): 10.0217 tensor([2., 2., 2., 2., 2.], device='cuda:0', requires_grad=True)\n",
            "[4/10][100/391]\tD(G(z)): 8.1590 tensor([2., 2., 2., 2., 2.], device='cuda:0', requires_grad=True)\n",
            "[4/10][150/391]\tD(G(z)): 6.8919 tensor([2., 2., 2., 2., 2.], device='cuda:0', requires_grad=True)\n",
            "[4/10][200/391]\tD(G(z)): 11.6384 tensor([2., 2., 2., 2., 2.], device='cuda:0', requires_grad=True)\n",
            "[4/10][250/391]\tD(G(z)): 10.0837 tensor([2., 2., 2., 2., 2.], device='cuda:0', requires_grad=True)\n",
            "[4/10][300/391]\tD(G(z)): 9.2428 tensor([2., 2., 2., 2., 2.], device='cuda:0', requires_grad=True)\n",
            "[4/10][350/391]\tD(G(z)): 7.8986 tensor([2., 2., 2., 2., 2.], device='cuda:0', requires_grad=True)\n",
            "[5/10][0/391]\tD(G(z)): 8.1757 tensor([2., 2., 2., 2., 2.], device='cuda:0', requires_grad=True)\n",
            "[5/10][50/391]\tD(G(z)): 8.8910 tensor([2., 2., 2., 2., 2.], device='cuda:0', requires_grad=True)\n",
            "[5/10][100/391]\tD(G(z)): 8.9503 tensor([2., 2., 2., 2., 2.], device='cuda:0', requires_grad=True)\n",
            "[5/10][150/391]\tD(G(z)): 9.0226 tensor([2., 2., 2., 2., 2.], device='cuda:0', requires_grad=True)\n",
            "[5/10][200/391]\tD(G(z)): 8.7817 tensor([2., 2., 2., 2., 2.], device='cuda:0', requires_grad=True)\n",
            "[5/10][250/391]\tD(G(z)): 8.5298 tensor([2., 2., 2., 2., 2.], device='cuda:0', requires_grad=True)\n",
            "[5/10][300/391]\tD(G(z)): 9.4120 tensor([2., 2., 2., 2., 2.], device='cuda:0', requires_grad=True)\n",
            "[5/10][350/391]\tD(G(z)): 8.2682 tensor([2., 2., 2., 2., 2.], device='cuda:0', requires_grad=True)\n",
            "[6/10][0/391]\tD(G(z)): 7.0489 tensor([2., 2., 2., 2., 2.], device='cuda:0', requires_grad=True)\n",
            "[6/10][50/391]\tD(G(z)): 7.7454 tensor([2., 2., 2., 2., 2.], device='cuda:0', requires_grad=True)\n",
            "[6/10][100/391]\tD(G(z)): 7.6224 tensor([2., 2., 2., 2., 2.], device='cuda:0', requires_grad=True)\n",
            "[6/10][150/391]\tD(G(z)): 5.9889 tensor([2., 2., 2., 2., 2.], device='cuda:0', requires_grad=True)\n",
            "[6/10][200/391]\tD(G(z)): 10.7703 tensor([2., 2., 2., 2., 2.], device='cuda:0', requires_grad=True)\n",
            "[6/10][250/391]\tD(G(z)): 7.9272 tensor([2., 2., 2., 2., 2.], device='cuda:0', requires_grad=True)\n",
            "[6/10][300/391]\tD(G(z)): 8.3226 tensor([2., 2., 2., 2., 2.], device='cuda:0', requires_grad=True)\n",
            "[6/10][350/391]\tD(G(z)): 7.4776 tensor([2., 2., 2., 2., 2.], device='cuda:0', requires_grad=True)\n",
            "[7/10][0/391]\tD(G(z)): 4.9143 tensor([2., 2., 2., 2., 2.], device='cuda:0', requires_grad=True)\n",
            "[7/10][50/391]\tD(G(z)): 5.5728 tensor([2., 2., 2., 2., 2.], device='cuda:0', requires_grad=True)\n",
            "[7/10][100/391]\tD(G(z)): 6.9013 tensor([2., 2., 2., 2., 2.], device='cuda:0', requires_grad=True)\n",
            "[7/10][150/391]\tD(G(z)): 6.9442 tensor([2., 2., 2., 2., 2.], device='cuda:0', requires_grad=True)\n",
            "[7/10][200/391]\tD(G(z)): 7.4125 tensor([2., 2., 2., 2., 2.], device='cuda:0', requires_grad=True)\n",
            "[7/10][250/391]\tD(G(z)): 9.5316 tensor([2., 2., 2., 2., 2.], device='cuda:0', requires_grad=True)\n",
            "[7/10][300/391]\tD(G(z)): 7.0736 tensor([2., 2., 2., 2., 2.], device='cuda:0', requires_grad=True)\n",
            "[7/10][350/391]\tD(G(z)): 8.2275 tensor([2., 2., 2., 2., 2.], device='cuda:0', requires_grad=True)\n",
            "[8/10][0/391]\tD(G(z)): 8.1895 tensor([2., 2., 2., 2., 2.], device='cuda:0', requires_grad=True)\n",
            "[8/10][50/391]\tD(G(z)): 8.7103 tensor([2., 2., 2., 2., 2.], device='cuda:0', requires_grad=True)\n",
            "[8/10][100/391]\tD(G(z)): 6.2252 tensor([2., 2., 2., 2., 2.], device='cuda:0', requires_grad=True)\n",
            "[8/10][150/391]\tD(G(z)): 6.2785 tensor([2., 2., 2., 2., 2.], device='cuda:0', requires_grad=True)\n",
            "[8/10][200/391]\tD(G(z)): 3.8634 tensor([2., 2., 2., 2., 2.], device='cuda:0', requires_grad=True)\n",
            "[8/10][250/391]\tD(G(z)): 8.5498 tensor([2., 2., 2., 2., 2.], device='cuda:0', requires_grad=True)\n",
            "[8/10][300/391]\tD(G(z)): 7.6145 tensor([2., 2., 2., 2., 2.], device='cuda:0', requires_grad=True)\n",
            "[8/10][350/391]\tD(G(z)): 6.4303 tensor([2., 2., 2., 2., 2.], device='cuda:0', requires_grad=True)\n",
            "[9/10][0/391]\tD(G(z)): 6.1111 tensor([2., 2., 2., 2., 2.], device='cuda:0', requires_grad=True)\n",
            "[9/10][50/391]\tD(G(z)): 6.6291 tensor([2., 2., 2., 2., 2.], device='cuda:0', requires_grad=True)\n",
            "[9/10][100/391]\tD(G(z)): 6.5237 tensor([2., 2., 2., 2., 2.], device='cuda:0', requires_grad=True)\n",
            "[9/10][150/391]\tD(G(z)): 6.5858 tensor([2., 2., 2., 2., 2.], device='cuda:0', requires_grad=True)\n",
            "[9/10][200/391]\tD(G(z)): 8.1083 tensor([2., 2., 2., 2., 2.], device='cuda:0', requires_grad=True)\n",
            "[9/10][250/391]\tD(G(z)): 8.7010 tensor([2., 2., 2., 2., 2.], device='cuda:0', requires_grad=True)\n",
            "[9/10][300/391]\tD(G(z)): 8.2928 tensor([2., 2., 2., 2., 2.], device='cuda:0', requires_grad=True)\n",
            "[9/10][350/391]\tD(G(z)): 8.5592 tensor([2., 2., 2., 2., 2.], device='cuda:0', requires_grad=True)\n",
            "[10/10][0/391]\tD(G(z)): 7.3239 tensor([2., 2., 2., 2., 2.], device='cuda:0', requires_grad=True)\n",
            "[10/10][50/391]\tD(G(z)): 5.3754 tensor([2., 2., 2., 2., 2.], device='cuda:0', requires_grad=True)\n",
            "[10/10][100/391]\tD(G(z)): 5.3422 tensor([2., 2., 2., 2., 2.], device='cuda:0', requires_grad=True)\n",
            "[10/10][150/391]\tD(G(z)): 8.8410 tensor([2., 2., 2., 2., 2.], device='cuda:0', requires_grad=True)\n",
            "[10/10][200/391]\tD(G(z)): 7.0171 tensor([2., 2., 2., 2., 2.], device='cuda:0', requires_grad=True)\n",
            "[10/10][250/391]\tD(G(z)): 7.4821 tensor([2., 2., 2., 2., 2.], device='cuda:0', requires_grad=True)\n",
            "[10/10][300/391]\tD(G(z)): 7.0128 tensor([2., 2., 2., 2., 2.], device='cuda:0', requires_grad=True)\n",
            "[10/10][350/391]\tD(G(z)): 7.9863 tensor([2., 2., 2., 2., 2.], device='cuda:0', requires_grad=True)\n"
          ],
          "name": "stdout"
        }
      ]
    }
  ]
}