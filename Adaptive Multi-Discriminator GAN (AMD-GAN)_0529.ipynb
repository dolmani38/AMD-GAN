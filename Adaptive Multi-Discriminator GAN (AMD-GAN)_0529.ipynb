{
  "nbformat": 4,
  "nbformat_minor": 0,
  "metadata": {
    "kernelspec": {
      "language": "python",
      "display_name": "Python 3",
      "name": "python3"
    },
    "language_info": {
      "name": "python",
      "version": "3.7.9",
      "mimetype": "text/x-python",
      "codemirror_mode": {
        "name": "ipython",
        "version": 3
      },
      "pygments_lexer": "ipython3",
      "nbconvert_exporter": "python",
      "file_extension": ".py"
    },
    "colab": {
      "name": "Adaptive Multi-Discriminator GAN (AMD-GAN).ipynb",
      "provenance": [],
      "machine_shape": "hm",
      "include_colab_link": true
    },
    "accelerator": "GPU",
    "widgets": {
      "application/vnd.jupyter.widget-state+json": {
        "2dfb8aee3c8e4cf585dbbdd0fcf11715": {
          "model_module": "@jupyter-widgets/controls",
          "model_name": "HBoxModel",
          "state": {
            "_view_name": "HBoxView",
            "_dom_classes": [],
            "_model_name": "HBoxModel",
            "_view_module": "@jupyter-widgets/controls",
            "_model_module_version": "1.5.0",
            "_view_count": null,
            "_view_module_version": "1.5.0",
            "box_style": "",
            "layout": "IPY_MODEL_19523e8029334db4b4de97051c61c64d",
            "_model_module": "@jupyter-widgets/controls",
            "children": [
              "IPY_MODEL_9664ff0bd60f4c59aaa77ea7ab965204",
              "IPY_MODEL_4ac592f19d484649b47a327b940801ea"
            ]
          }
        },
        "19523e8029334db4b4de97051c61c64d": {
          "model_module": "@jupyter-widgets/base",
          "model_name": "LayoutModel",
          "state": {
            "_view_name": "LayoutView",
            "grid_template_rows": null,
            "right": null,
            "justify_content": null,
            "_view_module": "@jupyter-widgets/base",
            "overflow": null,
            "_model_module_version": "1.2.0",
            "_view_count": null,
            "flex_flow": null,
            "width": null,
            "min_width": null,
            "border": null,
            "align_items": null,
            "bottom": null,
            "_model_module": "@jupyter-widgets/base",
            "top": null,
            "grid_column": null,
            "overflow_y": null,
            "overflow_x": null,
            "grid_auto_flow": null,
            "grid_area": null,
            "grid_template_columns": null,
            "flex": null,
            "_model_name": "LayoutModel",
            "justify_items": null,
            "grid_row": null,
            "max_height": null,
            "align_content": null,
            "visibility": null,
            "align_self": null,
            "height": null,
            "min_height": null,
            "padding": null,
            "grid_auto_rows": null,
            "grid_gap": null,
            "max_width": null,
            "order": null,
            "_view_module_version": "1.2.0",
            "grid_template_areas": null,
            "object_position": null,
            "object_fit": null,
            "grid_auto_columns": null,
            "margin": null,
            "display": null,
            "left": null
          }
        },
        "9664ff0bd60f4c59aaa77ea7ab965204": {
          "model_module": "@jupyter-widgets/controls",
          "model_name": "FloatProgressModel",
          "state": {
            "_view_name": "ProgressView",
            "style": "IPY_MODEL_b4c4ed1f8a6e44a281745d6a8a23af7a",
            "_dom_classes": [],
            "description": "100%",
            "_model_name": "FloatProgressModel",
            "bar_style": "success",
            "max": 108857766,
            "_view_module": "@jupyter-widgets/controls",
            "_model_module_version": "1.5.0",
            "value": 108857766,
            "_view_count": null,
            "_view_module_version": "1.5.0",
            "orientation": "horizontal",
            "min": 0,
            "description_tooltip": null,
            "_model_module": "@jupyter-widgets/controls",
            "layout": "IPY_MODEL_1ccd8d9b05274d1c92105e9fca07f217"
          }
        },
        "4ac592f19d484649b47a327b940801ea": {
          "model_module": "@jupyter-widgets/controls",
          "model_name": "HTMLModel",
          "state": {
            "_view_name": "HTMLView",
            "style": "IPY_MODEL_075eb92eba5a40e8866a73cb0f52ac87",
            "_dom_classes": [],
            "description": "",
            "_model_name": "HTMLModel",
            "placeholder": "​",
            "_view_module": "@jupyter-widgets/controls",
            "_model_module_version": "1.5.0",
            "value": " 104M/104M [00:01&lt;00:00, 61.6MB/s]",
            "_view_count": null,
            "_view_module_version": "1.5.0",
            "description_tooltip": null,
            "_model_module": "@jupyter-widgets/controls",
            "layout": "IPY_MODEL_92c56bd0cd614aa2ba723cb3bc1f5a8f"
          }
        },
        "b4c4ed1f8a6e44a281745d6a8a23af7a": {
          "model_module": "@jupyter-widgets/controls",
          "model_name": "ProgressStyleModel",
          "state": {
            "_view_name": "StyleView",
            "_model_name": "ProgressStyleModel",
            "description_width": "initial",
            "_view_module": "@jupyter-widgets/base",
            "_model_module_version": "1.5.0",
            "_view_count": null,
            "_view_module_version": "1.2.0",
            "bar_color": null,
            "_model_module": "@jupyter-widgets/controls"
          }
        },
        "1ccd8d9b05274d1c92105e9fca07f217": {
          "model_module": "@jupyter-widgets/base",
          "model_name": "LayoutModel",
          "state": {
            "_view_name": "LayoutView",
            "grid_template_rows": null,
            "right": null,
            "justify_content": null,
            "_view_module": "@jupyter-widgets/base",
            "overflow": null,
            "_model_module_version": "1.2.0",
            "_view_count": null,
            "flex_flow": null,
            "width": null,
            "min_width": null,
            "border": null,
            "align_items": null,
            "bottom": null,
            "_model_module": "@jupyter-widgets/base",
            "top": null,
            "grid_column": null,
            "overflow_y": null,
            "overflow_x": null,
            "grid_auto_flow": null,
            "grid_area": null,
            "grid_template_columns": null,
            "flex": null,
            "_model_name": "LayoutModel",
            "justify_items": null,
            "grid_row": null,
            "max_height": null,
            "align_content": null,
            "visibility": null,
            "align_self": null,
            "height": null,
            "min_height": null,
            "padding": null,
            "grid_auto_rows": null,
            "grid_gap": null,
            "max_width": null,
            "order": null,
            "_view_module_version": "1.2.0",
            "grid_template_areas": null,
            "object_position": null,
            "object_fit": null,
            "grid_auto_columns": null,
            "margin": null,
            "display": null,
            "left": null
          }
        },
        "075eb92eba5a40e8866a73cb0f52ac87": {
          "model_module": "@jupyter-widgets/controls",
          "model_name": "DescriptionStyleModel",
          "state": {
            "_view_name": "StyleView",
            "_model_name": "DescriptionStyleModel",
            "description_width": "",
            "_view_module": "@jupyter-widgets/base",
            "_model_module_version": "1.5.0",
            "_view_count": null,
            "_view_module_version": "1.2.0",
            "_model_module": "@jupyter-widgets/controls"
          }
        },
        "92c56bd0cd614aa2ba723cb3bc1f5a8f": {
          "model_module": "@jupyter-widgets/base",
          "model_name": "LayoutModel",
          "state": {
            "_view_name": "LayoutView",
            "grid_template_rows": null,
            "right": null,
            "justify_content": null,
            "_view_module": "@jupyter-widgets/base",
            "overflow": null,
            "_model_module_version": "1.2.0",
            "_view_count": null,
            "flex_flow": null,
            "width": null,
            "min_width": null,
            "border": null,
            "align_items": null,
            "bottom": null,
            "_model_module": "@jupyter-widgets/base",
            "top": null,
            "grid_column": null,
            "overflow_y": null,
            "overflow_x": null,
            "grid_auto_flow": null,
            "grid_area": null,
            "grid_template_columns": null,
            "flex": null,
            "_model_name": "LayoutModel",
            "justify_items": null,
            "grid_row": null,
            "max_height": null,
            "align_content": null,
            "visibility": null,
            "align_self": null,
            "height": null,
            "min_height": null,
            "padding": null,
            "grid_auto_rows": null,
            "grid_gap": null,
            "max_width": null,
            "order": null,
            "_view_module_version": "1.2.0",
            "grid_template_areas": null,
            "object_position": null,
            "object_fit": null,
            "grid_auto_columns": null,
            "margin": null,
            "display": null,
            "left": null
          }
        }
      }
    }
  },
  "cells": [
    {
      "cell_type": "markdown",
      "metadata": {
        "id": "view-in-github",
        "colab_type": "text"
      },
      "source": [
        "<a href=\"https://colab.research.google.com/github/dolmani38/AMD-GAN/blob/main/Adaptive%20Multi-Discriminator%20GAN%20(AMD-GAN)_0529.ipynb\" target=\"_parent\"><img src=\"https://colab.research.google.com/assets/colab-badge.svg\" alt=\"Open In Colab\"/></a>"
      ]
    },
    {
      "cell_type": "markdown",
      "metadata": {
        "id": "GkQCxNatSIOk"
      },
      "source": [
        "# Multi-Discriminator GAN\n"
      ]
    },
    {
      "cell_type": "markdown",
      "metadata": {
        "id": "EZjIW9VwyjDf"
      },
      "source": [
        "ABSTRACT\n",
        "\n",
        "----\n"
      ]
    },
    {
      "cell_type": "markdown",
      "metadata": {
        "id": "c20I_OEErmP9"
      },
      "source": [
        "# 3. Related works\n",
        "\n",
        "두개 이상의 discriminator를 사용하는 GAN 연구에 대하여 알아본다.\n",
        "\n",
        "어떤 목적으로 복수의 discriminator를 사용하고 그 효과는 무엇인지 알아본다."
      ]
    },
    {
      "cell_type": "markdown",
      "metadata": {
        "id": "_uFOIbzcFagq"
      },
      "source": [
        "## 1) N개의 discriminator를 활용한 연구 \n",
        "\n",
        "Generative adversarial networks (Goodfellow et al. (2014))\n",
        "\n",
        "Generator를 multi로 한 연구들...\n",
        "\n",
        "(1) Q. Hoang, T. Dinh Nguyen, T. Le, and D. Phung, “Multi-Generator Generative Adversarial Nets,” ArXiv e-prints, Aug. 2017.\n",
        "\n",
        "(2) Multi-Agent Diverse Generative Adversarial Networks\n",
        "\n",
        "Federated learning의 한 지류가 될수도 있을 것...\n",
        "\n",
        "(1) H. B. McMahan, E. Moore, D. Ramage, and B. A. y Arcas, “Federated learning of deep networks using model averaging,” CoRR, vol. abs/1602.05629, 2016."
      ]
    },
    {
      "cell_type": "markdown",
      "metadata": {
        "id": "fa-0-i84rqoX"
      },
      "source": [
        "## 2) Automatic Image Colorization based on Multi-Discriminators Generative Adversarial Networks [품질향상]\n",
        "\n",
        "GAN은 흑백의 이미지를 입력하여 Color화 된 이미지를 생성해 낼 수 있다.\n",
        "본 논문은 두개의 discriminator를 이용하여 더 produces\n",
        "more realistic quality results.\n",
        "\n",
        "Different from conventional GAN network architecture,\n",
        "Park et al. [13] (S.-J. Park, H. Son, S. Cho, K.-S. Hong, and S. Lee, “Srfeat: Single image super-resolution with feature discrimination,” in Proceedings of the European Conference on Computer Vision, 2018, pp. 439–455.) introduce architecture based on combination of one generator associated with two discriminators. For colorization task, we propose an extended model, illustrated in Fig.1, which uses two discriminators: <font color='red'><b>an image discriminator Di and a feature discriminator Df</b> </font>. The first one discriminates real images (RGB) from colorized images by inspecting their pixel values, while the second discriminates real images from colorized ones by inspecting their feature maps, noted respectively\n",
        "VGG(y) and VGG(G(x)) .\n",
        "\n",
        "본 논문의 Proposed Loss functions 중 GAN에 대한 Loss은 다음과 같다.\n",
        "\n",
        "$$ L_{M-dis}(G,D_i,D_f) = \\lambda_iL_{GAN}(G,D_i) + \\lambda_fL_{GAN}(G,D_f)  $$\n",
        "where lambda_i and lambda_f denote a defined weighting factors\n",
        "\n",
        "실험에 있어서도 lambda_i and lambda_f 의 값을 특정 값을 설정하여 실험 하였다.\n",
        "그 값은 최적의 값이 였을까??"
      ]
    },
    {
      "cell_type": "markdown",
      "metadata": {
        "id": "rxfz7tKoDcZQ"
      },
      "source": [
        "## 3) UMLE: Unsupervised Multi-discriminator Network for Low Light Enhancement [품질 향상]\n",
        "\n",
        "Low-light image enhancement, such as recovering color and texture details from low-light images, is a complex and vital task. For automated driving, low-light scenarios will have serious implications for vision-based applications. To address this problem, we propose a real-time unsupervised generative adversarial network (GAN) containing  <font color='red'><b>multiple discriminators, i.e. a multi-scale discriminator, a texture discriminator, and a color discriminator.</b></font>\n",
        "\n",
        "본 논문에서 loss function 은 Adversarial loss + Cycle loss + Color loss + Preserving Loss + Reconstruction loss 로 구성된다.\n",
        "\n",
        "$$ L_{all} = \\omega_1L_{adv}+\\omega_2L_{cyc}+\\omega_3L_{color}+\\omega_4L_{pre}+\\omega_5L_{idt}$$ \n",
        "\n",
        "하지만 각각의 omega는 huristic하게 특정 지었다. 최적화된 값인가??"
      ]
    },
    {
      "cell_type": "markdown",
      "metadata": {
        "id": "Jbt0ApbS8V_Q"
      },
      "source": [
        "## 4) GENERATIVE MULTI-ADVERSARIAL NETWORKS [품질 향상+mode collapse]\n",
        "\n",
        "N개의 복수 discriminator를 사용하여 안정적으로 더 빠르게 GAN 학습을 할 수 있다. 또한 mode collapse에도 robust 한 특성을 보인다.\n",
        "\n",
        "본 논문에서는 loss function을 three classical Pythagorean means 을 응용하여 정의하였다.\n",
        "\n",
        "$$ AM_{soft}(V, \\lambda) = \\sum_{i}^N \\omega_iV_i $$\n",
        "$$ GM_{soft}(V, \\lambda) = -exp(\\sum_{i}^N \\omega_ilog(-V_i)) $$\n",
        "$$ HM_{soft}(V, \\lambda) = (\\sum_{i}^N \\omega_iV_i^{-1})^{-1} $$\n",
        "\n",
        "하지만, 논문에서는 omega에 대하여 다루지 않았다.\n",
        "저 omega는 어떻게 최적화 할 수 있겠는가?\n",
        "\n"
      ]
    },
    {
      "cell_type": "markdown",
      "metadata": {
        "id": "t5qpgtDUySyC"
      },
      "source": [
        "## 5) Dual Discriminator Generative Adversarial Nets [mode collapse]\n",
        "\n",
        "GAN에서 발생하는 치명적인 mode collapse (https://developers.google.com/machine-learning/gan/problems) 현상을 개선하기 위해 두개의 discriminator를 사용한다. - dual discriminator generative adversarial network (D2GAN)\n",
        "\n",
        "it combines <font color='red'><b>the Kullback-Leibler (KL) and reverse KL divergences</b></font> into a unified objective function, thus it exploits the complementary statistical properties from these divergences to effectively diversify the estimated density in capturing multi-modes.\n",
        "\n",
        "본 논문에서 제안하는 D2GAN의 목적함수는 다음과 같다.\n",
        "\n",
        "$$ \\min_{G} \\max_{D_1,D_2} J (G,D_1,D_2) = \\alpha \\times E_{x \\sim P_{data}} [logD_1 (x)] + E_{z \\sim P_z} [-D_1 (G(z))] + E_{x \\sim P_{data}}[-D_2 (x)] + \\beta \\times E_{z \\sim P_z} [logD_2 (G(z))] $$\n",
        "\n",
        "여기서 alpha, beta는 hyperparameter로서, 본 논문의 실험에서는 다양한 값을 대입하여 각각의 성능을 확인하였다.\n",
        "\n",
        "이렇게 값을 찾아야만 하는가?"
      ]
    },
    {
      "cell_type": "markdown",
      "metadata": {
        "id": "qBQHO9hOBho-"
      },
      "source": [
        "## 6) MD-GAN: Multi-Discriminator Generative Adversarial Networks for Distributed Datasets [성능 향상]\n",
        "\n",
        "we address the problem of distributing GANs so that they are able to train over datasets that are spread on multiple workers. MD-GAN is exposed as the first solution for this problem: we propose a novel learning procedure for GANs\n",
        "so that they fit this distributed setup. We then compare the performance of MD-GAN to an adapted version of Federated Learning to GANs, using the MNIST and CIFAR10 datasets."
      ]
    },
    {
      "cell_type": "markdown",
      "metadata": {
        "id": "FPUM8QvQCWzi"
      },
      "source": [
        "## 7) ParallelWasserstein Generative Adversarial Nets with Multiple Discriminators [성능 향상]\n",
        "\n",
        "In this paper, we solve the computation cost problem by speeding up the Wasserstein GANs from a welldesigned communication efficient parallel architecture. 그리고 이것을 Multiple Discriminators 로 구성하였다."
      ]
    },
    {
      "cell_type": "markdown",
      "metadata": {
        "id": "LjztFvs812EB"
      },
      "source": [
        "# 4. Proposed methods\n",
        "\n",
        "ref : https://realpython.com/python-ai-neural-network/\n",
        "\n",
        "\n",
        "\n",
        "colab 수식입력 : \n",
        "\n",
        "https://wikidocs.net/1679\n",
        "\n",
        "https://en.wikipedia.org/wiki/Help:Displaying_a_formula#Formatting_using_TeX\n",
        "\n",
        "Original GAN의 목적함수\n",
        "$$ \\min_{G}\\max_{D} V(D,G) = E_{x\\sim p_{data}(x)}[logD(x)] + E_{z\\sim p_{z}(z)}[log(1-D(G(z)))] $$\n",
        "\n",
        "Multi-Discriminator GAN은 discriminator가 각 목적에 의하여 여러개 (N개) 있다.\n",
        "MDGAN의 목적함수\n",
        "\n",
        "$$ \\min_{G}\\max_{D_{i\\sim N}} V(D_{i\\sim N},G) = \\sum_{i=1}^N \\{E_{x\\sim p_{data}(x)}[logD_i(x)] + E_{z\\sim p_{z}(z)}[log(1-D_i(G(z)))]\\} $$\n",
        "\n",
        "여기서\n",
        "\n",
        "$$ L(D_i,G) =  E_{x\\sim p_{data}(x)}[logD_i(x)] + E_{z\\sim p_{z}(z)}[log(1-D_i(G(z)))] $$\n",
        "\n",
        "이라하고 단순화 하면\n",
        "\n",
        "$$ \\min_{G}\\max_{D_{i\\sim N}} V(D_{i\\sim N},G) = \\sum_{i=1}^N L(D_i,G) $$\n",
        "\n",
        "와 같이 된다.\n",
        "\n",
        "문제점은 GAN의 특성상, 특정 Discriminator가 학습에 있어 지배적으로 loss 함수에 영향을 미치게 되어 각각의 Discriminator가 골고루 학습에 참여하지 못하고 의도하지 않은 결과를 만들게 된다. 이러한 문제점을 극복하기 위해 다음의 두가지 제안을 한다.\n",
        "\n",
        "1) 목적함수에 각 Loss 에 대한 표준편차 (standard-deviation) 를 반영하여 각 Discriminator에 대한 Loss가 상호 유사한 수준을 유지하면 학습이 진행되도록 한다.\n",
        "\n",
        "$$ \\min_{G}\\max_{D_{i\\sim N}} V(D_{i\\sim N},G) = \\sum_{i=1}^N L(D_i,G) + \\sigma(L(D_i,G))$$\n",
        "\n",
        "2) 각 discriminator에 의한 loss를 제어하기 위해, adaptive discriminant factor (ADF) 를 적용하고, 학습의 진행 과정에서 이를 최적화 한다. \n",
        "\n",
        "$$ \\min_{G}\\max_{D_{i\\sim N}} V(\\lambda_{i\\sim N},D_{i\\sim N},G) = \\sum_{i=1}^N \\lambda_iL(D_i,G)$$\n",
        "\n",
        "3) 1)의 제안에 2)의 제안을 추가한다.\n",
        "\n",
        "$$ \\min_{G}\\max_{D_{i\\sim N}} V(\\lambda_{i\\sim N},D_{i\\sim N},G) = \\sum_{i=1}^N \\lambda_iL(D_i,G) + \\sigma(L(D_i,G))$$\n",
        "\n",
        "\n",
        "여기서\n",
        "\n",
        "$$ \\lambda_i = adaptive\\ discriminant \\ factor \\ for \\ discriminator \\ i  $$\n",
        "\n",
        "중요한 것은, 학습과정에서 L_i을 작게 (학습의 방향)하기 위해서는 lambda_i는 역으로 커져야 한다. 그래야, 전체 Loss function에서 비중이 증대되어 더 적극적인 학습이 이루어 지게 된다. 따라서, lambda_i의 최적화 방향은 기존의 gradient decent와 반대 방향이 되어야 한다.\n",
        "\n",
        "$$ \\lambda_i^{t+1} = \\lambda_i^t + \\gamma \\nabla V(\\lambda_{i\\sim N}^t,D_{i\\sim N},G)$$"
      ]
    },
    {
      "cell_type": "markdown",
      "metadata": {
        "id": "K87VNBbeRLFF"
      },
      "source": [
        "#5. Experiment\n",
        "\n"
      ]
    },
    {
      "cell_type": "markdown",
      "metadata": {
        "id": "vGovNR_uVJFB"
      },
      "source": [
        "실험은 CIFAR-10의 GAN 생성에서, N개의 Discriminator를 사용하며, 위의 3가지 제안을 각각 적용하여 Inception score 를 측정한다\n",
        "\n",
        "https://machinelearningmastery.com/how-to-implement-the-inception-score-from-scratch-for-evaluating-generated-images/\n",
        "\n",
        "https://github.com/hvy/chainer-inception-score\n",
        "\n",
        "https://colab.research.google.com/github/ssundar6087/vision-and-words/blob/master/_notebooks/2020-05-01-DCGAN-CIFAR10.ipynb\n",
        "\n",
        "https://pytorch.org/tutorials/beginner/dcgan_faces_tutorial.html\n",
        "\n"
      ]
    },
    {
      "cell_type": "markdown",
      "metadata": {
        "id": "uJelZOUbelwt"
      },
      "source": [
        "## Requirements"
      ]
    },
    {
      "cell_type": "code",
      "metadata": {
        "colab": {
          "base_uri": "https://localhost:8080/"
        },
        "id": "JQhaYsGRCxhZ",
        "outputId": "73b9964a-712d-4e1f-96c5-c0cd9ffba18f"
      },
      "source": [
        "\n",
        "if True:\n",
        "    from google.colab import drive\n",
        "    drive.mount('/content/drive')"
      ],
      "execution_count": 1,
      "outputs": [
        {
          "output_type": "stream",
          "text": [
            "Mounted at /content/drive\n"
          ],
          "name": "stdout"
        }
      ]
    },
    {
      "cell_type": "code",
      "metadata": {
        "colab": {
          "base_uri": "https://localhost:8080/"
        },
        "id": "PuCPVP4wetwa",
        "outputId": "1ed242e7-2129-4756-b7d3-2605aa2d5955"
      },
      "source": [
        "from __future__ import print_function\n",
        "import argparse\n",
        "import random # to set the python random seed\n",
        "%matplotlib inline\n",
        "import os\n",
        "import numpy as np\n",
        "import matplotlib.pyplot as plt\n",
        "import matplotlib.animation as animation\n",
        "from IPython.display import HTML\n",
        "import torch\n",
        "import torch.nn as nn\n",
        "import torch.nn.functional as F\n",
        "import torch.nn.parallel\n",
        "import torch.backends.cudnn as cudnn\n",
        "import torch.utils.data\n",
        "import torchvision.utils as vutils\n",
        "import torch.optim as optim\n",
        "from torchvision import datasets, transforms\n",
        "# Ignore excessive warnings\n",
        "import logging\n",
        "logging.propagate = False \n",
        "logging.getLogger().setLevel(logging.ERROR)\n",
        "\n",
        "# Set random seed for reproducibility\n",
        "manualSeed = 42\n",
        "random.seed(manualSeed)\n",
        "torch.manual_seed(manualSeed)\n",
        "\n",
        "# WandB – Import the wandb library\n",
        "#import wandb\n",
        "#wandb.login()\n",
        "#wandb.init(project=\"dcgan\") # Change the project name based on your W & B account"
      ],
      "execution_count": 2,
      "outputs": [
        {
          "output_type": "execute_result",
          "data": {
            "text/plain": [
              "<torch._C.Generator at 0x7f863ff183f0>"
            ]
          },
          "metadata": {
            "tags": []
          },
          "execution_count": 2
        }
      ]
    },
    {
      "cell_type": "markdown",
      "metadata": {
        "id": "88tiJ_fGezW5"
      },
      "source": [
        "## Parameters of Interest\n",
        "Note that the Pytorch tutorial [referenced below](https://pytorch.org/tutorials/beginner/dcgan_faces_tutorial.html) is designed for the **Celebrity faces** dataset and produces `64 x 64` images. I've tweaked the network architecture to produce `32 x 32` images as corresponding to the **CIFAR-10** dataset. The parameters below reflect the same. "
      ]
    },
    {
      "cell_type": "code",
      "metadata": {
        "id": "PH2Syb9yewfR"
      },
      "source": [
        "# Number of workers for dataloader\n",
        "workers = 2\n",
        "\n",
        "# Batch size during training\n",
        "batch_size = 128\n",
        "\n",
        "# Spatial size of training images. All images will be resized to this\n",
        "#   size using a transformer.\n",
        "image_size = 32\n",
        "\n",
        "# Number of channels in the training images. For color images this is 3\n",
        "nc = 3\n",
        "\n",
        "# Size of z latent vector (i.e. size of generator input)\n",
        "nz = 100\n",
        "\n",
        "# Size of feature maps in generator\n",
        "ngf = 64\n",
        "\n",
        "# Size of feature maps in discriminator\n",
        "ndf = 64\n",
        "\n",
        "# Number of training epochs\n",
        "num_epochs = 10\n",
        "\n",
        "# Learning rate for optimizers\n",
        "lr = 0.0002\n",
        "\n",
        "# Beta1 hyperparam for Adam optimizers\n",
        "beta1 = 0.5\n",
        "\n",
        "# Number of GPUs available. Use 0 for CPU mode.\n",
        "ngpu = 1"
      ],
      "execution_count": 13,
      "outputs": []
    },
    {
      "cell_type": "markdown",
      "metadata": {
        "id": "Q9xLvwOGe3Me"
      },
      "source": [
        "## Model Definition\n",
        "Let's define a generator and discriminator first. Weight initialization is a key factor in being able to produce a decent GAN and as per the paper, the weights are drawn from a _normal_ distribution with `0` mean and a standard-deviation of `0.02`. Also note that unlike in the original pytorch tutorial, I've removed one layer from the generator (at the end) and from the discriminator (at the beginning) to accomodate the CIFAR-10 dataset."
      ]
    },
    {
      "cell_type": "code",
      "metadata": {
        "id": "48qcc0Mke4-C"
      },
      "source": [
        "def weights_init(m):\n",
        "    classname = m.__class__.__name__\n",
        "    if classname.find('Conv') != -1:\n",
        "        nn.init.normal_(m.weight.data, 0.0, 0.02)\n",
        "    elif classname.find('BatchNorm') != -1:\n",
        "        nn.init.normal_(m.weight.data, 1.0, 0.02)\n",
        "        nn.init.constant_(m.bias.data, 0)"
      ],
      "execution_count": 4,
      "outputs": []
    },
    {
      "cell_type": "code",
      "metadata": {
        "id": "eIdITkPLe78S"
      },
      "source": [
        "# Generator\n",
        "class Generator(nn.Module):\n",
        "    def __init__(self, ngpu):\n",
        "        super(Generator, self).__init__()\n",
        "        self.ngpu = ngpu\n",
        "        self.main = nn.Sequential(\n",
        "            nn.ConvTranspose2d( nz, ngf * 8, 4, 1, 0, bias=False),\n",
        "            nn.BatchNorm2d(ngf * 8),\n",
        "            nn.ReLU(True),\n",
        "            nn.ConvTranspose2d(ngf * 8, ngf * 4, 4, 2, 1, bias=False),\n",
        "            nn.BatchNorm2d(ngf * 4),\n",
        "            nn.ReLU(True),\n",
        "            nn.ConvTranspose2d( ngf * 4, ngf * 2, 4, 2, 1, bias=False),\n",
        "            nn.BatchNorm2d(ngf * 2),\n",
        "            nn.ReLU(True),\n",
        "            nn.ConvTranspose2d( ngf * 2, nc, 4, 2, 1, bias=False),\n",
        "            nn.Tanh()\n",
        "        )\n",
        "\n",
        "    def forward(self, input):\n",
        "        return self.main(input)"
      ],
      "execution_count": 5,
      "outputs": []
    },
    {
      "cell_type": "code",
      "metadata": {
        "id": "aS-V8MgMe8wu"
      },
      "source": [
        "# Discriminator\n",
        "class Discriminator(nn.Module):\n",
        "    def __init__(self, ngpu):\n",
        "        super(Discriminator, self).__init__()\n",
        "        self.ngpu = ngpu\n",
        "        self.main = nn.Sequential(\n",
        "            nn.Conv2d(nc, ndf, 4, 2, 1, bias=False),\n",
        "            nn.LeakyReLU(0.2, inplace=True),\n",
        "            nn.Conv2d(ndf, ndf * 2, 4, 2, 1, bias=False),\n",
        "            nn.BatchNorm2d(ndf * 2),\n",
        "            nn.LeakyReLU(0.2, inplace=True),\n",
        "            nn.Conv2d(ndf * 2, ndf * 4, 4, 2, 1, bias=False),\n",
        "            nn.BatchNorm2d(ndf * 4),\n",
        "            nn.LeakyReLU(0.2, inplace=True),\n",
        "            nn.Conv2d(ndf * 4, 1, 4, 1, 0, bias=False),\n",
        "            nn.Sigmoid()\n",
        "        )\n",
        "\n",
        "    def forward(self, input):\n",
        "        return self.main(input)"
      ],
      "execution_count": 6,
      "outputs": []
    },
    {
      "cell_type": "markdown",
      "metadata": {
        "id": "TgG3zeQhe-5e"
      },
      "source": [
        "## Defining the Training Function\n",
        "The training function first trains the discriminator and then the generator as shown below. Note that by setting the real label value to `0.9` and the fake label value to `0.1`, I've applied label smoothing which has been shown to improve the results produced by the GAN."
      ]
    },
    {
      "cell_type": "code",
      "metadata": {
        "id": "NYj9LfvufAuK"
      },
      "source": [
        "def train(gen, disc, device, dataloader, optimizerG, optimizerD, criterion, epoch, iters):\n",
        "  gen.train()\n",
        "  disc.train()\n",
        "  img_list = []\n",
        "  fixed_noise = torch.randn(64, nz, 1, 1, device=device)\n",
        "\n",
        "  # Establish convention for real and fake labels during training (with label smoothing)\n",
        "  real_label = 0.9\n",
        "  fake_label = 0.1\n",
        "  for i, data in enumerate(dataloader, 0):\n",
        "\n",
        "      #*****\n",
        "      # Update Discriminator\n",
        "      #*****\n",
        "      ## Train with all-real batch\n",
        "      disc.zero_grad()\n",
        "      # Format batch\n",
        "      real_cpu = data[0].to(device)\n",
        "      b_size = real_cpu.size(0)\n",
        "      label = torch.full((b_size,), real_label, device=device)\n",
        "      # Forward pass real batch through D\n",
        "      output = disc(real_cpu).view(-1)\n",
        "      # Calculate loss on all-real batch\n",
        "      errD_real = criterion(output, label)\n",
        "      # Calculate gradients for D in backward pass\n",
        "      errD_real.backward()\n",
        "      D_x = output.mean().item()\n",
        "\n",
        "      ## Train with all-fake batch\n",
        "      # Generate batch of latent vectors\n",
        "      noise = torch.randn(b_size, nz, 1, 1, device=device)\n",
        "      # Generate fake image batch with G\n",
        "      fake = gen(noise)\n",
        "      label.fill_(fake_label)\n",
        "      # Classify all fake batch with D\n",
        "      output = disc(fake.detach()).view(-1)\n",
        "      # Calculate D's loss on the all-fake batch\n",
        "      errD_fake = criterion(output, label)\n",
        "      # Calculate the gradients for this batch\n",
        "      errD_fake.backward()\n",
        "      D_G_z1 = output.mean().item()\n",
        "      # Add the gradients from the all-real and all-fake batches\n",
        "      errD = errD_real + errD_fake\n",
        "      # Update D\n",
        "      optimizerD.step()\n",
        "\n",
        "      #*****\n",
        "      # Update Generator\n",
        "      #*****\n",
        "      gen.zero_grad()\n",
        "      label.fill_(real_label)  # fake labels are real for generator cost\n",
        "      # Since we just updated D, perform another forward pass of all-fake batch through D\n",
        "      output = disc(fake).view(-1)\n",
        "      # Calculate G's loss based on this output\n",
        "      errG = criterion(output, label)\n",
        "      # Calculate gradients for G\n",
        "      errG.backward()\n",
        "      D_G_z2 = output.mean().item()\n",
        "      # Update G\n",
        "      optimizerG.step()\n",
        "\n",
        "      # Output training stats\n",
        "      if i % 50 == 0:\n",
        "          print('[%d/%d][%d/%d]\\tLoss_D: %.4f\\tLoss_G: %.4f\\tD(x): %.4f\\tD(G(z)): %.4f / %.4f'\n",
        "                % (epoch, num_epochs, i, len(dataloader),\n",
        "                    errD.item(), errG.item(), D_x, D_G_z1, D_G_z2))\n",
        "\n",
        "      iters += 1"
      ],
      "execution_count": 78,
      "outputs": []
    },
    {
      "cell_type": "markdown",
      "metadata": {
        "id": "rZAHrsFMfI2R"
      },
      "source": [
        "## Monitoring the Run\n",
        "Once we have all the pieces in place, all we need to do is train the model and watch it learn."
      ]
    },
    {
      "cell_type": "code",
      "metadata": {
        "colab": {
          "base_uri": "https://localhost:8080/"
        },
        "id": "fkUXUZebfCYo",
        "outputId": "f6a99d1e-92f6-4209-85be-6f12b5663fbb"
      },
      "source": [
        "#hide-collapse\n",
        "\n",
        "#wandb.watch_called = False \n",
        "# WandB – Config is a variable that holds and saves hyperparameters and inputs\n",
        "#config = wandb.config          # Initialize config\n",
        "#config.batch_size = batch_size \n",
        "#config.epochs = num_epochs         \n",
        "#config.lr = lr              \n",
        "#config.beta1 = beta1\n",
        "#config.nz = nz          \n",
        "#config.no_cuda = False         \n",
        "#config.seed = manualSeed # random seed (default: 42)\n",
        "#config.log_interval = 10 # how many batches to wait before logging training status\n",
        "\n",
        "use_cuda = not False and torch.cuda.is_available()\n",
        "device = torch.device(\"cuda\" if use_cuda else \"cpu\")\n",
        "kwargs = {'num_workers': 1, 'pin_memory': True} if use_cuda else {}\n",
        "\n",
        "# Set random seeds and deterministic pytorch for reproducibility\n",
        "random.seed(manualSeed)       # python random seed\n",
        "torch.manual_seed(manualSeed) # pytorch random seed\n",
        "np.random.seed(manualSeed) # numpy random seed\n",
        "torch.backends.cudnn.deterministic = True\n",
        "\n",
        "# Load the dataset\n",
        "transform = transforms.Compose(\n",
        "    [transforms.Scale(32),\n",
        "     transforms.ToTensor(),\n",
        "     transforms.Normalize((0.5, 0.5, 0.5), (0.5, 0.5, 0.5))])\n",
        "\n",
        "trainset = datasets.CIFAR10(root='./data', train=True,\n",
        "                                        download=True, transform=transform)\n",
        "trainloader = torch.utils.data.DataLoader(trainset, batch_size=batch_size,\n",
        "                                            shuffle=True, num_workers=workers)\n",
        "\n",
        "# Create the generator\n",
        "netG = Generator(ngpu).to(device)\n",
        "\n",
        "do_train = True\n",
        "\n",
        "if do_train:\n",
        "\n",
        "    # Handle multi-gpu if desired\n",
        "    if (device.type == 'cuda') and (ngpu > 1):\n",
        "        netG = nn.DataParallel(netG, list(range(ngpu)))\n",
        "\n",
        "    # Apply the weights_init function to randomly initialize all weights\n",
        "    #  to mean=0, stdev=0.2.\n",
        "    netG.apply(weights_init)\n",
        "\n",
        "    # Create the Discriminator\n",
        "    netD = Discriminator(ngpu).to(device)\n",
        "\n",
        "    # Handle multi-gpu if desired\n",
        "    if (device.type == 'cuda') and (ngpu > 1):\n",
        "        netD = nn.DataParallel(netD, list(range(ngpu)))\n",
        "\n",
        "    # Apply the weights_init function to randomly initialize all weights\n",
        "    #  to mean=0, stdev=0.2.\n",
        "    netD.apply(weights_init)\n",
        "\n",
        "    # Initialize BCELoss function\n",
        "    criterion = nn.BCELoss()\n",
        "\n",
        "    # Setup Adam optimizers for both G and D\n",
        "    optimizerD = optim.Adam(netD.parameters(), lr=lr, betas=(beta1, 0.999))\n",
        "    optimizerG = optim.Adam(netG.parameters(), lr=lr, betas=(beta1, 0.999))\n",
        "\n",
        "    # WandB – wandb.watch() automatically fetches all layer dimensions, gradients, model parameters and logs them automatically to your dashboard.\n",
        "    # Using log=\"all\" log histograms of parameter values in addition to gradients\n",
        "    #wandb.watch(netG, log=\"all\")\n",
        "    #wandb.watch(netD, log=\"all\")\n",
        "    iters = 0\n",
        "    for epoch in range(1, num_epochs + 1):\n",
        "        train(netG, netD, device, trainloader, optimizerG, optimizerD, criterion, epoch, iters)\n",
        "        \n",
        "    # WandB – Save the model checkpoint. This automatically saves a file to the cloud and associates it with the current run.\n",
        "    torch.save(netG.state_dict(), \"/content/drive/MyDrive/AMD-GAN/CIFAR10_GAN_model/model.h5\")\n",
        "    #wandb.save('/content/drive/MyDrive/AMD-GAN/CIFAR10_GAN_model/model.h5')\n",
        "\n",
        "    gen = netG\n",
        "    gen.eval()\n",
        "else:\n",
        "    # Create the generator\n",
        "    gen = Generator(ngpu).to(device)\n",
        "    gen.load_state_dict(torch.load('/content/drive/MyDrive/AMD-GAN/CIFAR10_GAN_model/model.h5'))\n",
        "    gen.eval()\n"
      ],
      "execution_count": 96,
      "outputs": [
        {
          "output_type": "stream",
          "text": [
            "/usr/local/lib/python3.7/dist-packages/torchvision/transforms/transforms.py:285: UserWarning: The use of the transforms.Scale transform is deprecated, please use transforms.Resize instead.\n",
            "  warnings.warn(\"The use of the transforms.Scale transform is deprecated, \" +\n"
          ],
          "name": "stderr"
        },
        {
          "output_type": "stream",
          "text": [
            "Files already downloaded and verified\n",
            "[1/10][0/391]\tLoss_D: 1.8011\tLoss_G: 1.2655\tD(x): 0.3113\tD(G(z)): 0.3837 / 0.2868\n",
            "[1/10][50/391]\tLoss_D: 0.9177\tLoss_G: 4.3246\tD(x): 0.7232\tD(G(z)): 0.2691 / 0.0098\n",
            "[1/10][100/391]\tLoss_D: 0.6980\tLoss_G: 2.0994\tD(x): 0.8635\tD(G(z)): 0.0985 / 0.1032\n",
            "[1/10][150/391]\tLoss_D: 0.9581\tLoss_G: 2.3060\tD(x): 0.6782\tD(G(z)): 0.2138 / 0.0864\n",
            "[1/10][200/391]\tLoss_D: 0.9465\tLoss_G: 1.7895\tD(x): 0.6808\tD(G(z)): 0.2728 / 0.1521\n",
            "[1/10][250/391]\tLoss_D: 0.8297\tLoss_G: 2.4752\tD(x): 0.7061\tD(G(z)): 0.1625 / 0.0717\n",
            "[1/10][300/391]\tLoss_D: 0.8131\tLoss_G: 2.5545\tD(x): 0.8225\tD(G(z)): 0.2451 / 0.0636\n",
            "[1/10][350/391]\tLoss_D: 1.0724\tLoss_G: 1.3907\tD(x): 0.5900\tD(G(z)): 0.2899 / 0.2412\n",
            "[2/10][0/391]\tLoss_D: 1.3085\tLoss_G: 1.6221\tD(x): 0.6621\tD(G(z)): 0.5089 / 0.2035\n",
            "[2/10][50/391]\tLoss_D: 1.0224\tLoss_G: 1.5641\tD(x): 0.5870\tD(G(z)): 0.2385 / 0.1950\n",
            "[2/10][100/391]\tLoss_D: 1.3698\tLoss_G: 1.6569\tD(x): 0.4601\tD(G(z)): 0.3528 / 0.1786\n",
            "[2/10][150/391]\tLoss_D: 0.9231\tLoss_G: 1.6582\tD(x): 0.6672\tD(G(z)): 0.2373 / 0.1816\n",
            "[2/10][200/391]\tLoss_D: 1.5554\tLoss_G: 1.6853\tD(x): 0.3568\tD(G(z)): 0.0317 / 0.1789\n",
            "[2/10][250/391]\tLoss_D: 1.0014\tLoss_G: 2.5649\tD(x): 0.7113\tD(G(z)): 0.3470 / 0.0711\n",
            "[2/10][300/391]\tLoss_D: 0.7955\tLoss_G: 2.0864\tD(x): 0.7956\tD(G(z)): 0.2306 / 0.1116\n",
            "[2/10][350/391]\tLoss_D: 0.8541\tLoss_G: 1.8908\tD(x): 0.7069\tD(G(z)): 0.1919 / 0.1409\n",
            "[3/10][0/391]\tLoss_D: 0.8275\tLoss_G: 2.0123\tD(x): 0.7882\tD(G(z)): 0.2425 / 0.1300\n",
            "[3/10][50/391]\tLoss_D: 0.8505\tLoss_G: 2.3419\tD(x): 0.7909\tD(G(z)): 0.2842 / 0.0908\n",
            "[3/10][100/391]\tLoss_D: 0.8909\tLoss_G: 2.0730\tD(x): 0.7598\tD(G(z)): 0.2726 / 0.1200\n",
            "[3/10][150/391]\tLoss_D: 0.8979\tLoss_G: 2.1610\tD(x): 0.7742\tD(G(z)): 0.3108 / 0.1090\n",
            "[3/10][200/391]\tLoss_D: 1.0675\tLoss_G: 1.2670\tD(x): 0.5651\tD(G(z)): 0.2380 / 0.2847\n",
            "[3/10][250/391]\tLoss_D: 0.9541\tLoss_G: 1.4582\tD(x): 0.6650\tD(G(z)): 0.2472 / 0.2286\n",
            "[3/10][300/391]\tLoss_D: 1.0031\tLoss_G: 1.8166\tD(x): 0.6147\tD(G(z)): 0.2427 / 0.1576\n",
            "[3/10][350/391]\tLoss_D: 1.4292\tLoss_G: 1.3234\tD(x): 0.4821\tD(G(z)): 0.3927 / 0.2717\n",
            "[4/10][0/391]\tLoss_D: 1.0548\tLoss_G: 1.6513\tD(x): 0.7833\tD(G(z)): 0.4573 / 0.1784\n",
            "[4/10][50/391]\tLoss_D: 1.1021\tLoss_G: 1.1452\tD(x): 0.6105\tD(G(z)): 0.3560 / 0.3162\n",
            "[4/10][100/391]\tLoss_D: 0.9093\tLoss_G: 2.0265\tD(x): 0.7347\tD(G(z)): 0.2937 / 0.1226\n",
            "[4/10][150/391]\tLoss_D: 0.9019\tLoss_G: 1.5047\tD(x): 0.7097\tD(G(z)): 0.2745 / 0.2124\n",
            "[4/10][200/391]\tLoss_D: 1.1108\tLoss_G: 2.4617\tD(x): 0.8056\tD(G(z)): 0.4776 / 0.0792\n",
            "[4/10][250/391]\tLoss_D: 0.8815\tLoss_G: 1.8761\tD(x): 0.7731\tD(G(z)): 0.2741 / 0.1441\n",
            "[4/10][300/391]\tLoss_D: 0.8666\tLoss_G: 1.5903\tD(x): 0.7111\tD(G(z)): 0.2182 / 0.1987\n",
            "[4/10][350/391]\tLoss_D: 0.9088\tLoss_G: 1.4965\tD(x): 0.6531\tD(G(z)): 0.1809 / 0.2163\n",
            "[5/10][0/391]\tLoss_D: 1.0665\tLoss_G: 1.6041\tD(x): 0.6252\tD(G(z)): 0.3245 / 0.1926\n",
            "[5/10][50/391]\tLoss_D: 0.9692\tLoss_G: 2.0617\tD(x): 0.7683\tD(G(z)): 0.3659 / 0.1205\n",
            "[5/10][100/391]\tLoss_D: 0.8982\tLoss_G: 2.2917\tD(x): 0.8012\tD(G(z)): 0.3412 / 0.0924\n",
            "[5/10][150/391]\tLoss_D: 0.8834\tLoss_G: 2.2936\tD(x): 0.8082\tD(G(z)): 0.3281 / 0.0957\n",
            "[5/10][200/391]\tLoss_D: 1.0823\tLoss_G: 1.5750\tD(x): 0.6458\tD(G(z)): 0.3658 / 0.1987\n",
            "[5/10][250/391]\tLoss_D: 1.0134\tLoss_G: 2.1585\tD(x): 0.7244\tD(G(z)): 0.3818 / 0.1077\n",
            "[5/10][300/391]\tLoss_D: 1.0136\tLoss_G: 2.0943\tD(x): 0.7711\tD(G(z)): 0.4095 / 0.1146\n",
            "[5/10][350/391]\tLoss_D: 1.1678\tLoss_G: 1.9095\tD(x): 0.7658\tD(G(z)): 0.5037 / 0.1371\n",
            "[6/10][0/391]\tLoss_D: 0.9977\tLoss_G: 2.3623\tD(x): 0.7981\tD(G(z)): 0.4176 / 0.0870\n",
            "[6/10][50/391]\tLoss_D: 1.0397\tLoss_G: 1.5348\tD(x): 0.6487\tD(G(z)): 0.3396 / 0.2043\n",
            "[6/10][100/391]\tLoss_D: 1.0480\tLoss_G: 1.5036\tD(x): 0.7107\tD(G(z)): 0.4001 / 0.2162\n",
            "[6/10][150/391]\tLoss_D: 0.9750\tLoss_G: 1.7403\tD(x): 0.7903\tD(G(z)): 0.3985 / 0.1640\n",
            "[6/10][200/391]\tLoss_D: 1.1163\tLoss_G: 1.0703\tD(x): 0.6023\tD(G(z)): 0.3668 / 0.3395\n",
            "[6/10][250/391]\tLoss_D: 0.9945\tLoss_G: 1.5618\tD(x): 0.6810\tD(G(z)): 0.3291 / 0.2000\n",
            "[6/10][300/391]\tLoss_D: 1.0074\tLoss_G: 1.3618\tD(x): 0.6411\tD(G(z)): 0.2947 / 0.2529\n",
            "[6/10][350/391]\tLoss_D: 0.9286\tLoss_G: 1.4802\tD(x): 0.7203\tD(G(z)): 0.3161 / 0.2160\n",
            "[7/10][0/391]\tLoss_D: 1.0394\tLoss_G: 1.4084\tD(x): 0.6677\tD(G(z)): 0.3517 / 0.2377\n",
            "[7/10][50/391]\tLoss_D: 0.9319\tLoss_G: 1.5638\tD(x): 0.7453\tD(G(z)): 0.3453 / 0.1940\n",
            "[7/10][100/391]\tLoss_D: 1.0492\tLoss_G: 1.2821\tD(x): 0.5909\tD(G(z)): 0.2669 / 0.2772\n",
            "[7/10][150/391]\tLoss_D: 1.0423\tLoss_G: 1.8635\tD(x): 0.7603\tD(G(z)): 0.4322 / 0.1432\n",
            "[7/10][200/391]\tLoss_D: 1.0205\tLoss_G: 2.0548\tD(x): 0.6852\tD(G(z)): 0.3541 / 0.1182\n",
            "[7/10][250/391]\tLoss_D: 1.0039\tLoss_G: 1.3118\tD(x): 0.6436\tD(G(z)): 0.3084 / 0.2639\n",
            "[7/10][300/391]\tLoss_D: 1.0785\tLoss_G: 0.8896\tD(x): 0.5325\tD(G(z)): 0.1670 / 0.4236\n",
            "[7/10][350/391]\tLoss_D: 0.8832\tLoss_G: 1.4285\tD(x): 0.6992\tD(G(z)): 0.2387 / 0.2273\n",
            "[8/10][0/391]\tLoss_D: 1.2110\tLoss_G: 1.2548\tD(x): 0.4437\tD(G(z)): 0.1607 / 0.2862\n",
            "[8/10][50/391]\tLoss_D: 1.0753\tLoss_G: 1.3535\tD(x): 0.5977\tD(G(z)): 0.2927 / 0.2571\n",
            "[8/10][100/391]\tLoss_D: 0.9355\tLoss_G: 1.8675\tD(x): 0.7607\tD(G(z)): 0.3531 / 0.1448\n",
            "[8/10][150/391]\tLoss_D: 1.1269\tLoss_G: 1.2620\tD(x): 0.6073\tD(G(z)): 0.3796 / 0.2726\n",
            "[8/10][200/391]\tLoss_D: 1.2476\tLoss_G: 0.9591\tD(x): 0.4599\tD(G(z)): 0.2688 / 0.3855\n",
            "[8/10][250/391]\tLoss_D: 1.0906\tLoss_G: 1.4795\tD(x): 0.6709\tD(G(z)): 0.4059 / 0.2163\n",
            "[8/10][300/391]\tLoss_D: 1.0480\tLoss_G: 1.4048\tD(x): 0.5705\tD(G(z)): 0.2367 / 0.2369\n",
            "[8/10][350/391]\tLoss_D: 1.0797\tLoss_G: 1.6255\tD(x): 0.7501\tD(G(z)): 0.4590 / 0.1851\n",
            "[9/10][0/391]\tLoss_D: 1.3849\tLoss_G: 0.7046\tD(x): 0.3585\tD(G(z)): 0.1604 / 0.5155\n",
            "[9/10][50/391]\tLoss_D: 1.0245\tLoss_G: 1.2513\tD(x): 0.6076\tD(G(z)): 0.2890 / 0.2757\n",
            "[9/10][100/391]\tLoss_D: 0.9117\tLoss_G: 1.5983\tD(x): 0.6844\tD(G(z)): 0.2600 / 0.1909\n",
            "[9/10][150/391]\tLoss_D: 1.4074\tLoss_G: 1.5711\tD(x): 0.7242\tD(G(z)): 0.5941 / 0.2044\n",
            "[9/10][200/391]\tLoss_D: 1.0207\tLoss_G: 1.6663\tD(x): 0.7684\tD(G(z)): 0.4187 / 0.1785\n",
            "[9/10][250/391]\tLoss_D: 1.0030\tLoss_G: 1.4607\tD(x): 0.7451\tD(G(z)): 0.3950 / 0.2225\n",
            "[9/10][300/391]\tLoss_D: 1.0218\tLoss_G: 1.2075\tD(x): 0.5786\tD(G(z)): 0.2443 / 0.2967\n",
            "[9/10][350/391]\tLoss_D: 1.0577\tLoss_G: 1.4015\tD(x): 0.5859\tD(G(z)): 0.2822 / 0.2401\n",
            "[10/10][0/391]\tLoss_D: 1.0521\tLoss_G: 1.5030\tD(x): 0.6980\tD(G(z)): 0.4033 / 0.2127\n",
            "[10/10][50/391]\tLoss_D: 1.0325\tLoss_G: 1.2808\tD(x): 0.6152\tD(G(z)): 0.3114 / 0.2671\n",
            "[10/10][100/391]\tLoss_D: 0.9309\tLoss_G: 2.0737\tD(x): 0.8413\tD(G(z)): 0.3980 / 0.1133\n",
            "[10/10][150/391]\tLoss_D: 1.0434\tLoss_G: 1.5961\tD(x): 0.7229\tD(G(z)): 0.4122 / 0.1908\n",
            "[10/10][200/391]\tLoss_D: 1.2469\tLoss_G: 0.8057\tD(x): 0.4501\tD(G(z)): 0.2522 / 0.4575\n",
            "[10/10][250/391]\tLoss_D: 1.1382\tLoss_G: 1.1353\tD(x): 0.5085\tD(G(z)): 0.2569 / 0.3148\n",
            "[10/10][300/391]\tLoss_D: 0.9945\tLoss_G: 1.3030\tD(x): 0.6711\tD(G(z)): 0.3383 / 0.2643\n",
            "[10/10][350/391]\tLoss_D: 1.1060\tLoss_G: 1.4034\tD(x): 0.6393\tD(G(z)): 0.4005 / 0.2316\n"
          ],
          "name": "stdout"
        }
      ]
    },
    {
      "cell_type": "markdown",
      "metadata": {
        "id": "ZGiD4A051QWH"
      },
      "source": [
        "## Original CIFAR10의 Inception Score"
      ]
    },
    {
      "cell_type": "code",
      "metadata": {
        "colab": {
          "base_uri": "https://localhost:8080/"
        },
        "id": "5qoIjDUf38Sz",
        "outputId": "feba1f70-ad03-46a5-fa8c-da1bbe4e5433"
      },
      "source": [
        "!git clone https://github.com/sbarratt/inception-score-pytorch.git"
      ],
      "execution_count": 24,
      "outputs": [
        {
          "output_type": "stream",
          "text": [
            "Cloning into 'inception-score-pytorch'...\n",
            "remote: Enumerating objects: 43, done.\u001b[K\n",
            "remote: Counting objects: 100% (3/3), done.\u001b[K\n",
            "remote: Compressing objects: 100% (3/3), done.\u001b[K\n",
            "remote: Total 43 (delta 0), reused 1 (delta 0), pack-reused 40\u001b[K\n",
            "Unpacking objects: 100% (43/43), done.\n"
          ],
          "name": "stdout"
        }
      ]
    },
    {
      "cell_type": "code",
      "metadata": {
        "id": "VNyy0rzEgH76"
      },
      "source": [
        "import sys\n",
        "sys.path.append('/content/inception-score-pytorch')\n",
        "from inception_score import inception_score\n"
      ],
      "execution_count": 25,
      "outputs": []
    },
    {
      "cell_type": "code",
      "metadata": {
        "colab": {
          "base_uri": "https://localhost:8080/",
          "height": 192,
          "referenced_widgets": [
            "2dfb8aee3c8e4cf585dbbdd0fcf11715",
            "19523e8029334db4b4de97051c61c64d",
            "9664ff0bd60f4c59aaa77ea7ab965204",
            "4ac592f19d484649b47a327b940801ea",
            "b4c4ed1f8a6e44a281745d6a8a23af7a",
            "1ccd8d9b05274d1c92105e9fca07f217",
            "075eb92eba5a40e8866a73cb0f52ac87",
            "92c56bd0cd614aa2ba723cb3bc1f5a8f"
          ]
        },
        "id": "XXNVB1Lm3iYT",
        "outputId": "f66f5f0f-dbdf-460a-9dbe-3f1b9e4b17ba"
      },
      "source": [
        "\n",
        "class IgnoreLabelDataset(torch.utils.data.Dataset):\n",
        "    def __init__(self, orig):\n",
        "        self.orig = orig\n",
        "\n",
        "    def __getitem__(self, index):\n",
        "        return self.orig[index][0]\n",
        "\n",
        "    def __len__(self):\n",
        "        return len(self.orig)\n",
        "\n",
        "print(inception_score(IgnoreLabelDataset(trainset), cuda=True, batch_size=32, resize=True, splits=10))"
      ],
      "execution_count": 15,
      "outputs": [
        {
          "output_type": "stream",
          "text": [
            "Downloading: \"https://download.pytorch.org/models/inception_v3_google-1a9a5a14.pth\" to /root/.cache/torch/hub/checkpoints/inception_v3_google-1a9a5a14.pth\n"
          ],
          "name": "stderr"
        },
        {
          "output_type": "display_data",
          "data": {
            "application/vnd.jupyter.widget-view+json": {
              "model_id": "2dfb8aee3c8e4cf585dbbdd0fcf11715",
              "version_minor": 0,
              "version_major": 2
            },
            "text/plain": [
              "HBox(children=(FloatProgress(value=0.0, max=108857766.0), HTML(value='')))"
            ]
          },
          "metadata": {
            "tags": []
          }
        },
        {
          "output_type": "stream",
          "text": [
            "\n"
          ],
          "name": "stdout"
        },
        {
          "output_type": "stream",
          "text": [
            "/usr/local/lib/python3.7/dist-packages/torch/nn/functional.py:3458: UserWarning: Default upsampling behavior when mode=bilinear is changed to align_corners=False since 0.4.0. Please specify align_corners=True if the old behavior is desired. See the documentation of nn.Upsample for details.\n",
            "  \"See the documentation of nn.Upsample for details.\".format(mode)\n",
            "/content/inception-score-pytorch/inception_score.py:44: UserWarning: Implicit dimension choice for softmax has been deprecated. Change the call to include dim=X as an argument.\n",
            "  return F.softmax(x).data.cpu().numpy()\n"
          ],
          "name": "stderr"
        },
        {
          "output_type": "stream",
          "text": [
            "(9.672782457317373, 0.14991608790468258)\n"
          ],
          "name": "stdout"
        }
      ]
    },
    {
      "cell_type": "code",
      "metadata": {
        "id": "6vdOEBm5LWNs"
      },
      "source": [
        "\"\"\"\n",
        "Original CIFAR10의 Inception Score\n",
        "\n",
        "/usr/local/lib/python3.7/dist-packages/torch/nn/functional.py:3458: UserWarning: Default upsampling behavior when mode=bilinear is changed to align_corners=False since 0.4.0. Please specify align_corners=True if the old behavior is desired. See the documentation of nn.Upsample for details.\n",
        "  \"See the documentation of nn.Upsample for details.\".format(mode)\n",
        "/content/inception-score-pytorch/inception_score.py:44: UserWarning: Implicit dimension choice for softmax has been deprecated. Change the call to include dim=X as an argument.\n",
        "  return F.softmax(x).data.cpu().numpy()\n",
        "(9.672782457317373, 0.14991608790468258)\n",
        "\"\"\""
      ],
      "execution_count": null,
      "outputs": []
    },
    {
      "cell_type": "code",
      "metadata": {
        "colab": {
          "base_uri": "https://localhost:8080/"
        },
        "id": "ed4NvlH_CFeA",
        "outputId": "500c7edb-b66a-40be-ca7c-3d5563105b77"
      },
      "source": [
        "id = IgnoreLabelDataset(trainset)\n",
        "id[100].shape"
      ],
      "execution_count": 16,
      "outputs": [
        {
          "output_type": "execute_result",
          "data": {
            "text/plain": [
              "torch.Size([3, 32, 32])"
            ]
          },
          "metadata": {
            "tags": []
          },
          "execution_count": 16
        }
      ]
    },
    {
      "cell_type": "markdown",
      "metadata": {
        "id": "ig0vtfTYRfPv"
      },
      "source": [
        "## 생성한 image의 inception score 측정"
      ]
    },
    {
      "cell_type": "code",
      "metadata": {
        "colab": {
          "base_uri": "https://localhost:8080/"
        },
        "id": "oPC0MAIjQElY",
        "outputId": "1fda5a91-1006-4f85-e6e0-dd4c53d5b8c9"
      },
      "source": [
        "\n",
        "eval_images = []\n",
        "for i in range(100):\n",
        "    gen_noise = torch.randn(64, nz, 1, 1, device=device)\n",
        "    with torch.no_grad():\n",
        "        fake = gen(gen_noise).detach().cpu()\n",
        "    eval_images += fake\n",
        "\n",
        "print(len(eval_images))\n",
        "print(eval_images[0].shape)\n",
        "print(inception_score(eval_images, cuda=True, batch_size=32, resize=True, splits=10))"
      ],
      "execution_count": 97,
      "outputs": [
        {
          "output_type": "stream",
          "text": [
            "6400\n",
            "torch.Size([3, 32, 32])\n"
          ],
          "name": "stdout"
        },
        {
          "output_type": "stream",
          "text": [
            "/usr/local/lib/python3.7/dist-packages/torch/nn/functional.py:3458: UserWarning: Default upsampling behavior when mode=bilinear is changed to align_corners=False since 0.4.0. Please specify align_corners=True if the old behavior is desired. See the documentation of nn.Upsample for details.\n",
            "  \"See the documentation of nn.Upsample for details.\".format(mode)\n",
            "/content/inception-score-pytorch/inception_score.py:44: UserWarning: Implicit dimension choice for softmax has been deprecated. Change the call to include dim=X as an argument.\n",
            "  return F.softmax(x).data.cpu().numpy()\n"
          ],
          "name": "stderr"
        },
        {
          "output_type": "stream",
          "text": [
            "(3.438273614111812, 0.06635492555676327)\n"
          ],
          "name": "stdout"
        }
      ]
    },
    {
      "cell_type": "markdown",
      "metadata": {
        "id": "x_jWcmWgSNsW"
      },
      "source": [
        "## 5개의 discriminator 사용"
      ]
    },
    {
      "cell_type": "code",
      "metadata": {
        "id": "L5evMQN3T3BJ"
      },
      "source": [
        "def train2(gen, discs, device, dataloader, optimizerG, criterion, epoch, iters):\n",
        "    gen.train()\n",
        "    img_list = []\n",
        "    fixed_noise = torch.randn(64, nz, 1, 1, device=device)\n",
        "\n",
        "    # Establish convention for real and fake labels during training (with label smoothing)\n",
        "    real_label = 0.9\n",
        "    fake_label = 0.1\n",
        "    for i, data in enumerate(dataloader, 0):\n",
        "\n",
        "        ## Train with all-real batch\n",
        "        for disc,optimizerD in discs:\n",
        "            #*****\n",
        "            # Update Discriminator\n",
        "            #*****\n",
        "            ## Train with all-real batch\n",
        "            disc.zero_grad()\n",
        "            # Format batch\n",
        "            real_cpu = data[0].to(device)\n",
        "            b_size = real_cpu.size(0)\n",
        "            label = torch.full((b_size,), real_label, device=device)\n",
        "            # Forward pass real batch through D\n",
        "            output = disc(real_cpu).view(-1)\n",
        "            # Calculate loss on all-real batch\n",
        "            errD_real = criterion(output, label)\n",
        "            # Calculate gradients for D in backward pass\n",
        "            errD_real.backward()\n",
        "            D_x = output.mean().item()\n",
        "\n",
        "            ## Train with all-fake batch\n",
        "            # Generate batch of latent vectors\n",
        "            noise = torch.randn(b_size, nz, 1, 1, device=device)\n",
        "            # Generate fake image batch with G\n",
        "            fake = gen(noise)\n",
        "            label.fill_(fake_label)\n",
        "            # Classify all fake batch with D\n",
        "            output = disc(fake.detach()).view(-1)\n",
        "            # Calculate D's loss on the all-fake batch\n",
        "            errD_fake = criterion(output, label)\n",
        "            # Calculate the gradients for this batch\n",
        "            errD_fake.backward()\n",
        "            D_G_z1 = output.mean().item()\n",
        "            # Add the gradients from the all-real and all-fake batches\n",
        "            errD = errD_real + errD_fake\n",
        "            # Update D\n",
        "            optimizerD.step()\n",
        "\n",
        "        #*****\n",
        "        # Update Generator\n",
        "        #*****\n",
        "\n",
        "        # Generate batch of latent vectors\n",
        "        #noise = torch.randn(b_size, nz, 1, 1, device=device)\n",
        "        # Generate fake image batch with G\n",
        "        #fake = gen(noise)\n",
        "        label.fill_(real_label)  # fake labels are real for generator cost\n",
        "        errGs = []\n",
        "        for disc,optimizerD in discs:\n",
        "            # Since we just updated D, perform another forward pass of all-fake batch through D\n",
        "            output = disc(fake).view(-1)\n",
        "            # Calculate G's loss based on this output\n",
        "            errG = criterion(output, label)\n",
        "            errGs.append(errG)\n",
        "\n",
        "        # Calculate gradients for G\n",
        "        ts = torch.stack(errGs)\n",
        "        #print(ts)\n",
        "        errGs = torch.sum(ts) #+ torch.std(ts)\n",
        "        gen.zero_grad()\n",
        "        errGs.backward()\n",
        "        D_G_z2 = errGs.item()\n",
        "        # Update G\n",
        "        optimizerG.step()\n",
        "\n",
        "        # Output training stats\n",
        "        if i % 50 == 0:\n",
        "            print('[%d/%d][%d/%d]\\tD(G(z)): %.4f'\n",
        "                % (epoch, num_epochs, i, len(dataloader),D_G_z2))\n",
        "            #wandb.log({\"Gen Loss\": errGs.item()})\n",
        "\n",
        "        iters += 1"
      ],
      "execution_count": 98,
      "outputs": []
    },
    {
      "cell_type": "code",
      "metadata": {
        "colab": {
          "base_uri": "https://localhost:8080/"
        },
        "id": "JJk8O77hSSgL",
        "outputId": "74e1483e-afaa-49d1-ed2a-e9fde7dd0759"
      },
      "source": [
        "# Number of training epochs\n",
        "num_epochs = 10  \n",
        "# Create the generator\n",
        "netG = Generator(ngpu).to(device)\n",
        "\n",
        "do_train = True\n",
        "\n",
        "if do_train:\n",
        "\n",
        "    # Handle multi-gpu if desired\n",
        "    if (device.type == 'cuda') and (ngpu > 1):\n",
        "        netG = nn.DataParallel(netG, list(range(ngpu)))\n",
        "\n",
        "    # Apply the weights_init function to randomly initialize all weights\n",
        "    #  to mean=0, stdev=0.2.\n",
        "    netG.apply(weights_init)\n",
        "\n",
        "    netDs = []\n",
        "    # Create the Discriminator\n",
        "    for i in range(5):\n",
        "        netD = Discriminator(ngpu).to(device)\n",
        "        # Handle multi-gpu if desired\n",
        "        if (device.type == 'cuda') and (ngpu > 1):\n",
        "            netD = nn.DataParallel(netD, list(range(ngpu)))\n",
        "        # Apply the weights_init function to randomly initialize all weights\n",
        "        #  to mean=0, stdev=0.2.\n",
        "        netD.apply(weights_init)\n",
        "\n",
        "        # Setup Adam optimizers for both G and D\n",
        "        optimizerD = optim.Adam(netD.parameters(), lr=lr, betas=(beta1, 0.999))\n",
        "\n",
        "        netDs.append((netD,optimizerD))\n",
        "\n",
        "    optimizerG = optim.Adam(netG.parameters(), lr=lr, betas=(beta1, 0.999))\n",
        "    # Initialize BCELoss function\n",
        "    criterion = nn.BCELoss()\n",
        "    iters = 0\n",
        "    for epoch in range(1, num_epochs + 1):\n",
        "        train2(netG, netDs, device, trainloader, optimizerG, criterion, epoch, iters)\n",
        "        \n",
        "    # WandB – Save the model checkpoint. This automatically saves a file to the cloud and associates it with the current run.\n",
        "    torch.save(netG.state_dict(), \"/content/drive/MyDrive/AMD-GAN/CIFAR10_GAN_model/5N_model.h5\")\n",
        "    #wandb.save('/content/drive/MyDrive/AMD-GAN/CIFAR10_GAN_model/model.h5')\n",
        "\n",
        "    gen = netG\n",
        "    gen.eval()\n",
        "else:\n",
        "    # Create the generator\n",
        "    gen = Generator(ngpu).to(device)\n",
        "    gen.load_state_dict(torch.load('/content/drive/MyDrive/AMD-GAN/CIFAR10_GAN_model/5N_model.h5'))\n",
        "    gen.eval()\n"
      ],
      "execution_count": 99,
      "outputs": [
        {
          "output_type": "stream",
          "text": [
            "[1/10][0/391]\tD(G(z)): 9.2624\n",
            "[1/10][50/391]\tD(G(z)): 19.8230\n",
            "[1/10][100/391]\tD(G(z)): 26.2917\n",
            "[1/10][150/391]\tD(G(z)): 12.1499\n",
            "[1/10][200/391]\tD(G(z)): 16.8065\n",
            "[1/10][250/391]\tD(G(z)): 12.0282\n",
            "[1/10][300/391]\tD(G(z)): 8.8059\n",
            "[1/10][350/391]\tD(G(z)): 8.9791\n",
            "[2/10][0/391]\tD(G(z)): 10.8328\n",
            "[2/10][50/391]\tD(G(z)): 12.3497\n",
            "[2/10][100/391]\tD(G(z)): 11.5570\n",
            "[2/10][150/391]\tD(G(z)): 10.1814\n",
            "[2/10][200/391]\tD(G(z)): 10.0817\n",
            "[2/10][250/391]\tD(G(z)): 11.4430\n",
            "[2/10][300/391]\tD(G(z)): 11.6850\n",
            "[2/10][350/391]\tD(G(z)): 12.5153\n",
            "[3/10][0/391]\tD(G(z)): 14.0240\n",
            "[3/10][50/391]\tD(G(z)): 10.7769\n",
            "[3/10][100/391]\tD(G(z)): 10.8757\n",
            "[3/10][150/391]\tD(G(z)): 7.5238\n",
            "[3/10][200/391]\tD(G(z)): 9.2321\n",
            "[3/10][250/391]\tD(G(z)): 9.1401\n",
            "[3/10][300/391]\tD(G(z)): 8.6454\n",
            "[3/10][350/391]\tD(G(z)): 8.8314\n",
            "[4/10][0/391]\tD(G(z)): 10.8952\n",
            "[4/10][50/391]\tD(G(z)): 11.0549\n",
            "[4/10][100/391]\tD(G(z)): 8.0859\n",
            "[4/10][150/391]\tD(G(z)): 8.1304\n",
            "[4/10][200/391]\tD(G(z)): 8.9945\n",
            "[4/10][250/391]\tD(G(z)): 9.3036\n",
            "[4/10][300/391]\tD(G(z)): 8.8850\n",
            "[4/10][350/391]\tD(G(z)): 9.2047\n",
            "[5/10][0/391]\tD(G(z)): 7.8998\n",
            "[5/10][50/391]\tD(G(z)): 9.2133\n",
            "[5/10][100/391]\tD(G(z)): 7.6063\n",
            "[5/10][150/391]\tD(G(z)): 10.2029\n",
            "[5/10][200/391]\tD(G(z)): 7.7498\n",
            "[5/10][250/391]\tD(G(z)): 8.5668\n",
            "[5/10][300/391]\tD(G(z)): 7.6765\n",
            "[5/10][350/391]\tD(G(z)): 8.3454\n",
            "[6/10][0/391]\tD(G(z)): 6.1806\n",
            "[6/10][50/391]\tD(G(z)): 7.1769\n",
            "[6/10][100/391]\tD(G(z)): 8.3121\n",
            "[6/10][150/391]\tD(G(z)): 9.1065\n",
            "[6/10][200/391]\tD(G(z)): 8.4517\n",
            "[6/10][250/391]\tD(G(z)): 6.9929\n",
            "[6/10][300/391]\tD(G(z)): 7.6312\n",
            "[6/10][350/391]\tD(G(z)): 6.1042\n",
            "[7/10][0/391]\tD(G(z)): 7.6771\n",
            "[7/10][50/391]\tD(G(z)): 6.8054\n",
            "[7/10][100/391]\tD(G(z)): 7.0797\n",
            "[7/10][150/391]\tD(G(z)): 8.6263\n",
            "[7/10][200/391]\tD(G(z)): 7.2652\n",
            "[7/10][250/391]\tD(G(z)): 5.4847\n",
            "[7/10][300/391]\tD(G(z)): 5.6629\n",
            "[7/10][350/391]\tD(G(z)): 9.0283\n",
            "[8/10][0/391]\tD(G(z)): 8.2915\n",
            "[8/10][50/391]\tD(G(z)): 8.5196\n",
            "[8/10][100/391]\tD(G(z)): 9.5525\n",
            "[8/10][150/391]\tD(G(z)): 7.2072\n",
            "[8/10][200/391]\tD(G(z)): 5.0628\n",
            "[8/10][250/391]\tD(G(z)): 7.1695\n",
            "[8/10][300/391]\tD(G(z)): 8.3050\n",
            "[8/10][350/391]\tD(G(z)): 7.2087\n",
            "[9/10][0/391]\tD(G(z)): 5.8810\n",
            "[9/10][50/391]\tD(G(z)): 5.0975\n",
            "[9/10][100/391]\tD(G(z)): 6.5723\n",
            "[9/10][150/391]\tD(G(z)): 8.2371\n",
            "[9/10][200/391]\tD(G(z)): 7.1645\n",
            "[9/10][250/391]\tD(G(z)): 7.2731\n",
            "[9/10][300/391]\tD(G(z)): 4.8706\n",
            "[9/10][350/391]\tD(G(z)): 7.3001\n",
            "[10/10][0/391]\tD(G(z)): 7.2914\n",
            "[10/10][50/391]\tD(G(z)): 6.2358\n",
            "[10/10][100/391]\tD(G(z)): 5.7044\n",
            "[10/10][150/391]\tD(G(z)): 6.5856\n",
            "[10/10][200/391]\tD(G(z)): 8.7463\n",
            "[10/10][250/391]\tD(G(z)): 6.7003\n",
            "[10/10][300/391]\tD(G(z)): 7.9040\n",
            "[10/10][350/391]\tD(G(z)): 7.6321\n"
          ],
          "name": "stdout"
        }
      ]
    },
    {
      "cell_type": "code",
      "metadata": {
        "colab": {
          "base_uri": "https://localhost:8080/"
        },
        "id": "LB2g4RrIhARg",
        "outputId": "556d67be-e53e-46a0-9207-4a846d381c66"
      },
      "source": [
        "eval_images = []\n",
        "for i in range(100):\n",
        "    gen_noise = torch.randn(64, nz, 1, 1, device=device)\n",
        "    with torch.no_grad():\n",
        "        fake = gen(gen_noise).detach().cpu()\n",
        "    eval_images += fake\n",
        "\n",
        "print(len(eval_images))\n",
        "print(eval_images[0].shape)\n",
        "print(inception_score(eval_images, cuda=True, batch_size=32, resize=True, splits=10))"
      ],
      "execution_count": 101,
      "outputs": [
        {
          "output_type": "stream",
          "text": [
            "6400\n",
            "torch.Size([3, 32, 32])\n"
          ],
          "name": "stdout"
        },
        {
          "output_type": "stream",
          "text": [
            "/usr/local/lib/python3.7/dist-packages/torch/nn/functional.py:3458: UserWarning: Default upsampling behavior when mode=bilinear is changed to align_corners=False since 0.4.0. Please specify align_corners=True if the old behavior is desired. See the documentation of nn.Upsample for details.\n",
            "  \"See the documentation of nn.Upsample for details.\".format(mode)\n",
            "/content/inception-score-pytorch/inception_score.py:44: UserWarning: Implicit dimension choice for softmax has been deprecated. Change the call to include dim=X as an argument.\n",
            "  return F.softmax(x).data.cpu().numpy()\n"
          ],
          "name": "stderr"
        },
        {
          "output_type": "stream",
          "text": [
            "(3.9480818416156334, 0.07507320160753705)\n"
          ],
          "name": "stdout"
        }
      ]
    },
    {
      "cell_type": "code",
      "metadata": {
        "id": "iZXFxb2b7nV8"
      },
      "source": [
        "def train3(gen, discs, device, dataloader, optimizerG, criterion, epoch, iters):\n",
        "    gen.train()\n",
        "    img_list = []\n",
        "    fixed_noise = torch.randn(64, nz, 1, 1, device=device)\n",
        "\n",
        "    # Establish convention for real and fake labels during training (with label smoothing)\n",
        "    real_label = 0.9\n",
        "    fake_label = 0.1\n",
        "    for i, data in enumerate(dataloader, 0):\n",
        "\n",
        "        ## Train with all-real batch\n",
        "        for disc,optimizerD in discs:\n",
        "            #*****\n",
        "            # Update Discriminator\n",
        "            #*****\n",
        "            ## Train with all-real batch\n",
        "            disc.zero_grad()\n",
        "            # Format batch\n",
        "            real_cpu = data[0].to(device)\n",
        "            b_size = real_cpu.size(0)\n",
        "            label = torch.full((b_size,), real_label, device=device)\n",
        "            # Forward pass real batch through D\n",
        "            output = disc(real_cpu).view(-1)\n",
        "            # Calculate loss on all-real batch\n",
        "            errD_real = criterion(output, label)\n",
        "            # Calculate gradients for D in backward pass\n",
        "            errD_real.backward()\n",
        "            D_x = output.mean().item()\n",
        "\n",
        "            ## Train with all-fake batch\n",
        "            # Generate batch of latent vectors\n",
        "            noise = torch.randn(b_size, nz, 1, 1, device=device)\n",
        "            # Generate fake image batch with G\n",
        "            fake = gen(noise)\n",
        "            label.fill_(fake_label)\n",
        "            # Classify all fake batch with D\n",
        "            output = disc(fake.detach()).view(-1)\n",
        "            # Calculate D's loss on the all-fake batch\n",
        "            errD_fake = criterion(output, label)\n",
        "            # Calculate the gradients for this batch\n",
        "            errD_fake.backward()\n",
        "            D_G_z1 = output.mean().item()\n",
        "            # Add the gradients from the all-real and all-fake batches\n",
        "            errD = errD_real + errD_fake\n",
        "            # Update D\n",
        "            optimizerD.step()\n",
        "\n",
        "        #*****\n",
        "        # Update Generator\n",
        "        #*****\n",
        "\n",
        "        # Generate batch of latent vectors\n",
        "        #noise = torch.randn(b_size, nz, 1, 1, device=device)\n",
        "        # Generate fake image batch with G\n",
        "        #fake = gen(noise)\n",
        "        label.fill_(real_label)  # fake labels are real for generator cost\n",
        "        errGs = []\n",
        "        for disc,optimizerD in discs:\n",
        "            # Since we just updated D, perform another forward pass of all-fake batch through D\n",
        "            output = disc(fake).view(-1)\n",
        "            # Calculate G's loss based on this output\n",
        "            errG = criterion(output, label)\n",
        "            errGs.append(errG)\n",
        "\n",
        "        # Calculate gradients for G\n",
        "        ts = torch.stack(errGs)\n",
        "        #print(ts)\n",
        "        errGs = torch.sum(ts) + torch.std(ts)\n",
        "        gen.zero_grad()\n",
        "        errGs.backward()\n",
        "        D_G_z2 = errGs.item()\n",
        "        # Update G\n",
        "        optimizerG.step()\n",
        "\n",
        "        # Output training stats\n",
        "        if i % 50 == 0:\n",
        "            print('[%d/%d][%d/%d]\\tD(G(z)): %.4f'\n",
        "                % (epoch, num_epochs, i, len(dataloader),D_G_z2))\n",
        "            #wandb.log({\"Gen Loss\": errGs.item()})\n",
        "\n",
        "        iters += 1"
      ],
      "execution_count": 104,
      "outputs": []
    },
    {
      "cell_type": "code",
      "metadata": {
        "colab": {
          "base_uri": "https://localhost:8080/"
        },
        "id": "9spBoUXk7rBB",
        "outputId": "c004775d-441a-4e96-d3ce-2121cc96ed97"
      },
      "source": [
        "# Number of training epochs\n",
        "num_epochs = 10  \n",
        "# Create the generator\n",
        "netG = Generator(ngpu).to(device)\n",
        "\n",
        "do_train = True\n",
        "\n",
        "if do_train:\n",
        "\n",
        "    # Handle multi-gpu if desired\n",
        "    if (device.type == 'cuda') and (ngpu > 1):\n",
        "        netG = nn.DataParallel(netG, list(range(ngpu)))\n",
        "\n",
        "    # Apply the weights_init function to randomly initialize all weights\n",
        "    #  to mean=0, stdev=0.2.\n",
        "    netG.apply(weights_init)\n",
        "\n",
        "    netDs = []\n",
        "    # Create the Discriminator\n",
        "    for i in range(5):\n",
        "        netD = Discriminator(ngpu).to(device)\n",
        "        # Handle multi-gpu if desired\n",
        "        if (device.type == 'cuda') and (ngpu > 1):\n",
        "            netD = nn.DataParallel(netD, list(range(ngpu)))\n",
        "        # Apply the weights_init function to randomly initialize all weights\n",
        "        #  to mean=0, stdev=0.2.\n",
        "        netD.apply(weights_init)\n",
        "\n",
        "        # Setup Adam optimizers for both G and D\n",
        "        optimizerD = optim.Adam(netD.parameters(), lr=lr, betas=(beta1, 0.999))\n",
        "\n",
        "        netDs.append((netD,optimizerD))\n",
        "\n",
        "    optimizerG = optim.Adam(netG.parameters(), lr=lr, betas=(beta1, 0.999))\n",
        "    # Initialize BCELoss function\n",
        "    criterion = nn.BCELoss()\n",
        "    iters = 0\n",
        "    for epoch in range(1, num_epochs + 1):\n",
        "        train3(netG, netDs, device, trainloader, optimizerG, criterion, epoch, iters)\n",
        "        \n",
        "    # WandB – Save the model checkpoint. This automatically saves a file to the cloud and associates it with the current run.\n",
        "    torch.save(netG.state_dict(), \"/content/drive/MyDrive/AMD-GAN/CIFAR10_GAN_model/5N_STD_model.h5\")\n",
        "    #wandb.save('/content/drive/MyDrive/AMD-GAN/CIFAR10_GAN_model/model.h5')\n",
        "\n",
        "    gen = netG\n",
        "    gen.eval()\n",
        "else:\n",
        "    # Create the generator\n",
        "    gen = Generator(ngpu).to(device)\n",
        "    gen.load_state_dict(torch.load('/content/drive/MyDrive/AMD-GAN/CIFAR10_GAN_model/5N_STD_model.h5'))\n",
        "    gen.eval()\n"
      ],
      "execution_count": 106,
      "outputs": [
        {
          "output_type": "stream",
          "text": [
            "[1/10][0/391]\tD(G(z)): 8.0876\n",
            "[1/10][50/391]\tD(G(z)): 21.5548\n",
            "[1/10][100/391]\tD(G(z)): 11.2603\n",
            "[1/10][150/391]\tD(G(z)): 11.0670\n",
            "[1/10][200/391]\tD(G(z)): 14.1227\n",
            "[1/10][250/391]\tD(G(z)): 10.5748\n",
            "[1/10][300/391]\tD(G(z)): 13.7590\n",
            "[1/10][350/391]\tD(G(z)): 16.4686\n",
            "[2/10][0/391]\tD(G(z)): 12.6450\n",
            "[2/10][50/391]\tD(G(z)): 9.8553\n",
            "[2/10][100/391]\tD(G(z)): 10.9623\n",
            "[2/10][150/391]\tD(G(z)): 9.9955\n",
            "[2/10][200/391]\tD(G(z)): 12.1940\n",
            "[2/10][250/391]\tD(G(z)): 11.1015\n",
            "[2/10][300/391]\tD(G(z)): 11.0074\n",
            "[2/10][350/391]\tD(G(z)): 10.8370\n",
            "[3/10][0/391]\tD(G(z)): 9.6448\n",
            "[3/10][50/391]\tD(G(z)): 12.2066\n",
            "[3/10][100/391]\tD(G(z)): 9.5717\n",
            "[3/10][150/391]\tD(G(z)): 11.1829\n",
            "[3/10][200/391]\tD(G(z)): 9.6840\n",
            "[3/10][250/391]\tD(G(z)): 7.6574\n",
            "[3/10][300/391]\tD(G(z)): 9.6374\n",
            "[3/10][350/391]\tD(G(z)): 13.7010\n",
            "[4/10][0/391]\tD(G(z)): 10.5737\n",
            "[4/10][50/391]\tD(G(z)): 9.8210\n",
            "[4/10][100/391]\tD(G(z)): 12.2222\n",
            "[4/10][150/391]\tD(G(z)): 10.3449\n",
            "[4/10][200/391]\tD(G(z)): 10.3593\n",
            "[4/10][250/391]\tD(G(z)): 11.3310\n",
            "[4/10][300/391]\tD(G(z)): 9.4756\n",
            "[4/10][350/391]\tD(G(z)): 9.6751\n",
            "[5/10][0/391]\tD(G(z)): 12.9224\n",
            "[5/10][50/391]\tD(G(z)): 9.2699\n",
            "[5/10][100/391]\tD(G(z)): 7.6944\n",
            "[5/10][150/391]\tD(G(z)): 10.0461\n",
            "[5/10][200/391]\tD(G(z)): 13.0227\n",
            "[5/10][250/391]\tD(G(z)): 7.2660\n",
            "[5/10][300/391]\tD(G(z)): 7.6683\n",
            "[5/10][350/391]\tD(G(z)): 8.3633\n",
            "[6/10][0/391]\tD(G(z)): 6.9504\n",
            "[6/10][50/391]\tD(G(z)): 8.5136\n",
            "[6/10][100/391]\tD(G(z)): 7.8812\n",
            "[6/10][150/391]\tD(G(z)): 5.3222\n",
            "[6/10][200/391]\tD(G(z)): 8.1504\n",
            "[6/10][250/391]\tD(G(z)): 9.9829\n",
            "[6/10][300/391]\tD(G(z)): 10.9989\n",
            "[6/10][350/391]\tD(G(z)): 6.0114\n",
            "[7/10][0/391]\tD(G(z)): 8.6205\n",
            "[7/10][50/391]\tD(G(z)): 7.5651\n",
            "[7/10][100/391]\tD(G(z)): 10.1207\n",
            "[7/10][150/391]\tD(G(z)): 9.1045\n",
            "[7/10][200/391]\tD(G(z)): 8.4317\n",
            "[7/10][250/391]\tD(G(z)): 9.0798\n",
            "[7/10][300/391]\tD(G(z)): 8.2576\n",
            "[7/10][350/391]\tD(G(z)): 7.0463\n",
            "[8/10][0/391]\tD(G(z)): 7.7262\n",
            "[8/10][50/391]\tD(G(z)): 7.4384\n",
            "[8/10][100/391]\tD(G(z)): 9.0115\n",
            "[8/10][150/391]\tD(G(z)): 7.5123\n",
            "[8/10][200/391]\tD(G(z)): 8.0054\n",
            "[8/10][250/391]\tD(G(z)): 7.9218\n",
            "[8/10][300/391]\tD(G(z)): 7.4842\n",
            "[8/10][350/391]\tD(G(z)): 7.0696\n",
            "[9/10][0/391]\tD(G(z)): 7.1436\n",
            "[9/10][50/391]\tD(G(z)): 5.6027\n",
            "[9/10][100/391]\tD(G(z)): 8.5273\n",
            "[9/10][150/391]\tD(G(z)): 10.8911\n",
            "[9/10][200/391]\tD(G(z)): 9.7207\n",
            "[9/10][250/391]\tD(G(z)): 7.2665\n",
            "[9/10][300/391]\tD(G(z)): 5.9881\n",
            "[9/10][350/391]\tD(G(z)): 7.1261\n",
            "[10/10][0/391]\tD(G(z)): 6.3377\n",
            "[10/10][50/391]\tD(G(z)): 7.4589\n",
            "[10/10][100/391]\tD(G(z)): 8.5463\n",
            "[10/10][150/391]\tD(G(z)): 9.1364\n",
            "[10/10][200/391]\tD(G(z)): 6.6494\n",
            "[10/10][250/391]\tD(G(z)): 8.4990\n",
            "[10/10][300/391]\tD(G(z)): 5.0062\n",
            "[10/10][350/391]\tD(G(z)): 7.0277\n"
          ],
          "name": "stdout"
        }
      ]
    },
    {
      "cell_type": "code",
      "metadata": {
        "id": "AsMl2azH9EAy",
        "outputId": "9ddee51c-cff7-4959-e071-7b44daa19977",
        "colab": {
          "base_uri": "https://localhost:8080/"
        }
      },
      "source": [
        "eval_images = []\n",
        "for i in range(100):\n",
        "    gen_noise = torch.randn(64, nz, 1, 1, device=device)\n",
        "    with torch.no_grad():\n",
        "        fake = gen(gen_noise).detach().cpu()\n",
        "    eval_images += fake\n",
        "\n",
        "print(len(eval_images))\n",
        "print(eval_images[0].shape)\n",
        "print(inception_score(eval_images, cuda=True, batch_size=32, resize=True, splits=10))"
      ],
      "execution_count": 109,
      "outputs": [
        {
          "output_type": "stream",
          "text": [
            "6400\n",
            "torch.Size([3, 32, 32])\n"
          ],
          "name": "stdout"
        },
        {
          "output_type": "stream",
          "text": [
            "/usr/local/lib/python3.7/dist-packages/torch/nn/functional.py:3458: UserWarning: Default upsampling behavior when mode=bilinear is changed to align_corners=False since 0.4.0. Please specify align_corners=True if the old behavior is desired. See the documentation of nn.Upsample for details.\n",
            "  \"See the documentation of nn.Upsample for details.\".format(mode)\n",
            "/content/inception-score-pytorch/inception_score.py:44: UserWarning: Implicit dimension choice for softmax has been deprecated. Change the call to include dim=X as an argument.\n",
            "  return F.softmax(x).data.cpu().numpy()\n"
          ],
          "name": "stderr"
        },
        {
          "output_type": "stream",
          "text": [
            "(3.888416419204865, 0.07767291424473421)\n"
          ],
          "name": "stdout"
        }
      ]
    },
    {
      "cell_type": "code",
      "metadata": {
        "id": "7FCPp8QA-sBo"
      },
      "source": [
        "def train4(gen, discs, device, dataloader, optimizerG, criterion, epoch, iters,dfs):\n",
        "    gen.train()\n",
        "    img_list = []\n",
        "    fixed_noise = torch.randn(64, nz, 1, 1, device=device)\n",
        "\n",
        "    # Establish convention for real and fake labels during training (with label smoothing)\n",
        "    real_label = 0.9\n",
        "    fake_label = 0.1\n",
        "    for i, data in enumerate(dataloader, 0):\n",
        "\n",
        "        ## Train with all-real batch\n",
        "        for disc,optimizerD in discs:\n",
        "            #*****\n",
        "            # Update Discriminator\n",
        "            #*****\n",
        "            ## Train with all-real batch\n",
        "            disc.zero_grad()\n",
        "            # Format batch\n",
        "            real_cpu = data[0].to(device)\n",
        "            b_size = real_cpu.size(0)\n",
        "            label = torch.full((b_size,), real_label, device=device)\n",
        "            # Forward pass real batch through D\n",
        "            output = disc(real_cpu).view(-1)\n",
        "            # Calculate loss on all-real batch\n",
        "            errD_real = criterion(output, label)\n",
        "            # Calculate gradients for D in backward pass\n",
        "            errD_real.backward()\n",
        "            D_x = output.mean().item()\n",
        "\n",
        "            ## Train with all-fake batch\n",
        "            # Generate batch of latent vectors\n",
        "            noise = torch.randn(b_size, nz, 1, 1, device=device)\n",
        "            # Generate fake image batch with G\n",
        "            fake = gen(noise)\n",
        "            label.fill_(fake_label)\n",
        "            # Classify all fake batch with D\n",
        "            output = disc(fake.detach()).view(-1)\n",
        "            # Calculate D's loss on the all-fake batch\n",
        "            errD_fake = criterion(output, label)\n",
        "            # Calculate the gradients for this batch\n",
        "            errD_fake.backward()\n",
        "            D_G_z1 = output.mean().item()\n",
        "            # Add the gradients from the all-real and all-fake batches\n",
        "            errD = errD_real + errD_fake\n",
        "            # Update D\n",
        "            optimizerD.step()\n",
        "\n",
        "        #*****\n",
        "        # Update Generator\n",
        "        #*****\n",
        "\n",
        "        # Generate batch of latent vectors\n",
        "        #noise = torch.randn(b_size, nz, 1, 1, device=device)\n",
        "        # Generate fake image batch with G\n",
        "        #fake = gen(noise)\n",
        "        label.fill_(real_label)  # fake labels are real for generator cost\n",
        "        errGs = []\n",
        "        for disc,optimizerD in discs:\n",
        "            # Since we just updated D, perform another forward pass of all-fake batch through D\n",
        "            output = disc(fake).view(-1)\n",
        "            # Calculate G's loss based on this output\n",
        "            errG = criterion(output, label)\n",
        "            errGs.append(errG)\n",
        "\n",
        "        # Calculate gradients for G\n",
        "        ts = torch.stack(errGs)\n",
        "        #print(ts)\n",
        "        \n",
        "        errGs = torch.dot(dfs,ts) #+ torch.std(ts)\n",
        "        gen.zero_grad()\n",
        "        errGs.backward()\n",
        "        D_G_z2 = errGs.item()\n",
        "        # Update G\n",
        "        optimizerG.step()\n",
        "        learning_rate = 0.01\n",
        "        with torch.no_grad():\n",
        "            dfs += learning_rate * dfs.grad\n",
        "            dfs.grad = None                    \n",
        "            dfs[dfs < 0] = 0.1\n",
        "            dfs[0] = 1.0\n",
        "\n",
        "        # Output training stats\n",
        "        if i % 50 == 0:\n",
        "            print('[{}/{}][{}/{}]\\tD(G(z)): {:.4f} {}'.format(epoch, num_epochs, i, len(dataloader),D_G_z2,dfs))\n",
        "            #wandb.log({\"Gen Loss\": errGs.item()})\n",
        "\n",
        "        iters += 1"
      ],
      "execution_count": 120,
      "outputs": []
    },
    {
      "cell_type": "code",
      "metadata": {
        "id": "dYkVtIQM--KD",
        "outputId": "b9bfdcca-c29b-4e55-a37e-8d2c0b6b542a",
        "colab": {
          "base_uri": "https://localhost:8080/",
          "height": 562
        }
      },
      "source": [
        "# Number of training epochs\n",
        "num_epochs = 10  \n",
        "# Create the generator\n",
        "netG = Generator(ngpu).to(device)\n",
        "\n",
        "do_train = True\n",
        "\n",
        "if do_train:\n",
        "\n",
        "    # Handle multi-gpu if desired\n",
        "    if (device.type == 'cuda') and (ngpu > 1):\n",
        "        netG = nn.DataParallel(netG, list(range(ngpu)))\n",
        "\n",
        "    # Apply the weights_init function to randomly initialize all weights\n",
        "    #  to mean=0, stdev=0.2.\n",
        "    netG.apply(weights_init)\n",
        "\n",
        "    netDs = []\n",
        "    disc_cnt = 5\n",
        "    # Create the Discriminator\n",
        "    for i in range(disc_cnt):\n",
        "        netD = Discriminator(ngpu).to(device)\n",
        "        # Handle multi-gpu if desired\n",
        "        if (device.type == 'cuda') and (ngpu > 1):\n",
        "            netD = nn.DataParallel(netD, list(range(ngpu)))\n",
        "        # Apply the weights_init function to randomly initialize all weights\n",
        "        #  to mean=0, stdev=0.2.\n",
        "        netD.apply(weights_init)\n",
        "\n",
        "        # Setup Adam optimizers for both G and D\n",
        "        optimizerD = optim.Adam(netD.parameters(), lr=lr, betas=(beta1, 0.999))\n",
        "\n",
        "        netDs.append((netD,optimizerD))\n",
        "\n",
        "    optimizerG = optim.Adam(netG.parameters(), lr=lr, betas=(beta1, 0.999))\n",
        "    # Initialize BCELoss function\n",
        "    criterion = nn.BCELoss()\n",
        "    iters = 0\n",
        "    dfs = torch.ones((disc_cnt,), device=device, dtype=torch.float, requires_grad=True)\n",
        "    for epoch in range(1, num_epochs + 1):\n",
        "        train4(netG, netDs, device, trainloader, optimizerG, criterion, epoch, iters,dfs)\n",
        "        \n",
        "    # WandB – Save the model checkpoint. This automatically saves a file to the cloud and associates it with the current run.\n",
        "    torch.save(netG.state_dict(), \"/content/drive/MyDrive/AMD-GAN/CIFAR10_GAN_model/5N_STD_model.h5\")\n",
        "    #wandb.save('/content/drive/MyDrive/AMD-GAN/CIFAR10_GAN_model/model.h5')\n",
        "\n",
        "    gen = netG\n",
        "    gen.eval()\n",
        "else:\n",
        "    # Create the generator\n",
        "    gen = Generator(ngpu).to(device)\n",
        "    gen.load_state_dict(torch.load('/content/drive/MyDrive/AMD-GAN/CIFAR10_GAN_model/5N_STD_model.h5'))\n",
        "    gen.eval()\n"
      ],
      "execution_count": 121,
      "outputs": [
        {
          "output_type": "stream",
          "text": [
            "[1/10][0/391]\tD(G(z)): 8.8099 tensor([1.0000, 1.0184, 1.0187, 1.0183, 1.0162], device='cuda:0',\n",
            "       requires_grad=True)\n",
            "[1/10][50/391]\tD(G(z)): 54.4667 tensor([1.0000, 2.9663, 2.9344, 3.0770, 3.1209], device='cuda:0',\n",
            "       requires_grad=True)\n",
            "[1/10][100/391]\tD(G(z)): 35.1396 tensor([1.0000, 4.2388, 4.1792, 4.2658, 4.3403], device='cuda:0',\n",
            "       requires_grad=True)\n",
            "[1/10][150/391]\tD(G(z)): 73.2578 tensor([1.0000, 5.5130, 5.3656, 5.4567, 5.4136], device='cuda:0',\n",
            "       requires_grad=True)\n",
            "[1/10][200/391]\tD(G(z)): 50.2849 tensor([1.0000, 6.9414, 6.6608, 6.7600, 6.6816], device='cuda:0',\n",
            "       requires_grad=True)\n"
          ],
          "name": "stdout"
        },
        {
          "output_type": "error",
          "ename": "KeyboardInterrupt",
          "evalue": "ignored",
          "traceback": [
            "\u001b[0;31m---------------------------------------------------------------------------\u001b[0m",
            "\u001b[0;31mKeyboardInterrupt\u001b[0m                         Traceback (most recent call last)",
            "\u001b[0;32m<ipython-input-121-825b4d93d752>\u001b[0m in \u001b[0;36m<module>\u001b[0;34m()\u001b[0m\n\u001b[1;32m     39\u001b[0m     \u001b[0mdfs\u001b[0m \u001b[0;34m=\u001b[0m \u001b[0mtorch\u001b[0m\u001b[0;34m.\u001b[0m\u001b[0mones\u001b[0m\u001b[0;34m(\u001b[0m\u001b[0;34m(\u001b[0m\u001b[0mdisc_cnt\u001b[0m\u001b[0;34m,\u001b[0m\u001b[0;34m)\u001b[0m\u001b[0;34m,\u001b[0m \u001b[0mdevice\u001b[0m\u001b[0;34m=\u001b[0m\u001b[0mdevice\u001b[0m\u001b[0;34m,\u001b[0m \u001b[0mdtype\u001b[0m\u001b[0;34m=\u001b[0m\u001b[0mtorch\u001b[0m\u001b[0;34m.\u001b[0m\u001b[0mfloat\u001b[0m\u001b[0;34m,\u001b[0m \u001b[0mrequires_grad\u001b[0m\u001b[0;34m=\u001b[0m\u001b[0;32mTrue\u001b[0m\u001b[0;34m)\u001b[0m\u001b[0;34m\u001b[0m\u001b[0;34m\u001b[0m\u001b[0m\n\u001b[1;32m     40\u001b[0m     \u001b[0;32mfor\u001b[0m \u001b[0mepoch\u001b[0m \u001b[0;32min\u001b[0m \u001b[0mrange\u001b[0m\u001b[0;34m(\u001b[0m\u001b[0;36m1\u001b[0m\u001b[0;34m,\u001b[0m \u001b[0mnum_epochs\u001b[0m \u001b[0;34m+\u001b[0m \u001b[0;36m1\u001b[0m\u001b[0;34m)\u001b[0m\u001b[0;34m:\u001b[0m\u001b[0;34m\u001b[0m\u001b[0;34m\u001b[0m\u001b[0m\n\u001b[0;32m---> 41\u001b[0;31m         \u001b[0mtrain4\u001b[0m\u001b[0;34m(\u001b[0m\u001b[0mnetG\u001b[0m\u001b[0;34m,\u001b[0m \u001b[0mnetDs\u001b[0m\u001b[0;34m,\u001b[0m \u001b[0mdevice\u001b[0m\u001b[0;34m,\u001b[0m \u001b[0mtrainloader\u001b[0m\u001b[0;34m,\u001b[0m \u001b[0moptimizerG\u001b[0m\u001b[0;34m,\u001b[0m \u001b[0mcriterion\u001b[0m\u001b[0;34m,\u001b[0m \u001b[0mepoch\u001b[0m\u001b[0;34m,\u001b[0m \u001b[0miters\u001b[0m\u001b[0;34m,\u001b[0m\u001b[0mdfs\u001b[0m\u001b[0;34m)\u001b[0m\u001b[0;34m\u001b[0m\u001b[0;34m\u001b[0m\u001b[0m\n\u001b[0m\u001b[1;32m     42\u001b[0m \u001b[0;34m\u001b[0m\u001b[0m\n\u001b[1;32m     43\u001b[0m     \u001b[0;31m# WandB – Save the model checkpoint. This automatically saves a file to the cloud and associates it with the current run.\u001b[0m\u001b[0;34m\u001b[0m\u001b[0;34m\u001b[0m\u001b[0;34m\u001b[0m\u001b[0m\n",
            "\u001b[0;32m<ipython-input-120-a3da981867e5>\u001b[0m in \u001b[0;36mtrain4\u001b[0;34m(gen, discs, device, dataloader, optimizerG, criterion, epoch, iters, dfs)\u001b[0m\n\u001b[1;32m     35\u001b[0m             \u001b[0mlabel\u001b[0m\u001b[0;34m.\u001b[0m\u001b[0mfill_\u001b[0m\u001b[0;34m(\u001b[0m\u001b[0mfake_label\u001b[0m\u001b[0;34m)\u001b[0m\u001b[0;34m\u001b[0m\u001b[0;34m\u001b[0m\u001b[0m\n\u001b[1;32m     36\u001b[0m             \u001b[0;31m# Classify all fake batch with D\u001b[0m\u001b[0;34m\u001b[0m\u001b[0;34m\u001b[0m\u001b[0;34m\u001b[0m\u001b[0m\n\u001b[0;32m---> 37\u001b[0;31m             \u001b[0moutput\u001b[0m \u001b[0;34m=\u001b[0m \u001b[0mdisc\u001b[0m\u001b[0;34m(\u001b[0m\u001b[0mfake\u001b[0m\u001b[0;34m.\u001b[0m\u001b[0mdetach\u001b[0m\u001b[0;34m(\u001b[0m\u001b[0;34m)\u001b[0m\u001b[0;34m)\u001b[0m\u001b[0;34m.\u001b[0m\u001b[0mview\u001b[0m\u001b[0;34m(\u001b[0m\u001b[0;34m-\u001b[0m\u001b[0;36m1\u001b[0m\u001b[0;34m)\u001b[0m\u001b[0;34m\u001b[0m\u001b[0;34m\u001b[0m\u001b[0m\n\u001b[0m\u001b[1;32m     38\u001b[0m             \u001b[0;31m# Calculate D's loss on the all-fake batch\u001b[0m\u001b[0;34m\u001b[0m\u001b[0;34m\u001b[0m\u001b[0;34m\u001b[0m\u001b[0m\n\u001b[1;32m     39\u001b[0m             \u001b[0merrD_fake\u001b[0m \u001b[0;34m=\u001b[0m \u001b[0mcriterion\u001b[0m\u001b[0;34m(\u001b[0m\u001b[0moutput\u001b[0m\u001b[0;34m,\u001b[0m \u001b[0mlabel\u001b[0m\u001b[0;34m)\u001b[0m\u001b[0;34m\u001b[0m\u001b[0;34m\u001b[0m\u001b[0m\n",
            "\u001b[0;32m/usr/local/lib/python3.7/dist-packages/torch/nn/modules/module.py\u001b[0m in \u001b[0;36m_call_impl\u001b[0;34m(self, *input, **kwargs)\u001b[0m\n\u001b[1;32m    887\u001b[0m             \u001b[0mresult\u001b[0m \u001b[0;34m=\u001b[0m \u001b[0mself\u001b[0m\u001b[0;34m.\u001b[0m\u001b[0m_slow_forward\u001b[0m\u001b[0;34m(\u001b[0m\u001b[0;34m*\u001b[0m\u001b[0minput\u001b[0m\u001b[0;34m,\u001b[0m \u001b[0;34m**\u001b[0m\u001b[0mkwargs\u001b[0m\u001b[0;34m)\u001b[0m\u001b[0;34m\u001b[0m\u001b[0;34m\u001b[0m\u001b[0m\n\u001b[1;32m    888\u001b[0m         \u001b[0;32melse\u001b[0m\u001b[0;34m:\u001b[0m\u001b[0;34m\u001b[0m\u001b[0;34m\u001b[0m\u001b[0m\n\u001b[0;32m--> 889\u001b[0;31m             \u001b[0mresult\u001b[0m \u001b[0;34m=\u001b[0m \u001b[0mself\u001b[0m\u001b[0;34m.\u001b[0m\u001b[0mforward\u001b[0m\u001b[0;34m(\u001b[0m\u001b[0;34m*\u001b[0m\u001b[0minput\u001b[0m\u001b[0;34m,\u001b[0m \u001b[0;34m**\u001b[0m\u001b[0mkwargs\u001b[0m\u001b[0;34m)\u001b[0m\u001b[0;34m\u001b[0m\u001b[0;34m\u001b[0m\u001b[0m\n\u001b[0m\u001b[1;32m    890\u001b[0m         for hook in itertools.chain(\n\u001b[1;32m    891\u001b[0m                 \u001b[0m_global_forward_hooks\u001b[0m\u001b[0;34m.\u001b[0m\u001b[0mvalues\u001b[0m\u001b[0;34m(\u001b[0m\u001b[0;34m)\u001b[0m\u001b[0;34m,\u001b[0m\u001b[0;34m\u001b[0m\u001b[0;34m\u001b[0m\u001b[0m\n",
            "\u001b[0;32m<ipython-input-6-9199d4f788dd>\u001b[0m in \u001b[0;36mforward\u001b[0;34m(self, input)\u001b[0m\n\u001b[1;32m     18\u001b[0m \u001b[0;34m\u001b[0m\u001b[0m\n\u001b[1;32m     19\u001b[0m     \u001b[0;32mdef\u001b[0m \u001b[0mforward\u001b[0m\u001b[0;34m(\u001b[0m\u001b[0mself\u001b[0m\u001b[0;34m,\u001b[0m \u001b[0minput\u001b[0m\u001b[0;34m)\u001b[0m\u001b[0;34m:\u001b[0m\u001b[0;34m\u001b[0m\u001b[0;34m\u001b[0m\u001b[0m\n\u001b[0;32m---> 20\u001b[0;31m         \u001b[0;32mreturn\u001b[0m \u001b[0mself\u001b[0m\u001b[0;34m.\u001b[0m\u001b[0mmain\u001b[0m\u001b[0;34m(\u001b[0m\u001b[0minput\u001b[0m\u001b[0;34m)\u001b[0m\u001b[0;34m\u001b[0m\u001b[0;34m\u001b[0m\u001b[0m\n\u001b[0m",
            "\u001b[0;32m/usr/local/lib/python3.7/dist-packages/torch/nn/modules/module.py\u001b[0m in \u001b[0;36m_call_impl\u001b[0;34m(self, *input, **kwargs)\u001b[0m\n\u001b[1;32m    887\u001b[0m             \u001b[0mresult\u001b[0m \u001b[0;34m=\u001b[0m \u001b[0mself\u001b[0m\u001b[0;34m.\u001b[0m\u001b[0m_slow_forward\u001b[0m\u001b[0;34m(\u001b[0m\u001b[0;34m*\u001b[0m\u001b[0minput\u001b[0m\u001b[0;34m,\u001b[0m \u001b[0;34m**\u001b[0m\u001b[0mkwargs\u001b[0m\u001b[0;34m)\u001b[0m\u001b[0;34m\u001b[0m\u001b[0;34m\u001b[0m\u001b[0m\n\u001b[1;32m    888\u001b[0m         \u001b[0;32melse\u001b[0m\u001b[0;34m:\u001b[0m\u001b[0;34m\u001b[0m\u001b[0;34m\u001b[0m\u001b[0m\n\u001b[0;32m--> 889\u001b[0;31m             \u001b[0mresult\u001b[0m \u001b[0;34m=\u001b[0m \u001b[0mself\u001b[0m\u001b[0;34m.\u001b[0m\u001b[0mforward\u001b[0m\u001b[0;34m(\u001b[0m\u001b[0;34m*\u001b[0m\u001b[0minput\u001b[0m\u001b[0;34m,\u001b[0m \u001b[0;34m**\u001b[0m\u001b[0mkwargs\u001b[0m\u001b[0;34m)\u001b[0m\u001b[0;34m\u001b[0m\u001b[0;34m\u001b[0m\u001b[0m\n\u001b[0m\u001b[1;32m    890\u001b[0m         for hook in itertools.chain(\n\u001b[1;32m    891\u001b[0m                 \u001b[0m_global_forward_hooks\u001b[0m\u001b[0;34m.\u001b[0m\u001b[0mvalues\u001b[0m\u001b[0;34m(\u001b[0m\u001b[0;34m)\u001b[0m\u001b[0;34m,\u001b[0m\u001b[0;34m\u001b[0m\u001b[0;34m\u001b[0m\u001b[0m\n",
            "\u001b[0;32m/usr/local/lib/python3.7/dist-packages/torch/nn/modules/container.py\u001b[0m in \u001b[0;36mforward\u001b[0;34m(self, input)\u001b[0m\n\u001b[1;32m    117\u001b[0m     \u001b[0;32mdef\u001b[0m \u001b[0mforward\u001b[0m\u001b[0;34m(\u001b[0m\u001b[0mself\u001b[0m\u001b[0;34m,\u001b[0m \u001b[0minput\u001b[0m\u001b[0;34m)\u001b[0m\u001b[0;34m:\u001b[0m\u001b[0;34m\u001b[0m\u001b[0;34m\u001b[0m\u001b[0m\n\u001b[1;32m    118\u001b[0m         \u001b[0;32mfor\u001b[0m \u001b[0mmodule\u001b[0m \u001b[0;32min\u001b[0m \u001b[0mself\u001b[0m\u001b[0;34m:\u001b[0m\u001b[0;34m\u001b[0m\u001b[0;34m\u001b[0m\u001b[0m\n\u001b[0;32m--> 119\u001b[0;31m             \u001b[0minput\u001b[0m \u001b[0;34m=\u001b[0m \u001b[0mmodule\u001b[0m\u001b[0;34m(\u001b[0m\u001b[0minput\u001b[0m\u001b[0;34m)\u001b[0m\u001b[0;34m\u001b[0m\u001b[0;34m\u001b[0m\u001b[0m\n\u001b[0m\u001b[1;32m    120\u001b[0m         \u001b[0;32mreturn\u001b[0m \u001b[0minput\u001b[0m\u001b[0;34m\u001b[0m\u001b[0;34m\u001b[0m\u001b[0m\n\u001b[1;32m    121\u001b[0m \u001b[0;34m\u001b[0m\u001b[0m\n",
            "\u001b[0;32m/usr/local/lib/python3.7/dist-packages/torch/nn/modules/module.py\u001b[0m in \u001b[0;36m_call_impl\u001b[0;34m(self, *input, **kwargs)\u001b[0m\n\u001b[1;32m    889\u001b[0m             \u001b[0mresult\u001b[0m \u001b[0;34m=\u001b[0m \u001b[0mself\u001b[0m\u001b[0;34m.\u001b[0m\u001b[0mforward\u001b[0m\u001b[0;34m(\u001b[0m\u001b[0;34m*\u001b[0m\u001b[0minput\u001b[0m\u001b[0;34m,\u001b[0m \u001b[0;34m**\u001b[0m\u001b[0mkwargs\u001b[0m\u001b[0;34m)\u001b[0m\u001b[0;34m\u001b[0m\u001b[0;34m\u001b[0m\u001b[0m\n\u001b[1;32m    890\u001b[0m         for hook in itertools.chain(\n\u001b[0;32m--> 891\u001b[0;31m                 \u001b[0m_global_forward_hooks\u001b[0m\u001b[0;34m.\u001b[0m\u001b[0mvalues\u001b[0m\u001b[0;34m(\u001b[0m\u001b[0;34m)\u001b[0m\u001b[0;34m,\u001b[0m\u001b[0;34m\u001b[0m\u001b[0;34m\u001b[0m\u001b[0m\n\u001b[0m\u001b[1;32m    892\u001b[0m                 self._forward_hooks.values()):\n\u001b[1;32m    893\u001b[0m             \u001b[0mhook_result\u001b[0m \u001b[0;34m=\u001b[0m \u001b[0mhook\u001b[0m\u001b[0;34m(\u001b[0m\u001b[0mself\u001b[0m\u001b[0;34m,\u001b[0m \u001b[0minput\u001b[0m\u001b[0;34m,\u001b[0m \u001b[0mresult\u001b[0m\u001b[0;34m)\u001b[0m\u001b[0;34m\u001b[0m\u001b[0;34m\u001b[0m\u001b[0m\n",
            "\u001b[0;31mKeyboardInterrupt\u001b[0m: "
          ]
        }
      ]
    }
  ]
}